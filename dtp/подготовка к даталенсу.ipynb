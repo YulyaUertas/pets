{
 "cells": [
  {
   "cell_type": "markdown",
   "id": "9cfced1f",
   "metadata": {
    "toc": true
   },
   "source": [
    "<h1>Table of Contents<span class=\"tocSkip\"></span></h1>\n",
    "<div class=\"toc\"><ul class=\"toc-item\"></ul></div>"
   ]
  },
  {
   "cell_type": "code",
   "execution_count": 1,
   "id": "514b5408",
   "metadata": {},
   "outputs": [],
   "source": [
    "import pandas as pd\n"
   ]
  },
  {
   "cell_type": "code",
   "execution_count": null,
   "id": "21353203",
   "metadata": {},
   "outputs": [],
   "source": [
    "dk_processed.to_csv('/Users/juliagrebeneva/Desktop/dk_processed.csv', index=False)\n",
    "drivers_info_df_processed.to_csv('/Users/juliagrebeneva/Desktop/drivers_info_df_processed.csv', index=False)\n",
    "participants_info_df_processed.to_csv('/Users/juliagrebeneva/Desktop/participants_info_df_processed.csv', index=False)"
   ]
  },
  {
   "cell_type": "code",
   "execution_count": 112,
   "id": "0d5913a4",
   "metadata": {},
   "outputs": [],
   "source": [
    "dk_processed=pd.read_csv('/Users/juliagrebeneva/Desktop/dk_processed.csv')"
   ]
  },
  {
   "cell_type": "code",
   "execution_count": 113,
   "id": "542eed48",
   "metadata": {},
   "outputs": [
    {
     "name": "stdout",
     "output_type": "stream",
     "text": [
      "<class 'pandas.core.frame.DataFrame'>\n",
      "RangeIndex: 1411646 entries, 0 to 1411645\n",
      "Data columns (total 21 columns):\n",
      " #   Column                     Non-Null Count    Dtype \n",
      "---  ------                     --------------    ----- \n",
      " 0   id                         1411646 non-null  int64 \n",
      " 1   tags                       1411646 non-null  int64 \n",
      " 2   light                      1411646 non-null  object\n",
      " 3   point                      1411646 non-null  object\n",
      " 4   nearby                     1165101 non-null  object\n",
      " 5   region                     1411646 non-null  object\n",
      " 6   weather                    1411646 non-null  object\n",
      " 7   category                   1411646 non-null  object\n",
      " 8   severity                   1411646 non-null  object\n",
      " 9   dead_count                 1411646 non-null  int64 \n",
      " 10  injured_count              1411646 non-null  int64 \n",
      " 11  parent_region              1411646 non-null  object\n",
      " 12  participants_count         1411646 non-null  int64 \n",
      " 13  date                       1411646 non-null  object\n",
      " 14  time                       1411646 non-null  object\n",
      " 15  road_surface               1411646 non-null  object\n",
      " 16  road_lack_safety_features  1411646 non-null  object\n",
      " 17  all_participants           1411646 non-null  int64 \n",
      " 18  pedestrians                1411646 non-null  int64 \n",
      " 19  motorcyclists              1411646 non-null  int64 \n",
      " 20  children                   1411646 non-null  int64 \n",
      "dtypes: int64(9), object(12)\n",
      "memory usage: 226.2+ MB\n"
     ]
    }
   ],
   "source": [
    "dk_processed.info()"
   ]
  },
  {
   "cell_type": "code",
   "execution_count": 114,
   "id": "e9adf87a",
   "metadata": {},
   "outputs": [],
   "source": [
    "dk_processed['id']=dk_processed['id'].astype('int32')\n",
    "dk_processed['tags']=dk_processed['tags'].astype('int8')\n",
    "dk_processed['dead_count']=dk_processed['dead_count'].astype('int8')\n",
    "dk_processed['injured_count']=dk_processed['injured_count'].astype('int8')\n",
    "dk_processed['all_participants']=dk_processed['all_participants'].astype('int8')\n",
    "dk_processed['pedestrians']=dk_processed['pedestrians'].astype('int8')\n",
    "dk_processed['motorcyclists']=dk_processed['motorcyclists'].astype('int8')\n",
    "dk_processed['children']=dk_processed['children'].astype('int8')\n",
    "dk_processed['participants_count']=dk_processed['participants_count'].astype('int8')"
   ]
  },
  {
   "cell_type": "code",
   "execution_count": 115,
   "id": "81b7f2bb",
   "metadata": {},
   "outputs": [],
   "source": [
    "dk_processed.drop('nearby', axis=1, inplace=True)\n"
   ]
  },
  {
   "cell_type": "code",
   "execution_count": 116,
   "id": "ee774e22",
   "metadata": {},
   "outputs": [
    {
     "name": "stdout",
     "output_type": "stream",
     "text": [
      "<class 'pandas.core.frame.DataFrame'>\n",
      "RangeIndex: 1411646 entries, 0 to 1411645\n",
      "Data columns (total 20 columns):\n",
      " #   Column                     Non-Null Count    Dtype \n",
      "---  ------                     --------------    ----- \n",
      " 0   id                         1411646 non-null  int32 \n",
      " 1   tags                       1411646 non-null  int8  \n",
      " 2   light                      1411646 non-null  object\n",
      " 3   point                      1411646 non-null  object\n",
      " 4   region                     1411646 non-null  object\n",
      " 5   weather                    1411646 non-null  object\n",
      " 6   category                   1411646 non-null  object\n",
      " 7   severity                   1411646 non-null  object\n",
      " 8   dead_count                 1411646 non-null  int8  \n",
      " 9   injured_count              1411646 non-null  int8  \n",
      " 10  parent_region              1411646 non-null  object\n",
      " 11  participants_count         1411646 non-null  int8  \n",
      " 12  date                       1411646 non-null  object\n",
      " 13  time                       1411646 non-null  object\n",
      " 14  road_surface               1411646 non-null  object\n",
      " 15  road_lack_safety_features  1411646 non-null  object\n",
      " 16  all_participants           1411646 non-null  int8  \n",
      " 17  pedestrians                1411646 non-null  int8  \n",
      " 18  motorcyclists              1411646 non-null  int8  \n",
      " 19  children                   1411646 non-null  int8  \n",
      "dtypes: int32(1), int8(8), object(11)\n",
      "memory usage: 134.6+ MB\n"
     ]
    }
   ],
   "source": [
    "dk_processed.info()"
   ]
  },
  {
   "cell_type": "code",
   "execution_count": 117,
   "id": "f388dc64",
   "metadata": {},
   "outputs": [],
   "source": [
    "dk_processed['time'] = dk_processed['time'].str.split(':').str[0]\n"
   ]
  },
  {
   "cell_type": "code",
   "execution_count": 118,
   "id": "a5b21a73",
   "metadata": {},
   "outputs": [],
   "source": [
    "dk_processed['time']=dk_processed['time'].astype('int8')"
   ]
  },
  {
   "cell_type": "code",
   "execution_count": 119,
   "id": "4c4658f5",
   "metadata": {},
   "outputs": [
    {
     "name": "stdout",
     "output_type": "stream",
     "text": [
      "<class 'pandas.core.frame.DataFrame'>\n",
      "RangeIndex: 1411646 entries, 0 to 1411645\n",
      "Data columns (total 20 columns):\n",
      " #   Column                     Non-Null Count    Dtype \n",
      "---  ------                     --------------    ----- \n",
      " 0   id                         1411646 non-null  int32 \n",
      " 1   tags                       1411646 non-null  int8  \n",
      " 2   light                      1411646 non-null  object\n",
      " 3   point                      1411646 non-null  object\n",
      " 4   region                     1411646 non-null  object\n",
      " 5   weather                    1411646 non-null  object\n",
      " 6   category                   1411646 non-null  object\n",
      " 7   severity                   1411646 non-null  object\n",
      " 8   dead_count                 1411646 non-null  int8  \n",
      " 9   injured_count              1411646 non-null  int8  \n",
      " 10  parent_region              1411646 non-null  object\n",
      " 11  participants_count         1411646 non-null  int8  \n",
      " 12  date                       1411646 non-null  object\n",
      " 13  time                       1411646 non-null  int8  \n",
      " 14  road_surface               1411646 non-null  object\n",
      " 15  road_lack_safety_features  1411646 non-null  object\n",
      " 16  all_participants           1411646 non-null  int8  \n",
      " 17  pedestrians                1411646 non-null  int8  \n",
      " 18  motorcyclists              1411646 non-null  int8  \n",
      " 19  children                   1411646 non-null  int8  \n",
      "dtypes: int32(1), int8(9), object(10)\n",
      "memory usage: 125.2+ MB\n"
     ]
    }
   ],
   "source": [
    "dk_processed.info()"
   ]
  },
  {
   "cell_type": "code",
   "execution_count": 120,
   "id": "56cc4fa7",
   "metadata": {},
   "outputs": [],
   "source": [
    "dk_processed.drop('all_participants', axis=1, inplace=True)\n"
   ]
  },
  {
   "cell_type": "code",
   "execution_count": 121,
   "id": "7336c61d",
   "metadata": {},
   "outputs": [
    {
     "name": "stdout",
     "output_type": "stream",
     "text": [
      "<class 'pandas.core.frame.DataFrame'>\n",
      "RangeIndex: 1411646 entries, 0 to 1411645\n",
      "Data columns (total 19 columns):\n",
      " #   Column                     Non-Null Count    Dtype \n",
      "---  ------                     --------------    ----- \n",
      " 0   id                         1411646 non-null  int32 \n",
      " 1   tags                       1411646 non-null  int8  \n",
      " 2   light                      1411646 non-null  object\n",
      " 3   point                      1411646 non-null  object\n",
      " 4   region                     1411646 non-null  object\n",
      " 5   weather                    1411646 non-null  object\n",
      " 6   category                   1411646 non-null  object\n",
      " 7   severity                   1411646 non-null  object\n",
      " 8   dead_count                 1411646 non-null  int8  \n",
      " 9   injured_count              1411646 non-null  int8  \n",
      " 10  parent_region              1411646 non-null  object\n",
      " 11  participants_count         1411646 non-null  int8  \n",
      " 12  date                       1411646 non-null  object\n",
      " 13  time                       1411646 non-null  int8  \n",
      " 14  road_surface               1411646 non-null  object\n",
      " 15  road_lack_safety_features  1411646 non-null  object\n",
      " 16  pedestrians                1411646 non-null  int8  \n",
      " 17  motorcyclists              1411646 non-null  int8  \n",
      " 18  children                   1411646 non-null  int8  \n",
      "dtypes: int32(1), int8(8), object(10)\n",
      "memory usage: 123.9+ MB\n"
     ]
    }
   ],
   "source": [
    "dk_processed.info()"
   ]
  },
  {
   "cell_type": "code",
   "execution_count": 122,
   "id": "7434bc85",
   "metadata": {},
   "outputs": [],
   "source": [
    "dk_processed.drop('region', axis=1, inplace=True)\n"
   ]
  },
  {
   "cell_type": "code",
   "execution_count": 123,
   "id": "49af07c7",
   "metadata": {},
   "outputs": [
    {
     "name": "stdout",
     "output_type": "stream",
     "text": [
      "<class 'pandas.core.frame.DataFrame'>\n",
      "RangeIndex: 1411646 entries, 0 to 1411645\n",
      "Data columns (total 18 columns):\n",
      " #   Column                     Non-Null Count    Dtype \n",
      "---  ------                     --------------    ----- \n",
      " 0   id                         1411646 non-null  int32 \n",
      " 1   tags                       1411646 non-null  int8  \n",
      " 2   light                      1411646 non-null  object\n",
      " 3   point                      1411646 non-null  object\n",
      " 4   weather                    1411646 non-null  object\n",
      " 5   category                   1411646 non-null  object\n",
      " 6   severity                   1411646 non-null  object\n",
      " 7   dead_count                 1411646 non-null  int8  \n",
      " 8   injured_count              1411646 non-null  int8  \n",
      " 9   parent_region              1411646 non-null  object\n",
      " 10  participants_count         1411646 non-null  int8  \n",
      " 11  date                       1411646 non-null  object\n",
      " 12  time                       1411646 non-null  int8  \n",
      " 13  road_surface               1411646 non-null  object\n",
      " 14  road_lack_safety_features  1411646 non-null  object\n",
      " 15  pedestrians                1411646 non-null  int8  \n",
      " 16  motorcyclists              1411646 non-null  int8  \n",
      " 17  children                   1411646 non-null  int8  \n",
      "dtypes: int32(1), int8(8), object(9)\n",
      "memory usage: 113.1+ MB\n"
     ]
    }
   ],
   "source": [
    "dk_processed.info()"
   ]
  },
  {
   "cell_type": "code",
   "execution_count": 124,
   "id": "467c781b",
   "metadata": {},
   "outputs": [],
   "source": [
    "dk_processed.drop('road_lack_safety_features', axis=1, inplace=True)\n"
   ]
  },
  {
   "cell_type": "code",
   "execution_count": 125,
   "id": "b1d428e4",
   "metadata": {},
   "outputs": [
    {
     "name": "stdout",
     "output_type": "stream",
     "text": [
      "<class 'pandas.core.frame.DataFrame'>\n",
      "RangeIndex: 1411646 entries, 0 to 1411645\n",
      "Data columns (total 17 columns):\n",
      " #   Column              Non-Null Count    Dtype \n",
      "---  ------              --------------    ----- \n",
      " 0   id                  1411646 non-null  int32 \n",
      " 1   tags                1411646 non-null  int8  \n",
      " 2   light               1411646 non-null  object\n",
      " 3   point               1411646 non-null  object\n",
      " 4   weather             1411646 non-null  object\n",
      " 5   category            1411646 non-null  object\n",
      " 6   severity            1411646 non-null  object\n",
      " 7   dead_count          1411646 non-null  int8  \n",
      " 8   injured_count       1411646 non-null  int8  \n",
      " 9   parent_region       1411646 non-null  object\n",
      " 10  participants_count  1411646 non-null  int8  \n",
      " 11  date                1411646 non-null  object\n",
      " 12  time                1411646 non-null  int8  \n",
      " 13  road_surface        1411646 non-null  object\n",
      " 14  pedestrians         1411646 non-null  int8  \n",
      " 15  motorcyclists       1411646 non-null  int8  \n",
      " 16  children            1411646 non-null  int8  \n",
      "dtypes: int32(1), int8(8), object(8)\n",
      "memory usage: 102.3+ MB\n"
     ]
    }
   ],
   "source": [
    "dk_processed.info()"
   ]
  },
  {
   "cell_type": "code",
   "execution_count": 126,
   "id": "6dabbd28",
   "metadata": {},
   "outputs": [],
   "source": [
    "dk_processed.drop('tags', axis=1, inplace=True)\n"
   ]
  },
  {
   "cell_type": "code",
   "execution_count": 127,
   "id": "7db8fdbd",
   "metadata": {},
   "outputs": [],
   "source": [
    "dk_processed.drop('point', axis=1, inplace=True)\n"
   ]
  },
  {
   "cell_type": "code",
   "execution_count": 128,
   "id": "c4b26e38",
   "metadata": {},
   "outputs": [
    {
     "name": "stdout",
     "output_type": "stream",
     "text": [
      "<class 'pandas.core.frame.DataFrame'>\n",
      "RangeIndex: 1411646 entries, 0 to 1411645\n",
      "Data columns (total 15 columns):\n",
      " #   Column              Non-Null Count    Dtype \n",
      "---  ------              --------------    ----- \n",
      " 0   id                  1411646 non-null  int32 \n",
      " 1   light               1411646 non-null  object\n",
      " 2   weather             1411646 non-null  object\n",
      " 3   category            1411646 non-null  object\n",
      " 4   severity            1411646 non-null  object\n",
      " 5   dead_count          1411646 non-null  int8  \n",
      " 6   injured_count       1411646 non-null  int8  \n",
      " 7   parent_region       1411646 non-null  object\n",
      " 8   participants_count  1411646 non-null  int8  \n",
      " 9   date                1411646 non-null  object\n",
      " 10  time                1411646 non-null  int8  \n",
      " 11  road_surface        1411646 non-null  object\n",
      " 12  pedestrians         1411646 non-null  int8  \n",
      " 13  motorcyclists       1411646 non-null  int8  \n",
      " 14  children            1411646 non-null  int8  \n",
      "dtypes: int32(1), int8(7), object(7)\n",
      "memory usage: 90.2+ MB\n"
     ]
    }
   ],
   "source": [
    "dk_processed.info()"
   ]
  },
  {
   "cell_type": "code",
   "execution_count": 129,
   "id": "87dc4e67",
   "metadata": {},
   "outputs": [],
   "source": [
    "def simplify_category(category):\n",
    "    if 'Наезд' in category:\n",
    "        return 1\n",
    "    elif 'Столкновение' in category or 'Съезд с дороги' in category:\n",
    "        return 2\n",
    "    elif 'Падение' in category:\n",
    "        return 3\n",
    "    elif 'Техническая неисправность' in category:\n",
    "        return 4\n",
    "    else:\n",
    "        return 5\n",
    "\n",
    "dk_processed['category'] = dk_processed['category'].apply(simplify_category)\n"
   ]
  },
  {
   "cell_type": "code",
   "execution_count": 130,
   "id": "9067ec81",
   "metadata": {},
   "outputs": [],
   "source": [
    "dk_processed['category']=dk_processed['category'].astype('int8')"
   ]
  },
  {
   "cell_type": "code",
   "execution_count": 131,
   "id": "ce31f400",
   "metadata": {},
   "outputs": [
    {
     "name": "stdout",
     "output_type": "stream",
     "text": [
      "<class 'pandas.core.frame.DataFrame'>\n",
      "RangeIndex: 1411646 entries, 0 to 1411645\n",
      "Data columns (total 15 columns):\n",
      " #   Column              Non-Null Count    Dtype \n",
      "---  ------              --------------    ----- \n",
      " 0   id                  1411646 non-null  int32 \n",
      " 1   light               1411646 non-null  object\n",
      " 2   weather             1411646 non-null  object\n",
      " 3   category            1411646 non-null  int8  \n",
      " 4   severity            1411646 non-null  object\n",
      " 5   dead_count          1411646 non-null  int8  \n",
      " 6   injured_count       1411646 non-null  int8  \n",
      " 7   parent_region       1411646 non-null  object\n",
      " 8   participants_count  1411646 non-null  int8  \n",
      " 9   date                1411646 non-null  object\n",
      " 10  time                1411646 non-null  int8  \n",
      " 11  road_surface        1411646 non-null  object\n",
      " 12  pedestrians         1411646 non-null  int8  \n",
      " 13  motorcyclists       1411646 non-null  int8  \n",
      " 14  children            1411646 non-null  int8  \n",
      "dtypes: int32(1), int8(8), object(6)\n",
      "memory usage: 80.8+ MB\n"
     ]
    }
   ],
   "source": [
    "dk_processed.info()"
   ]
  },
  {
   "cell_type": "code",
   "execution_count": 132,
   "id": "04f793af",
   "metadata": {},
   "outputs": [],
   "source": [
    "def map_light_conditions(condition):\n",
    "    conditions_map = {\n",
    "        'Светлое время суток': 1,\n",
    "        'В темное время суток, освещение включено': 3,\n",
    "        'Сумерки': 2,\n",
    "        'В темное время суток, освещение не включено': 4,\n",
    "        'В темное время суток, освещение отсутствует': 5,\n",
    "        'Не установлено': 6  # или оставить None, если не хотите присваивать значение этому случаю\n",
    "    }\n",
    "    \n",
    "    return conditions_map.get(condition, None)\n",
    "\n",
    "dk_processed['light'] = dk_processed['light'].apply(map_light_conditions).astype('int8')\n"
   ]
  },
  {
   "cell_type": "code",
   "execution_count": 133,
   "id": "8fec4ed1",
   "metadata": {},
   "outputs": [
    {
     "name": "stdout",
     "output_type": "stream",
     "text": [
      "<class 'pandas.core.frame.DataFrame'>\n",
      "RangeIndex: 1411646 entries, 0 to 1411645\n",
      "Data columns (total 15 columns):\n",
      " #   Column              Non-Null Count    Dtype \n",
      "---  ------              --------------    ----- \n",
      " 0   id                  1411646 non-null  int32 \n",
      " 1   light               1411646 non-null  int8  \n",
      " 2   weather             1411646 non-null  object\n",
      " 3   category            1411646 non-null  int8  \n",
      " 4   severity            1411646 non-null  object\n",
      " 5   dead_count          1411646 non-null  int8  \n",
      " 6   injured_count       1411646 non-null  int8  \n",
      " 7   parent_region       1411646 non-null  object\n",
      " 8   participants_count  1411646 non-null  int8  \n",
      " 9   date                1411646 non-null  object\n",
      " 10  time                1411646 non-null  int8  \n",
      " 11  road_surface        1411646 non-null  object\n",
      " 12  pedestrians         1411646 non-null  int8  \n",
      " 13  motorcyclists       1411646 non-null  int8  \n",
      " 14  children            1411646 non-null  int8  \n",
      "dtypes: int32(1), int8(9), object(5)\n",
      "memory usage: 71.4+ MB\n"
     ]
    }
   ],
   "source": [
    "dk_processed.info()"
   ]
  },
  {
   "cell_type": "code",
   "execution_count": 134,
   "id": "ac1098d7",
   "metadata": {},
   "outputs": [],
   "source": [
    "def map_road_conditions(condition):\n",
    "    conditions_map = {\n",
    "        'Сухое': 'Хорошее',\n",
    "        'Обработанное противогололедными материалами': 'Хорошее',\n",
    "        'Со снежным накатом': 'Плохое',\n",
    "        'Заснеженное': 'Плохое',\n",
    "        'Мокрое': 'Плохое',\n",
    "        'Гололедица': 'Опасное',\n",
    "        'Загрязненное': 'Плохое',\n",
    "        'Пыльное': 'Среднее',\n",
    "        'Залитое (покрытое) водой': 'Опасное',\n",
    "        'Плохая различимость горизонтальной разметки проезжей части': 'Среднее',\n",
    "        'Плохая различимость вертикальной разметки': 'Среднее',\n",
    "        'Неровное покрытие': 'Среднее',\n",
    "        'Низкие сцепные качества покрытия': 'Опасное'\n",
    "    }\n",
    "    \n",
    "    return conditions_map.get(condition,'Не указано')\n",
    "\n",
    "dk_processed['road_surface'] = dk_processed['road_surface'].apply(map_road_conditions)\n"
   ]
  },
  {
   "cell_type": "code",
   "execution_count": 135,
   "id": "f491d18e",
   "metadata": {},
   "outputs": [
    {
     "data": {
      "text/plain": [
       "array(['Хорошее', 'Опасное', 'Плохое', 'Не указано', 'Среднее'],\n",
       "      dtype=object)"
      ]
     },
     "execution_count": 135,
     "metadata": {},
     "output_type": "execute_result"
    }
   ],
   "source": [
    "dk_processed['road_surface'].unique()"
   ]
  },
  {
   "cell_type": "code",
   "execution_count": 136,
   "id": "7b3ba1c6",
   "metadata": {},
   "outputs": [],
   "source": [
    "def map_to_numbers(category):\n",
    "    mapping = {\n",
    "        'Опасное': 1,\n",
    "        'Плохое': 2,\n",
    "        'Среднее': 3,\n",
    "        'Хорошее': 4,\n",
    "        'Идеальное': 5,\n",
    "        'Не указано': 6\n",
    "    }\n",
    "    \n",
    "    return mapping.get(category)\n",
    "\n",
    "dk_processed['road_surface'] = dk_processed['road_surface'].apply(map_to_numbers)\n"
   ]
  },
  {
   "cell_type": "code",
   "execution_count": 137,
   "id": "ede8bc20",
   "metadata": {},
   "outputs": [],
   "source": [
    "dk_processed['road_surface']=dk_processed['road_surface'].astype('int8')"
   ]
  },
  {
   "cell_type": "code",
   "execution_count": 138,
   "id": "befea808",
   "metadata": {},
   "outputs": [
    {
     "name": "stdout",
     "output_type": "stream",
     "text": [
      "<class 'pandas.core.frame.DataFrame'>\n",
      "RangeIndex: 1411646 entries, 0 to 1411645\n",
      "Data columns (total 15 columns):\n",
      " #   Column              Non-Null Count    Dtype \n",
      "---  ------              --------------    ----- \n",
      " 0   id                  1411646 non-null  int32 \n",
      " 1   light               1411646 non-null  int8  \n",
      " 2   weather             1411646 non-null  object\n",
      " 3   category            1411646 non-null  int8  \n",
      " 4   severity            1411646 non-null  object\n",
      " 5   dead_count          1411646 non-null  int8  \n",
      " 6   injured_count       1411646 non-null  int8  \n",
      " 7   parent_region       1411646 non-null  object\n",
      " 8   participants_count  1411646 non-null  int8  \n",
      " 9   date                1411646 non-null  object\n",
      " 10  time                1411646 non-null  int8  \n",
      " 11  road_surface        1411646 non-null  int8  \n",
      " 12  pedestrians         1411646 non-null  int8  \n",
      " 13  motorcyclists       1411646 non-null  int8  \n",
      " 14  children            1411646 non-null  int8  \n",
      "dtypes: int32(1), int8(10), object(4)\n",
      "memory usage: 61.9+ MB\n"
     ]
    }
   ],
   "source": [
    "dk_processed.info()"
   ]
  },
  {
   "cell_type": "code",
   "execution_count": 146,
   "id": "c5ceb775",
   "metadata": {},
   "outputs": [],
   "source": [
    "dk_processed.to_csv('/Users/juliagrebeneva/Desktop/dk_processed_5.csv', index=False)\n"
   ]
  },
  {
   "cell_type": "code",
   "execution_count": null,
   "id": "bd2a8eb7",
   "metadata": {},
   "outputs": [],
   "source": []
  },
  {
   "cell_type": "code",
   "execution_count": null,
   "id": "a70ad553",
   "metadata": {},
   "outputs": [],
   "source": []
  },
  {
   "cell_type": "code",
   "execution_count": null,
   "id": "433b9e80",
   "metadata": {},
   "outputs": [],
   "source": []
  },
  {
   "cell_type": "code",
   "execution_count": 144,
   "id": "63d20afb",
   "metadata": {},
   "outputs": [],
   "source": [
    "# Определите словарь с типами данных для столбцов\n",
    "dtype_dict = {\n",
    "    'id': 'int32',\n",
    "    'light': 'int8',\n",
    "    'weather': 'object',\n",
    "    'category': 'int8',\n",
    "    'severity': 'object',\n",
    "    'dead_count': 'int8',\n",
    "    'injured_count': 'int8',\n",
    "    'parent_region': 'object',\n",
    "    'participants_count': 'int8',\n",
    "    'date': 'object',\n",
    "    'time': 'int8',\n",
    "    'road_surface': 'int8',\n",
    "    'pedestrians': 'int8',\n",
    "    'motorcyclists': 'int8',\n",
    "    'children': 'int8'\n",
    "}\n",
    "\n",
    "# Сохраните DataFrame с использованием определенных типов данных\n",
    "dk_processed.to_csv('/Users/juliagrebeneva/Desktop/dk_processed_6.csv', index=False, encoding='utf-8')\n"
   ]
  },
  {
   "cell_type": "code",
   "execution_count": 139,
   "id": "51f65655",
   "metadata": {},
   "outputs": [],
   "source": [
    "dk_processed.to_csv('/Users/juliagrebeneva/Desktop/dk_processed_5.csv', index=False)\n"
   ]
  },
  {
   "cell_type": "code",
   "execution_count": null,
   "id": "d4b05aa4",
   "metadata": {},
   "outputs": [],
   "source": []
  }
 ],
 "metadata": {
  "kernelspec": {
   "display_name": "Python 3 (ipykernel)",
   "language": "python",
   "name": "python3"
  },
  "language_info": {
   "codemirror_mode": {
    "name": "ipython",
    "version": 3
   },
   "file_extension": ".py",
   "mimetype": "text/x-python",
   "name": "python",
   "nbconvert_exporter": "python",
   "pygments_lexer": "ipython3",
   "version": "3.9.16"
  },
  "toc": {
   "base_numbering": 1,
   "nav_menu": {},
   "number_sections": true,
   "sideBar": true,
   "skip_h1_title": true,
   "title_cell": "Table of Contents",
   "title_sidebar": "Contents",
   "toc_cell": true,
   "toc_position": {},
   "toc_section_display": true,
   "toc_window_display": false
  }
 },
 "nbformat": 4,
 "nbformat_minor": 5
}
