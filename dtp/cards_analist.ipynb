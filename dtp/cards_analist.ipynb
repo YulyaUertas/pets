{
 "cells": [
  {
   "cell_type": "markdown",
   "id": "5884fa92",
   "metadata": {
    "toc": true
   },
   "source": [
    "<h1>Table of Contents<span class=\"tocSkip\"></span></h1>\n",
    "<div class=\"toc\"><ul class=\"toc-item\"><li><span><a href=\"#Создание-датафрейма\" data-toc-modified-id=\"Создание-датафрейма-1\"><span class=\"toc-item-num\">1&nbsp;&nbsp;</span>Создание датафрейма</a></span></li><li><span><a href=\"#Преобразования-столбцов\" data-toc-modified-id=\"Преобразования-столбцов-2\"><span class=\"toc-item-num\">2&nbsp;&nbsp;</span>Преобразования столбцов</a></span><ul class=\"toc-item\"><li><span><a href=\"#id\" data-toc-modified-id=\"id-2.1\"><span class=\"toc-item-num\">2.1&nbsp;&nbsp;</span>id</a></span></li><li><span><a href=\"#tags\" data-toc-modified-id=\"tags-2.2\"><span class=\"toc-item-num\">2.2&nbsp;&nbsp;</span>tags</a></span></li><li><span><a href=\"#light\" data-toc-modified-id=\"light-2.3\"><span class=\"toc-item-num\">2.3&nbsp;&nbsp;</span>light</a></span></li><li><span><a href=\"#point\" data-toc-modified-id=\"point-2.4\"><span class=\"toc-item-num\">2.4&nbsp;&nbsp;</span>point</a></span></li><li><span><a href=\"#nearby\" data-toc-modified-id=\"nearby-2.5\"><span class=\"toc-item-num\">2.5&nbsp;&nbsp;</span>nearby</a></span></li><li><span><a href=\"#region\" data-toc-modified-id=\"region-2.6\"><span class=\"toc-item-num\">2.6&nbsp;&nbsp;</span>region</a></span></li><li><span><a href=\"#scheme\" data-toc-modified-id=\"scheme-2.7\"><span class=\"toc-item-num\">2.7&nbsp;&nbsp;</span>scheme</a></span></li><li><span><a href=\"#address\" data-toc-modified-id=\"address-2.8\"><span class=\"toc-item-num\">2.8&nbsp;&nbsp;</span>address</a></span></li><li><span><a href=\"#weather\" data-toc-modified-id=\"weather-2.9\"><span class=\"toc-item-num\">2.9&nbsp;&nbsp;</span>weather</a></span></li><li><span><a href=\"#category\" data-toc-modified-id=\"category-2.10\"><span class=\"toc-item-num\">2.10&nbsp;&nbsp;</span>category</a></span></li><li><span><a href=\"#datetime\" data-toc-modified-id=\"datetime-2.11\"><span class=\"toc-item-num\">2.11&nbsp;&nbsp;</span>datetime</a></span></li><li><span><a href=\"#severity\" data-toc-modified-id=\"severity-2.12\"><span class=\"toc-item-num\">2.12&nbsp;&nbsp;</span>severity</a></span></li><li><span><a href=\"#vehicles\" data-toc-modified-id=\"vehicles-2.13\"><span class=\"toc-item-num\">2.13&nbsp;&nbsp;</span>vehicles</a></span></li><li><span><a href=\"#dead_count\" data-toc-modified-id=\"dead_count-2.14\"><span class=\"toc-item-num\">2.14&nbsp;&nbsp;</span>dead_count</a></span></li><li><span><a href=\"#participants\" data-toc-modified-id=\"participants-2.15\"><span class=\"toc-item-num\">2.15&nbsp;&nbsp;</span>participants</a></span></li><li><span><a href=\"#injured_count\" data-toc-modified-id=\"injured_count-2.16\"><span class=\"toc-item-num\">2.16&nbsp;&nbsp;</span>injured_count</a></span></li><li><span><a href=\"#parent_region\" data-toc-modified-id=\"parent_region-2.17\"><span class=\"toc-item-num\">2.17&nbsp;&nbsp;</span>parent_region</a></span></li><li><span><a href=\"#road_conditions\" data-toc-modified-id=\"road_conditions-2.18\"><span class=\"toc-item-num\">2.18&nbsp;&nbsp;</span>road_conditions</a></span></li><li><span><a href=\"#participants_count\" data-toc-modified-id=\"participants_count-2.19\"><span class=\"toc-item-num\">2.19&nbsp;&nbsp;</span>participants_count</a></span></li><li><span><a href=\"#participant_categories\" data-toc-modified-id=\"participant_categories-2.20\"><span class=\"toc-item-num\">2.20&nbsp;&nbsp;</span>participant_categories</a></span></li></ul></li><li><span><a href=\"#Преобразование-1\" data-toc-modified-id=\"Преобразование-1-3\"><span class=\"toc-item-num\">3&nbsp;&nbsp;</span>Преобразование 1</a></span></li><li><span><a href=\"#Преобразование-2\" data-toc-modified-id=\"Преобразование-2-4\"><span class=\"toc-item-num\">4&nbsp;&nbsp;</span>Преобразование 2</a></span></li><li><span><a href=\"#Гипотезы\" data-toc-modified-id=\"Гипотезы-5\"><span class=\"toc-item-num\">5&nbsp;&nbsp;</span>Гипотезы</a></span><ul class=\"toc-item\"><li><span><a href=\"#Водители-со-стажем-4-6-лет-опаснее,-чем-новички-с-опытом-до-3-х-лет\" data-toc-modified-id=\"Водители-со-стажем-4-6-лет-опаснее,-чем-новички-с-опытом-до-3-х-лет-5.1\"><span class=\"toc-item-num\">5.1&nbsp;&nbsp;</span>Водители со стажем 4-6 лет опаснее, чем новички с опытом до 3-х лет</a></span></li><li><span><a href=\"#В-темное-время-суток-отсутствие-освещение-делает-ДТП-опаснее.\" data-toc-modified-id=\"В-темное-время-суток-отсутствие-освещение-делает-ДТП-опаснее.-5.2\"><span class=\"toc-item-num\">5.2&nbsp;&nbsp;</span>В темное время суток отсутствие освещение делает ДТП опаснее.</a></span></li><li><span><a href=\"#Большой-транпорт-опаснее-(тип)\" data-toc-modified-id=\"Большой-транпорт-опаснее-(тип)-5.3\"><span class=\"toc-item-num\">5.3&nbsp;&nbsp;</span>Большой транпорт опаснее (тип)</a></span></li></ul></li></ul></div>"
   ]
  },
  {
   "cell_type": "markdown",
   "id": "5322f7e0",
   "metadata": {},
   "source": [
    "[__Всю визиализацию мы будем делать в Yandex DataLen__](https://datalens.yandex.cloud/hsqg7wksso265-dashbord-dtp) "
   ]
  },
  {
   "cell_type": "markdown",
   "id": "c98eaf18",
   "metadata": {},
   "source": [
    "# Вторая часть"
   ]
  },
  {
   "cell_type": "markdown",
   "id": "8086be67",
   "metadata": {},
   "source": [
    "## Создание датафрейма"
   ]
  },
  {
   "cell_type": "markdown",
   "id": "6c736f1d",
   "metadata": {},
   "source": [
    "Мы соединим 3 файла в один, проанализируем его, поймем как с ним работать, а далее перейдем к работе над всеми 85 файлами."
   ]
  },
  {
   "cell_type": "code",
   "execution_count": 1,
   "id": "6ec7aed7",
   "metadata": {},
   "outputs": [],
   "source": [
    "import requests\n",
    "from tqdm import tqdm\n",
    "import os\n",
    "import pandas as pd\n",
    "import geopandas as gpd\n",
    "import json \n",
    "import ast\n",
    "from tqdm import tqdm\n",
    "\n",
    "import warnings\n",
    "warnings.filterwarnings('ignore')\n"
   ]
  },
  {
   "cell_type": "code",
   "execution_count": 2,
   "id": "8c3b2bf0",
   "metadata": {},
   "outputs": [],
   "source": [
    "# записываем путь к файлам\n",
    "path = '/Users/juliagrebeneva/Desktop/test/'  \n",
    "\n",
    "# Получить список всех файлов в директории\n",
    "file_names = [f for f in os.listdir(path) if f.endswith('.geojson')]\n",
    "\n",
    "# Загрузка и склеивание всех файлов\n",
    "gdfs = [gpd.read_file(os.path.join(path, file_name)) for file_name in file_names]\n",
    "data = gpd.GeoDataFrame(pd.concat(gdfs, ignore_index=True), crs=gdfs[0].crs)\n",
    "\n"
   ]
  },
  {
   "cell_type": "code",
   "execution_count": 3,
   "id": "b8324419",
   "metadata": {
    "scrolled": false
   },
   "outputs": [
    {
     "data": {
      "text/html": [
       "<div>\n",
       "<style scoped>\n",
       "    .dataframe tbody tr th:only-of-type {\n",
       "        vertical-align: middle;\n",
       "    }\n",
       "\n",
       "    .dataframe tbody tr th {\n",
       "        vertical-align: top;\n",
       "    }\n",
       "\n",
       "    .dataframe thead th {\n",
       "        text-align: right;\n",
       "    }\n",
       "</style>\n",
       "<table border=\"1\" class=\"dataframe\">\n",
       "  <thead>\n",
       "    <tr style=\"text-align: right;\">\n",
       "      <th></th>\n",
       "      <th>id</th>\n",
       "      <th>tags</th>\n",
       "      <th>light</th>\n",
       "      <th>point</th>\n",
       "      <th>nearby</th>\n",
       "      <th>region</th>\n",
       "      <th>scheme</th>\n",
       "      <th>address</th>\n",
       "      <th>weather</th>\n",
       "      <th>category</th>\n",
       "      <th>datetime</th>\n",
       "      <th>severity</th>\n",
       "      <th>vehicles</th>\n",
       "      <th>dead_count</th>\n",
       "      <th>participants</th>\n",
       "      <th>injured_count</th>\n",
       "      <th>parent_region</th>\n",
       "      <th>road_conditions</th>\n",
       "      <th>participants_count</th>\n",
       "      <th>participant_categories</th>\n",
       "      <th>geometry</th>\n",
       "    </tr>\n",
       "  </thead>\n",
       "  <tbody>\n",
       "    <tr>\n",
       "      <th>0</th>\n",
       "      <td>2869171</td>\n",
       "      <td>[Дорожно-транспортные происшествия]</td>\n",
       "      <td>Светлое время суток</td>\n",
       "      <td>{'lat': 53.3912, 'long': 83.7879}</td>\n",
       "      <td>[Жилые дома индивидуальной застройки]</td>\n",
       "      <td>Барнаул</td>\n",
       "      <td>830</td>\n",
       "      <td>None</td>\n",
       "      <td>[Ясно]</td>\n",
       "      <td>Наезд на пешехода</td>\n",
       "      <td>2023-05-24 19:30:00</td>\n",
       "      <td>Легкий</td>\n",
       "      <td>[ { \"year\": 2015, \"brand\": \"Прочие марки ТС\", ...</td>\n",
       "      <td>0</td>\n",
       "      <td>[ { \"role\": \"Пешеход\", \"gender\": \"Мужской\", \"v...</td>\n",
       "      <td>1</td>\n",
       "      <td>Алтайский край</td>\n",
       "      <td>[Сухое]</td>\n",
       "      <td>2</td>\n",
       "      <td>[Все участники, Пешеходы, Мотоциклисты]</td>\n",
       "      <td>POINT (83.78790 53.39120)</td>\n",
       "    </tr>\n",
       "    <tr>\n",
       "      <th>1</th>\n",
       "      <td>2320091</td>\n",
       "      <td>[Дорожно-транспортные происшествия, ДТП и пост...</td>\n",
       "      <td>Светлое время суток</td>\n",
       "      <td>{'lat': 53.345833, 'long': 83.666389}</td>\n",
       "      <td>[Многоквартирные жилые дома, Внутридворовая те...</td>\n",
       "      <td>Барнаул</td>\n",
       "      <td>880</td>\n",
       "      <td>г Барнаул, ул Сиреневая, 11</td>\n",
       "      <td>[Пасмурно]</td>\n",
       "      <td>Иной вид ДТП</td>\n",
       "      <td>2015-09-16 13:00:00</td>\n",
       "      <td>Легкий</td>\n",
       "      <td>[ { \"year\": 2002, \"brand\": \"TOYOTA\", \"color\": ...</td>\n",
       "      <td>0</td>\n",
       "      <td>[ ]</td>\n",
       "      <td>1</td>\n",
       "      <td>Алтайский край</td>\n",
       "      <td>[Сухое]</td>\n",
       "      <td>2</td>\n",
       "      <td>[Дети, Все участники]</td>\n",
       "      <td>POINT (83.66639 53.34583)</td>\n",
       "    </tr>\n",
       "    <tr>\n",
       "      <th>2</th>\n",
       "      <td>2321011</td>\n",
       "      <td>[Дорожно-транспортные происшествия, ДТП и пост...</td>\n",
       "      <td>Светлое время суток</td>\n",
       "      <td>{'lat': 53.19706, 'long': 83.39688}</td>\n",
       "      <td>[Административные здания, Остановка общественн...</td>\n",
       "      <td>Барнаул</td>\n",
       "      <td>960</td>\n",
       "      <td>г Барнаул, ул Попова, 165</td>\n",
       "      <td>[Ясно]</td>\n",
       "      <td>Падение пассажира</td>\n",
       "      <td>2017-08-25 15:30:00</td>\n",
       "      <td>Легкий</td>\n",
       "      <td>[ { \"year\": 1981, \"brand\": \"DAIMLER\", \"color\":...</td>\n",
       "      <td>0</td>\n",
       "      <td>[ ]</td>\n",
       "      <td>1</td>\n",
       "      <td>Алтайский край</td>\n",
       "      <td>[Сухое]</td>\n",
       "      <td>3</td>\n",
       "      <td>[Дети, Все участники]</td>\n",
       "      <td>POINT (83.39688 53.19706)</td>\n",
       "    </tr>\n",
       "    <tr>\n",
       "      <th>3</th>\n",
       "      <td>2576909</td>\n",
       "      <td>[Дорожно-транспортные происшествия]</td>\n",
       "      <td>Светлое время суток</td>\n",
       "      <td>{'lat': 53.3764, 'long': 83.7142}</td>\n",
       "      <td>[Выезд с прилегающей территории, Административ...</td>\n",
       "      <td>Барнаул</td>\n",
       "      <td>130</td>\n",
       "      <td>г Барнаул, ул Петра Сухова, 83 А</td>\n",
       "      <td>[Ясно]</td>\n",
       "      <td>Столкновение</td>\n",
       "      <td>2021-05-29 19:40:00</td>\n",
       "      <td>Тяжёлый</td>\n",
       "      <td>[ { \"year\": 2001, \"brand\": \"HONDA\", \"color\": \"...</td>\n",
       "      <td>0</td>\n",
       "      <td>[ ]</td>\n",
       "      <td>1</td>\n",
       "      <td>Алтайский край</td>\n",
       "      <td>[Сухое, Отсутствие, плохая различимость горизо...</td>\n",
       "      <td>3</td>\n",
       "      <td>[Мотоциклисты, Все участники]</td>\n",
       "      <td>POINT (83.71420 53.37640)</td>\n",
       "    </tr>\n",
       "    <tr>\n",
       "      <th>4</th>\n",
       "      <td>2575209</td>\n",
       "      <td>[Дорожно-транспортные происшествия]</td>\n",
       "      <td>Светлое время суток</td>\n",
       "      <td>{'lat': 53.343071, 'long': 83.794366}</td>\n",
       "      <td>[Многоквартирные жилые дома, Жилые дома индиви...</td>\n",
       "      <td>Барнаул</td>\n",
       "      <td>500</td>\n",
       "      <td>г Барнаул, ул Партизанская, 26</td>\n",
       "      <td>[Ясно]</td>\n",
       "      <td>Столкновение</td>\n",
       "      <td>2021-05-25 16:40:00</td>\n",
       "      <td>Легкий</td>\n",
       "      <td>[ { \"year\": 2014, \"brand\": \"NISSAN\", \"color\": ...</td>\n",
       "      <td>0</td>\n",
       "      <td>[ ]</td>\n",
       "      <td>1</td>\n",
       "      <td>Алтайский край</td>\n",
       "      <td>[Сухое, Отсутствие, плохая различимость горизо...</td>\n",
       "      <td>2</td>\n",
       "      <td>[Все участники]</td>\n",
       "      <td>POINT (83.79437 53.34307)</td>\n",
       "    </tr>\n",
       "  </tbody>\n",
       "</table>\n",
       "</div>"
      ],
      "text/plain": [
       "        id                                               tags  \\\n",
       "0  2869171                [Дорожно-транспортные происшествия]   \n",
       "1  2320091  [Дорожно-транспортные происшествия, ДТП и пост...   \n",
       "2  2321011  [Дорожно-транспортные происшествия, ДТП и пост...   \n",
       "3  2576909                [Дорожно-транспортные происшествия]   \n",
       "4  2575209                [Дорожно-транспортные происшествия]   \n",
       "\n",
       "                 light                                  point  \\\n",
       "0  Светлое время суток      {'lat': 53.3912, 'long': 83.7879}   \n",
       "1  Светлое время суток  {'lat': 53.345833, 'long': 83.666389}   \n",
       "2  Светлое время суток    {'lat': 53.19706, 'long': 83.39688}   \n",
       "3  Светлое время суток      {'lat': 53.3764, 'long': 83.7142}   \n",
       "4  Светлое время суток  {'lat': 53.343071, 'long': 83.794366}   \n",
       "\n",
       "                                              nearby   region scheme  \\\n",
       "0              [Жилые дома индивидуальной застройки]  Барнаул    830   \n",
       "1  [Многоквартирные жилые дома, Внутридворовая те...  Барнаул    880   \n",
       "2  [Административные здания, Остановка общественн...  Барнаул    960   \n",
       "3  [Выезд с прилегающей территории, Административ...  Барнаул    130   \n",
       "4  [Многоквартирные жилые дома, Жилые дома индиви...  Барнаул    500   \n",
       "\n",
       "                            address     weather           category  \\\n",
       "0                              None      [Ясно]  Наезд на пешехода   \n",
       "1       г Барнаул, ул Сиреневая, 11  [Пасмурно]       Иной вид ДТП   \n",
       "2         г Барнаул, ул Попова, 165      [Ясно]  Падение пассажира   \n",
       "3  г Барнаул, ул Петра Сухова, 83 А      [Ясно]       Столкновение   \n",
       "4    г Барнаул, ул Партизанская, 26      [Ясно]       Столкновение   \n",
       "\n",
       "             datetime severity  \\\n",
       "0 2023-05-24 19:30:00   Легкий   \n",
       "1 2015-09-16 13:00:00   Легкий   \n",
       "2 2017-08-25 15:30:00   Легкий   \n",
       "3 2021-05-29 19:40:00  Тяжёлый   \n",
       "4 2021-05-25 16:40:00   Легкий   \n",
       "\n",
       "                                            vehicles  dead_count  \\\n",
       "0  [ { \"year\": 2015, \"brand\": \"Прочие марки ТС\", ...           0   \n",
       "1  [ { \"year\": 2002, \"brand\": \"TOYOTA\", \"color\": ...           0   \n",
       "2  [ { \"year\": 1981, \"brand\": \"DAIMLER\", \"color\":...           0   \n",
       "3  [ { \"year\": 2001, \"brand\": \"HONDA\", \"color\": \"...           0   \n",
       "4  [ { \"year\": 2014, \"brand\": \"NISSAN\", \"color\": ...           0   \n",
       "\n",
       "                                        participants  injured_count  \\\n",
       "0  [ { \"role\": \"Пешеход\", \"gender\": \"Мужской\", \"v...              1   \n",
       "1                                                [ ]              1   \n",
       "2                                                [ ]              1   \n",
       "3                                                [ ]              1   \n",
       "4                                                [ ]              1   \n",
       "\n",
       "    parent_region                                    road_conditions  \\\n",
       "0  Алтайский край                                            [Сухое]   \n",
       "1  Алтайский край                                            [Сухое]   \n",
       "2  Алтайский край                                            [Сухое]   \n",
       "3  Алтайский край  [Сухое, Отсутствие, плохая различимость горизо...   \n",
       "4  Алтайский край  [Сухое, Отсутствие, плохая различимость горизо...   \n",
       "\n",
       "   participants_count                   participant_categories  \\\n",
       "0                   2  [Все участники, Пешеходы, Мотоциклисты]   \n",
       "1                   2                    [Дети, Все участники]   \n",
       "2                   3                    [Дети, Все участники]   \n",
       "3                   3            [Мотоциклисты, Все участники]   \n",
       "4                   2                          [Все участники]   \n",
       "\n",
       "                    geometry  \n",
       "0  POINT (83.78790 53.39120)  \n",
       "1  POINT (83.66639 53.34583)  \n",
       "2  POINT (83.39688 53.19706)  \n",
       "3  POINT (83.71420 53.37640)  \n",
       "4  POINT (83.79437 53.34307)  "
      ]
     },
     "execution_count": 3,
     "metadata": {},
     "output_type": "execute_result"
    }
   ],
   "source": [
    "# смотрим, как выглядит файл\n",
    "pd.set_option('display.max_rows', None)\n",
    "pd.set_option('display.max_columns', None)\n",
    "data.head(5)"
   ]
  },
  {
   "cell_type": "code",
   "execution_count": 4,
   "id": "4e3ebfb9",
   "metadata": {},
   "outputs": [
    {
     "name": "stdout",
     "output_type": "stream",
     "text": [
      "id: 2310319\n",
      "tags: ['Дорожно-транспортные происшествия']\n",
      "light: Светлое время суток\n",
      "point: {'lat': 53.3408, 'long': 83.6964}\n",
      "nearby: ['Многоквартирные жилые дома', 'Административные здания', 'Нерегулируемый перекрёсток неравнозначных улиц (дорог)', 'Подход к мосту, эстакаде, путепроводу', 'Нерегулируемый пешеходный переход', 'Одиночный торговый объект, являющийся местом притяжения транспорта и (или) пешеходов']\n",
      "region: Барнаул\n",
      "scheme: 070\n",
      "address: г Барнаул, ул Малахова, 123\n",
      "weather: ['Ясно']\n",
      "category: Столкновение\n",
      "datetime: 2020-05-24 10:00:00\n",
      "severity: Легкий\n",
      "vehicles: [ { \"year\": 2013, \"brand\": \"RENAULT\", \"color\": \"Белый\", \"model\": \"Duster\", \"category\": \"В-класс (малый) до 3,9 м\", \"participants\": [ { \"role\": \"Пассажир\", \"gender\": \"Женский\", \"violations\": [ ], \"health_status\": \"Раненый, находящийся (находившийся) на амбулаторном лечении, либо в условиях дневного стационара\", \"years_of_driving_experience\": null }, { \"role\": \"Водитель\", \"gender\": \"Мужской\", \"violations\": [ ], \"health_status\": \"Не пострадал\", \"years_of_driving_experience\": 24 } ] }, { \"year\": 2012, \"brand\": \"ВАЗ\", \"color\": \"Серый\", \"model\": \"Priora\", \"category\": \"В-класс (малый) до 3,9 м\", \"participants\": [ { \"role\": \"Водитель\", \"gender\": \"Мужской\", \"violations\": [ \"Неправильный выбор дистанции\" ], \"health_status\": \"Не пострадал\", \"years_of_driving_experience\": 18 } ] } ]\n",
      "dead_count: 0\n",
      "participants: [ ]\n",
      "injured_count: 1\n",
      "parent_region: Алтайский край\n",
      "road_conditions: ['Сухое', 'Отсутствие, плохая различимость горизонтальной разметки проезжей части']\n",
      "participants_count: 3\n",
      "participant_categories: ['Все участники']\n",
      "geometry: POINT (83.6964 53.3408)\n"
     ]
    }
   ],
   "source": [
    "for column in data.columns:\n",
    "    print(f\"{column}: {data[column].iloc[107]}\")"
   ]
  },
  {
   "cell_type": "code",
   "execution_count": 5,
   "id": "23fcfa93",
   "metadata": {},
   "outputs": [
    {
     "name": "stdout",
     "output_type": "stream",
     "text": [
      "<class 'geopandas.geodataframe.GeoDataFrame'>\n",
      "RangeIndex: 47820 entries, 0 to 47819\n",
      "Data columns (total 21 columns):\n",
      " #   Column                  Non-Null Count  Dtype         \n",
      "---  ------                  --------------  -----         \n",
      " 0   id                      47820 non-null  int64         \n",
      " 1   tags                    47820 non-null  object        \n",
      " 2   light                   47820 non-null  object        \n",
      " 3   point                   47820 non-null  object        \n",
      " 4   nearby                  47820 non-null  object        \n",
      " 5   region                  47820 non-null  object        \n",
      " 6   scheme                  45911 non-null  object        \n",
      " 7   address                 45586 non-null  object        \n",
      " 8   weather                 47820 non-null  object        \n",
      " 9   category                47820 non-null  object        \n",
      " 10  datetime                47820 non-null  datetime64[ns]\n",
      " 11  severity                47820 non-null  object        \n",
      " 12  vehicles                47820 non-null  object        \n",
      " 13  dead_count              47820 non-null  int64         \n",
      " 14  participants            47820 non-null  object        \n",
      " 15  injured_count           47820 non-null  int64         \n",
      " 16  parent_region           47820 non-null  object        \n",
      " 17  road_conditions         47820 non-null  object        \n",
      " 18  participants_count      47820 non-null  int64         \n",
      " 19  participant_categories  47820 non-null  object        \n",
      " 20  geometry                47574 non-null  geometry      \n",
      "dtypes: datetime64[ns](1), geometry(1), int64(4), object(15)\n",
      "memory usage: 7.7+ MB\n"
     ]
    }
   ],
   "source": [
    "data.info()"
   ]
  },
  {
   "cell_type": "markdown",
   "id": "ea5ffba5",
   "metadata": {},
   "source": [
    "В файле у нас 21 столбцец. По структуре мы видим, что у нас есть колонки с числовыми значениями, строковыми, даты,  списки, словари, списки словарей. Мы разберем каждый столбец, решим какие столбцы нам понадобятся для решения задач, составим нужные нам датасеты и преобразуем их для дальнейшего анализа. Так же заметим, что изначально файл весит 7.7 MB, будем пробовать его уменьшать."
   ]
  },
  {
   "cell_type": "markdown",
   "id": "38cbf314",
   "metadata": {},
   "source": [
    "## Преобразования столбцов"
   ]
  },
  {
   "cell_type": "markdown",
   "id": "9a54208c",
   "metadata": {},
   "source": [
    "### id"
   ]
  },
  {
   "cell_type": "code",
   "execution_count": 6,
   "id": "b0683b13",
   "metadata": {},
   "outputs": [
    {
     "data": {
      "text/plain": [
       "0"
      ]
     },
     "execution_count": 6,
     "metadata": {},
     "output_type": "execute_result"
    }
   ],
   "source": [
    "data['id'].duplicated().sum()"
   ]
  },
  {
   "cell_type": "markdown",
   "id": "f8bf144a",
   "metadata": {},
   "source": [
    "Столбец id содержит уникальный номер для каждого ДТП. Если посмотреть на значения, то они находятся в разряде миллионов, значит мы можем перевести тип с int64 на int32, чтобы этот столбец занимал меньше места. Он будет использоваться во всех датасетах, поэтому это может помочь в сокращении памяти."
   ]
  },
  {
   "cell_type": "code",
   "execution_count": 7,
   "id": "6854f0b8",
   "metadata": {},
   "outputs": [
    {
     "name": "stdout",
     "output_type": "stream",
     "text": [
      "True True\n"
     ]
    }
   ],
   "source": [
    "#проверяем, входят ли значения id в интервал для int32\n",
    "print(max(data['id']) <= 2147483647, min(data['id']) >= -2147483648 )\n"
   ]
  },
  {
   "cell_type": "code",
   "execution_count": 8,
   "id": "6a4a95b9",
   "metadata": {},
   "outputs": [],
   "source": [
    "data['id']=data['id'].astype('int32')"
   ]
  },
  {
   "cell_type": "code",
   "execution_count": 9,
   "id": "06d002fa",
   "metadata": {},
   "outputs": [
    {
     "name": "stdout",
     "output_type": "stream",
     "text": [
      "Объем файла 7.48 MB\n"
     ]
    }
   ],
   "source": [
    "print('Объем файла',round(data.memory_usage().sum() / (1024 * 1024),2),'MB')"
   ]
  },
  {
   "cell_type": "markdown",
   "id": "4f801ea4",
   "metadata": {},
   "source": [
    "Память уменьшилась до 7.48 MB."
   ]
  },
  {
   "cell_type": "markdown",
   "id": "3574da84",
   "metadata": {},
   "source": [
    "### tags\n",
    "\n",
    "Столбец tags содержит списки, сначала посчитаем максимальное количество элементов в списках, далее мы избавимся от них и посмотрим, что у нас получилось."
   ]
  },
  {
   "cell_type": "code",
   "execution_count": 10,
   "id": "95fbf6d6",
   "metadata": {},
   "outputs": [
    {
     "data": {
      "text/plain": [
       "3"
      ]
     },
     "execution_count": 10,
     "metadata": {},
     "output_type": "execute_result"
    }
   ],
   "source": [
    "data['tags'].apply(len).max()"
   ]
  },
  {
   "cell_type": "code",
   "execution_count": 11,
   "id": "07052347",
   "metadata": {},
   "outputs": [
    {
     "data": {
      "text/plain": [
       "array(['Дорожно-транспортные происшествия',\n",
       "       'Дорожно-транспортные происшествия,ДТП и пострадавшие дети в возрасте до 16 лет',\n",
       "       'Дорожно-транспортные происшествия,ДТП и пострадавшие пешеходы, из-за наезда на пешеходов, на пешеходных переходах, по вине пешеходов',\n",
       "       'Дорожно-транспортные происшествия,ДТП и пострадавшие пешеходы, из-за наезда на пешеходов, на пешеходных переходах, по вине пешеходов,ДТП и пострадавшие дети в возрасте до 16 лет',\n",
       "       'Дорожно-транспортные происшествия,ДТП и пострадавшие дети в возрасте до 16 лет,ДТП и пострадавшие пешеходы, из-за наезда на пешеходов, на пешеходных переходах, по вине пешеходов'],\n",
       "      dtype=object)"
      ]
     },
     "execution_count": 11,
     "metadata": {},
     "output_type": "execute_result"
    }
   ],
   "source": [
    "data['tags'].apply(lambda x: ','.join(x)).unique()"
   ]
  },
  {
   "cell_type": "markdown",
   "id": "197f4393",
   "metadata": {},
   "source": [
    "Всего у нас три вида ДТП: ДТП, ДТП с детьми и ДТП с пешеходами. Заменим эти длинные названия на цифры от 1 до 3 соответственно. Таким образом у нас будет числовой столбец."
   ]
  },
  {
   "cell_type": "code",
   "execution_count": 12,
   "id": "b62e7bd4",
   "metadata": {},
   "outputs": [],
   "source": [
    "def map_values(lst):\n",
    "    values = []\n",
    "    \n",
    "    if 'Дорожно-транспортные происшествия' in lst:\n",
    "        values.append('1')\n",
    "    if 'ДТП и пострадавшие дети в возрасте до 16 лет' in lst:\n",
    "        values.append('2')\n",
    "    if 'ДТП и пострадавшие пешеходы, из-за наезда на пешеходов, на пешеходных переходах, по вине пешеходов' in lst:\n",
    "        values.append('3')\n",
    "    \n",
    "    return ''.join(values) if values else '0'\n",
    "\n",
    "\n"
   ]
  },
  {
   "cell_type": "code",
   "execution_count": 13,
   "id": "a60aca62",
   "metadata": {
    "scrolled": true
   },
   "outputs": [],
   "source": [
    "data['tags'] = data['tags'].apply(map_values)"
   ]
  },
  {
   "cell_type": "code",
   "execution_count": 14,
   "id": "91fd7fdb",
   "metadata": {},
   "outputs": [],
   "source": [
    "data['tags'] = data['tags'].astype('int16')"
   ]
  },
  {
   "cell_type": "code",
   "execution_count": 15,
   "id": "b5c8e13e",
   "metadata": {},
   "outputs": [
    {
     "name": "stdout",
     "output_type": "stream",
     "text": [
      "[  1  12  13 123]\n"
     ]
    }
   ],
   "source": [
    "print(data['tags'].unique())"
   ]
  },
  {
   "cell_type": "code",
   "execution_count": 16,
   "id": "e2bd2683",
   "metadata": {},
   "outputs": [
    {
     "name": "stdout",
     "output_type": "stream",
     "text": [
      "Объем файла 7.21 MB\n"
     ]
    }
   ],
   "source": [
    "print('Объем файла',round(data.memory_usage().sum() / (1024 * 1024),2),'MB')"
   ]
  },
  {
   "cell_type": "markdown",
   "id": "ad9355a2",
   "metadata": {},
   "source": [
    "Размер файла уменьшился, столбец можно будет использовать, можно будет подумать как его преобразовать."
   ]
  },
  {
   "cell_type": "markdown",
   "id": "3dc4d8d6",
   "metadata": {},
   "source": [
    "### light"
   ]
  },
  {
   "cell_type": "code",
   "execution_count": 17,
   "id": "8d8d33bd",
   "metadata": {},
   "outputs": [
    {
     "data": {
      "text/plain": [
       "array(['Светлое время суток', 'В темное время суток, освещение включено',\n",
       "       'Сумерки', 'В темное время суток, освещение не включено',\n",
       "       'В темное время суток, освещение отсутствует', 'Не установлено'],\n",
       "      dtype=object)"
      ]
     },
     "execution_count": 17,
     "metadata": {},
     "output_type": "execute_result"
    }
   ],
   "source": [
    "data['light'].unique()"
   ]
  },
  {
   "cell_type": "markdown",
   "id": "c34491d0",
   "metadata": {},
   "source": [
    "В столбце light всего 5 уникальных значений, в нем ничего менять не будем."
   ]
  },
  {
   "cell_type": "markdown",
   "id": "a466d9b9",
   "metadata": {},
   "source": [
    "### point"
   ]
  },
  {
   "cell_type": "markdown",
   "id": "174f271b",
   "metadata": {},
   "source": [
    "Столбец point содержит кординаты ДТП. Для дальнейшей визуализации мы будем использовать Yandex DataLens, поэтому представим переделаем столбец из {'lat': 53.3912, 'long': 83.7879} в такой вид [53.3912,83.7879]. \n",
    "\n",
    "У нас есть второй столбец с геоданными в столбце geometry, но мы не будем его использовать. Поэтому в общий файл его мы не будем выгружать вообще. Удалим его сразу чтобы посмотреть объем данных."
   ]
  },
  {
   "cell_type": "code",
   "execution_count": 18,
   "id": "86c79d06",
   "metadata": {},
   "outputs": [],
   "source": [
    "data['point'] = data['point'].apply(lambda x: [x['lat'], x['long']])"
   ]
  },
  {
   "cell_type": "code",
   "execution_count": 19,
   "id": "ce708114",
   "metadata": {},
   "outputs": [],
   "source": [
    "data.drop(columns=['geometry'], inplace=True)"
   ]
  },
  {
   "cell_type": "code",
   "execution_count": 20,
   "id": "0a557423",
   "metadata": {},
   "outputs": [
    {
     "name": "stdout",
     "output_type": "stream",
     "text": [
      "Объем файла 6.84 MB\n"
     ]
    }
   ],
   "source": [
    "print('Объем файла',round(data.memory_usage().sum() / (1024 * 1024),2),'MB')"
   ]
  },
  {
   "cell_type": "markdown",
   "id": "1c07ad09",
   "metadata": {},
   "source": [
    "### nearby"
   ]
  },
  {
   "cell_type": "code",
   "execution_count": 21,
   "id": "7c743131",
   "metadata": {},
   "outputs": [
    {
     "data": {
      "text/plain": [
       "343"
      ]
     },
     "execution_count": 21,
     "metadata": {},
     "output_type": "execute_result"
    }
   ],
   "source": [
    "data['nearby'].apply(len).max()"
   ]
  },
  {
   "cell_type": "code",
   "execution_count": 22,
   "id": "a3ecf336",
   "metadata": {},
   "outputs": [
    {
     "data": {
      "text/plain": [
       "1746"
      ]
     },
     "execution_count": 22,
     "metadata": {},
     "output_type": "execute_result"
    }
   ],
   "source": [
    "data.explode('nearby')['nearby'].nunique()"
   ]
  },
  {
   "cell_type": "code",
   "execution_count": 23,
   "id": "0495268d",
   "metadata": {
    "scrolled": true
   },
   "outputs": [
    {
     "data": {
      "text/plain": [
       "array(['Жилые дома индивидуальной застройки',\n",
       "       'Многоквартирные жилые дома', 'Внутридворовая территория', ...,\n",
       "       '[ \"Многоквартирные жилые дома\", \"Административные здания\", \"АЗС\", \"Автовокзал (автостанция)\" ]',\n",
       "       '[ \"Многоквартирные жилые дома\", \"Нерегулируемый пешеходный переход\", \"Спортивные и развлекательные объекты\", \"Школа либо иное детское (в т.ч. дошкольное) учреждение\" ]',\n",
       "       '[ \"Мост\", \"Жилые дома индивидуальной застройки\", \"Регулируемый ж\\\\/д переезд без дежурного\" ]'],\n",
       "      dtype=object)"
      ]
     },
     "execution_count": 23,
     "metadata": {},
     "output_type": "execute_result"
    }
   ],
   "source": [
    "data.explode('nearby')['nearby'].unique()"
   ]
  },
  {
   "cell_type": "markdown",
   "id": "66d3f536",
   "metadata": {},
   "source": [
    "Сохраним информацию о объектах находящихся рядом в отдельный датасет, а так же проведем категоризацию. Если эти данные понадобяться, то по id мы сможем их использовать."
   ]
  },
  {
   "cell_type": "code",
   "execution_count": 24,
   "id": "f9942549",
   "metadata": {},
   "outputs": [],
   "source": [
    "data['nearby'] = data['nearby'].apply(lambda x: [elem.strip(' \"[]') for elem in (ast.literal_eval(x) if not isinstance(x, list) else x)])"
   ]
  },
  {
   "cell_type": "code",
   "execution_count": 25,
   "id": "f3d51e03",
   "metadata": {
    "scrolled": true
   },
   "outputs": [
    {
     "name": "stdout",
     "output_type": "stream",
     "text": [
      "['Жилые дома индивидуальной застройки' 'Многоквартирные жилые дома'\n",
      " 'Внутридворовая территория'\n",
      " 'Школа либо иное детское (в т.ч. дошкольное) учреждение'\n",
      " 'Административные здания' 'Остановка общественного транспорта'\n",
      " 'Нерегулируемый пешеходный переход'\n",
      " 'Автостоянка (отделенная от проезжей части)' 'Остановка трамвая'\n",
      " 'Выезд с прилегающей территории' 'Регулируемый перекрёсток'\n",
      " 'Регулируемый пешеходный переход'\n",
      " 'Нерегулируемый перекрёсток неравнозначных улиц (дорог)'\n",
      " 'Эстакада, путепровод' 'Регулируемый перекресток'\n",
      " 'Спортивные и развлекательные объекты' 'Нерегулируемый перекрёсток'\n",
      " 'Крупный торговый объект (являющийся объектом массового тяготения пешеходов и (или) транспорта)'\n",
      " 'Объект строительства' 'Объект (здание, сооружение) религиозного культа'\n",
      " 'АЗС'\n",
      " 'Одиночный торговый объект, являющийся местом притяжения транспорта и (или) пешеходов'\n",
      " 'Регулируемый ж/д переезд без дежурного' 'Производственное предприятие'\n",
      " 'Иная образовательная организация'\n",
      " 'Школа либо иная детская (в т.ч. дошкольная) организация' 'Мост'\n",
      " 'Иной объект' 'Медицинские (лечебные) организации'\n",
      " 'Автостоянка (не отделённая от проезжей части)'\n",
      " 'Нерегулируемый пешеходный переход, расположенный на участке улицы или дороги, проходящей вдоль территории школы или иной детской организации'\n",
      " 'Нерегулируемое пересечение с круговым движением'\n",
      " 'Мост, эстакада, путепровод' 'Зоны отдыха'\n",
      " 'Аэропорт, ж/д вокзал (ж/д станция), речной или морской порт (пристань)'\n",
      " 'Подход к мосту, эстакаде, путепроводу'\n",
      " 'Регулируемый ж/д переезд с дежурным' 'Надземный пешеходный переход'\n",
      " 'Нерегулируемый перекрёсток равнозначных улиц (дорог)'\n",
      " 'Подземный пешеходный переход' 'Кладбище' 'Тротуар, пешеходная дорожка'\n",
      " 'Пешеходная зона' nan 'Остановка маршрутного такси' 'Лечебные учреждения'\n",
      " 'Объект торговли, общественного питания на автодороге вне НП'\n",
      " 'Нерегулируемый ж/д переезд'\n",
      " 'Ледовая переправа (официально открытая и оборудованная);' 'СП ДПС (КПМ)'\n",
      " 'Иное образовательное учреждение'\n",
      " 'Территориальное подразделение МВД России (либо его структурное подразделение)'\n",
      " 'Автовокзал (автостанция)'\n",
      " 'Регулируемый пешеходный переход, расположенный на участке улицы или дороги, проходящей вдоль территории школы или иной детской организации'\n",
      " 'Нерегулируемый пешеходный переход, расположенный на участке улицы или дороги, проходящей вдоль территории школы или иного детского учреждения'\n",
      " 'Регулируемый пешеходный переход, расположенный на участке улицы или дороги, проходящей вдоль территории школы или иного детского учреждения'\n",
      " 'Место для перегона скота' 'Пункт весового контроля' 'Тоннель'\n",
      " 'Регулируемый ж\\\\/д переезд без дежурного'\n",
      " 'Регулируемый ж\\\\/д переезд с дежурным'\n",
      " 'Аэропорт, ж\\\\/д вокзал (ж\\\\/д станция), речной или морской порт (пристань)'\n",
      " 'Нерегулируемый ж\\\\/д переезд']\n"
     ]
    }
   ],
   "source": [
    "data.explode('nearby')['nearby'].nunique()\n",
    "unique_values = data.explode('nearby')['nearby'].unique()\n",
    "print(unique_values)"
   ]
  },
  {
   "cell_type": "markdown",
   "id": "e56b2db2",
   "metadata": {},
   "source": [
    "У нас получилось 62 уникальных объектов, в других файлах их может быть еще больше. Поэтому мы сделаем 15 разных категорий, и все что в них не попадет, назовем - другое.   \n",
    "\n",
    "Категории:\n",
    "* Жилая застройка:\n",
    "  - Индивидуальная застройка\n",
    "  - Многоквартирные дома\n",
    "\n",
    "* Образовательные учреждения:\n",
    "  - Школы\n",
    "  - Детские (в т.ч. дошкольные) учреждения\n",
    "\n",
    "* Административные здания\n",
    "\n",
    "* Транспортная инфраструктура:\n",
    "  - Остановки общественного транспорта\n",
    "  - Автостоянки\n",
    "  - Транспортные перекрестки\n",
    "  - Ж/д переезды\n",
    "  - Переправы\n",
    "  - Тоннели\n",
    "  - Пункты весового контроля\n",
    "\n",
    "* Развлекательные и спортивные объекты\n",
    "\n",
    "* Торговые объекты:\n",
    "\n",
    "* Религиозные сооружения\n",
    "\n",
    "* Медицинские учреждения\n",
    "\n",
    "* Объекты строительства\n",
    "\n",
    "* Производственные предприятия\n",
    "\n",
    "* Зоны отдыха\n",
    "\n",
    "* Транспортные узлы:\n",
    "  - Аэропорты\n",
    "  - Ж/д вокзалы\n",
    "  - Речные или морские порты\n",
    "\n",
    "* Пешеходная инфраструктура:\n",
    "  - Тротуары\n",
    "  - Пешеходные дорожки\n",
    "  - Пешеходные зоны\n",
    "  - Пешеходные переходы\n",
    "\n",
    "* Службы безопасности:\n",
    "  - СП ДПС (КПМ)\n",
    "  - Территориальные подразделения МВД России\n",
    "\n",
    "* Другие объекты:\n",
    "  - Кладбища\n",
    "  - Места для перегона скота\n",
    "  - И другое"
   ]
  },
  {
   "cell_type": "code",
   "execution_count": 26,
   "id": "62e607b7",
   "metadata": {},
   "outputs": [],
   "source": [
    "nearby_dictionary = {\n",
    "    'Жилые дома индивидуальной застройки': 'Жилая застройка',\n",
    "    'Многоквартирные жилые дома': 'Жилая застройка',\n",
    "    'Внутридворовая территория': 'Жилая застройка',\n",
    "    'Школа либо иное детское (в т.ч. дошкольное) учреждение': 'Образовательные учреждения',\n",
    "    'Административные здания': 'Административные здания',\n",
    "    'Остановка общественного транспорта': 'Транспортная инфраструктура',\n",
    "    'Нерегулируемый пешеходный переход': 'Пешеходная инфраструктура',\n",
    "    'Регулируемый пешеходный переход': 'Пешеходная инфраструктура',\n",
    "    'Автостоянка (отделенная от проезжей части)': 'Транспортная инфраструктура',\n",
    "    'Остановка трамвая': 'Транспортная инфраструктура',\n",
    "    'Выезд с прилегающей территории': 'Транспортная инфраструктура',\n",
    "    'Регулируемый перекрёсток': 'Транспортная инфраструктура',\n",
    "    'Нерегулируемый перекрёсток неравнозначных улиц (дорог)': 'Транспортная инфраструктура',\n",
    "    'Эстакада, путепровод': 'Транспортная инфраструктура',\n",
    "    'Спортивные и развлекательные объекты': 'Развлекательные объекты',\n",
    "    'Крупный торговый объект (являющийся объектом массового тяготения пешеходов и (или) транспорта)': 'Торговые объекты',\n",
    "    'Объект строительства': 'Строительные объекты',\n",
    "    'Объект (здание, сооружение) религиозного культа': 'Религиозные сооружения',\n",
    "    'АЗС': 'Транспортная инфраструктура',\n",
    "    'Одиночный торговый объект, являющийся местом притяжения транспорта и (или) пешеходов': 'Торговые объекты',\n",
    "    'Регулируемый ж/д переезд без дежурного': 'Транспортная инфраструктура',\n",
    "    'Производственное предприятие': 'Промышленные объекты',\n",
    "    'Иная образовательная организация': 'Образовательные учреждения',\n",
    "    'Мост': 'Транспортная инфраструктура',\n",
    "    'Медицинские (лечебные) организации': 'Медицинские учреждения',\n",
    "    'Автостоянка (не отделённая от проезжей части)': 'Транспортная инфраструктура',\n",
    "    'Нерегулируемый перекрёсток равнозначных улиц (дорог)': 'Транспортная инфраструктура',\n",
    "    'Подземный пешеходный переход': 'Пешеходная инфраструктура',\n",
    "    'Кладбище': 'Религиозные сооружения',\n",
    "    'Тротуар, пешеходная дорожка': 'Пешеходная инфраструктура',\n",
    "    'Пешеходная зона': 'Пешеходная инфраструктура',\n",
    "    'Остановка маршрутного такси': 'Транспортная инфраструктура',\n",
    "    'Лечебные учреждения': 'Медицинские учреждения',\n",
    "    'Объект торговли, общественного питания на автодороге вне НП': 'Торговые объекты',\n",
    "    'Нерегулируемый ж/д переезд': 'Транспортная инфраструктура',\n",
    "    'Ледовая переправа (официально открытая и оборудованная);': 'Транспортная инфраструктура',\n",
    "    'СП ДПС (КПМ)': 'Службы безопасности',\n",
    "    'Иное образовательное учреждение': 'Образовательные учреждения',\n",
    "    'Территориальное подразделение МВД России (либо его структурное подразделение)': 'Службы безопасности',\n",
    "    'Автовокзал (автостанция)': 'Транспортная инфраструктура',\n",
    "    'Нерегулируемый пешеходный переход, расположенный на участке улицы или дороги, проходящей вдоль территории школы или иной детской организации': 'Пешеходная инфраструктура',\n",
    "    'Нерегулируемое пересечение с круговым движением': 'Транспортная инфраструктура',\n",
    "    'Мост, эстакада, путепровод': 'Транспортная инфраструктура',\n",
    "    'Зоны отдыха': 'Зоны отдыха',\n",
    "    'Аэропорт, ж/д вокзал (ж/д станция), речной или морской порт (пристань)': 'Транспортная инфраструктура',\n",
    "    'Подход к мосту, эстакаде, путепроводу': 'Транспортная инфраструктура',\n",
    "    'Регулируемый ж/д переезд с дежурным': 'Транспортная инфраструктура',\n",
    "    'Надземный пешеходный переход': 'Пешеходная инфраструктура',\n",
    "    'Нерегулируемый перекрёсток равнозначных улиц (дорог)': 'Транспортная инфраструктура',\n",
    "    'Кладбище': 'Религиозные сооружения',\n",
    "    'Тротуар, пешеходная дорожка': 'Пешеходная инфраструктура',\n",
    "    'Пешеходная зона': 'Пешеходная инфраструктура',\n",
    "    'Остановка маршрутного такси': 'Транспортная инфраструктура',\n",
    "    'Лечебные учреждения': 'Медицинские учреждения',\n",
    "    'Объект торговли, общественного питания на автодороге вне НП': 'Торговые объекты',\n",
    "    'Нерегулируемый ж/д переезд': 'Транспортная инфраструктура',\n",
    "    'Ледовая переправа (официально открытая и оборудованная);': 'Транспортная инфраструктура',\n",
    "    'СП ДПС (КПМ)': 'Службы безопасности',\n",
    "    'Иное образовательное учреждение': 'Образовательные учреждения',\n",
    "    'Территориальное подразделение МВД России (либо его структурное подразделение)': 'Службы безопасности',\n",
    "    'Автовокзал (автостанция)': 'Транспортная инфраструктура',\n",
    "    'Регулируемый пешеходный переход, расположенный на участке улицы или дороги, проходящей вдоль территории школы или иной детской организации': 'Пешеходная инфраструктура',\n",
    "    'Нерегулируемый пешеходный переход, расположенный на участке улицы или дороги, проходящей вдоль территории школы или иного детского учреждения': 'Пешеходная инфраструктура',\n",
    "    'Регулируемый пешеходный переход, расположенный на участке улицы или дороги, проходящей вдоль территории школы или иного детского учреждения': 'Пешеходная инфраструктура',\n",
    "    'Нерегулируемый перекрёсток  ': 'Транспортная инфраструктура',\n",
    "    'Место для перегона скота': 'Другие объекты',\n",
    "    'Нерегулируемое пересечение с круговым движением   ': 'Транспортная инфраструктура',\n",
    "    'Пункт весового контроля': 'Транспортная инфраструктура',\n",
    "    'Тоннель': 'Транспортная инфраструктура'\n",
    "}"
   ]
  },
  {
   "cell_type": "code",
   "execution_count": 27,
   "id": "7f8d192d",
   "metadata": {},
   "outputs": [],
   "source": [
    "# пишем функцию, которая заменит все значения в соответствии со словарем\n",
    "def replace_values(lst):\n",
    "    replaced_lst = [nearby_dictionary.get(item, \"Другие объекты\") for item in lst]\n",
    "    unique_values = list(set(replaced_lst))\n",
    "    unique_values.sort()  # Сортировка списка по алфавиту\n",
    "    return unique_values\n",
    "\n",
    "# Применяем функцию к каждому элементу DataFrame\n",
    "data['nearby'] = data['nearby'].map(replace_values)"
   ]
  },
  {
   "cell_type": "code",
   "execution_count": 28,
   "id": "01bf1f95",
   "metadata": {},
   "outputs": [],
   "source": [
    "# избавляемся от списка\n",
    "data['nearby']=data['nearby'].apply(lambda x: ', '.join(x))"
   ]
  },
  {
   "cell_type": "code",
   "execution_count": 29,
   "id": "308b7d10",
   "metadata": {},
   "outputs": [
    {
     "data": {
      "text/plain": [
       "6"
      ]
     },
     "execution_count": 29,
     "metadata": {},
     "output_type": "execute_result"
    }
   ],
   "source": [
    "data['nearby'].apply(lambda x: len(x.split(', '))).max()\n"
   ]
  },
  {
   "cell_type": "code",
   "execution_count": 30,
   "id": "4d74c38f",
   "metadata": {},
   "outputs": [
    {
     "name": "stdout",
     "output_type": "stream",
     "text": [
      "Объем файла 6.84 MB\n"
     ]
    }
   ],
   "source": [
    "print('Объем файла',round(data.memory_usage().sum() / (1024 * 1024),2),'MB')"
   ]
  },
  {
   "cell_type": "markdown",
   "id": "1ebd431f",
   "metadata": {},
   "source": [
    "Мы создали отельный файл, который можно вызвать по надобности, из основного файла мы удалили эту информацию. Файл стал весить меньше, 6.48 MB."
   ]
  },
  {
   "cell_type": "markdown",
   "id": "817acfcf",
   "metadata": {},
   "source": [
    "### region"
   ]
  },
  {
   "cell_type": "code",
   "execution_count": 31,
   "id": "e5a32ae0",
   "metadata": {},
   "outputs": [
    {
     "data": {
      "text/plain": [
       "array(['Барнаул', 'Немецкий национальный район', 'Шипуновский район',\n",
       "       'Чарышский район', 'Целинный район', 'Хабарский район',\n",
       "       'Усть-Пристанский район', 'Усть-Калманский район',\n",
       "       'Угловский район', 'Тюменцевский район', 'Троицкий район',\n",
       "       'Третьсяковский район', 'Топчихинский район', 'Тогульский район',\n",
       "       'Тальменский район', 'Табунский район', 'Шелаболихинский район',\n",
       "       'Солтонский район', 'Солонешенский район', 'Советский район',\n",
       "       'Суетский район', 'Славгородский район', 'Романовский район',\n",
       "       'Родинский район', 'Ребрихинский район', 'Поспелихинский район',\n",
       "       'Петропавловский район', 'Панкрушихинский район',\n",
       "       'Павловский район', 'Зональный район', 'Новичихинский район',\n",
       "       'Михайловский район', 'Мамонтовский район', 'Локтевский район',\n",
       "       'Кытмановский район', 'Курьинский район', 'Кулундинский район',\n",
       "       'Крутихинский район', 'Краснощековский район',\n",
       "       'Красногорский район', 'Косихинский район', 'Ключевский район',\n",
       "       'Каменский район', 'Калманский район', 'Змеиногорский район',\n",
       "       'Залесовский район', 'Завьяловский район', 'Ельцовский район',\n",
       "       'Егорьевский район', 'Волчихинский район', 'Быстроистокский район',\n",
       "       'Бурлинский район', 'Благовещенский район', 'Баевский район',\n",
       "       'Алтайский район', 'Алейский район', 'Смоленский район',\n",
       "       'Рубцовский район', 'Первомайский район', 'Заринский район',\n",
       "       'Бийский район', 'Рубцовск', 'Заринск', 'Бийск', 'Белокуриха',\n",
       "       'Сибирский', 'Новоалтайск', 'Яровое', 'Бурейский район',\n",
       "       'Свободненский район', 'Серышевский район', 'Белогорский район',\n",
       "       'Шимановский район', 'Тындинский район', 'Зейский район',\n",
       "       'Тамбовский район', 'Сковородинский район', 'Селемджинский район',\n",
       "       'Ромненский район', 'Октябрьский район', 'Мазановский район',\n",
       "       'Магдагачинский район', 'Константиновский район',\n",
       "       'Ивановский район', '7 - Завитинский район', 'Архаринский район',\n",
       "       'пгт. Углегорск', 'Благовещенск', 'Райчихинск', 'Белгород',\n",
       "       'Яковлевский район', 'Шебекинский  район', 'Чернянский район',\n",
       "       'Старооскольский район', 'Ровеньский район', 'Рекитянский район',\n",
       "       'Прохоровский район', 'Новооскольский район',\n",
       "       'Краснояружский район', 'Красногвардеский район',\n",
       "       'Красненский район', 'Корочанский район', 'Ивнянский район',\n",
       "       'Губкинский район', 'Грайворонский район', 'Волоконовский район',\n",
       "       'Вейделевский район', 'Валуйский район', 'Борисовский район',\n",
       "       'Белгородский район', 'Алексеевский район'], dtype=object)"
      ]
     },
     "execution_count": 31,
     "metadata": {},
     "output_type": "execute_result"
    }
   ],
   "source": [
    "data['region'].unique()"
   ]
  },
  {
   "cell_type": "code",
   "execution_count": 32,
   "id": "b9403a99",
   "metadata": {},
   "outputs": [
    {
     "name": "stdout",
     "output_type": "stream",
     "text": [
      "Объем файла 6.84 MB\n"
     ]
    }
   ],
   "source": [
    "print('Объем файла',round(data.memory_usage().sum() / (1024 * 1024),2),'MB')"
   ]
  },
  {
   "cell_type": "markdown",
   "id": "462591f0",
   "metadata": {},
   "source": [
    "Столбец с регионом оставляем без изменений, если он нам не пригодиться удалим его из конечного файла."
   ]
  },
  {
   "cell_type": "markdown",
   "id": "b8c262e1",
   "metadata": {},
   "source": [
    "### scheme\n"
   ]
  },
  {
   "cell_type": "code",
   "execution_count": 33,
   "id": "fa158bc6",
   "metadata": {},
   "outputs": [
    {
     "data": {
      "text/plain": [
       "array(['830', '880', '960', '130', '500', '210', '730', '200', '740',\n",
       "       '070', '810', '300', '090', '970', '600', '710', None, '040',\n",
       "       '820', '850', '770', '940', '910', '720', '030', '700', '430',\n",
       "       '140', '420', '110', '610', '330', '800', '440', '920', '190',\n",
       "       '930', '780', '760', '410', '060', '840', '750', '860', '220',\n",
       "       '400', '950', '870', '340', '120', '050', '010', '900', '100',\n",
       "       '980', '620', '310', '020', '320', '630', '230'], dtype=object)"
      ]
     },
     "execution_count": 33,
     "metadata": {},
     "output_type": "execute_result"
    }
   ],
   "source": [
    "data['scheme'].unique()"
   ]
  },
  {
   "cell_type": "markdown",
   "id": "127df613",
   "metadata": {},
   "source": [
    "Возможно удалим, пока не знаю. Схема дтп, что-то не понятное. Удаляем!"
   ]
  },
  {
   "cell_type": "code",
   "execution_count": 34,
   "id": "93d513fb",
   "metadata": {},
   "outputs": [],
   "source": [
    "data.drop('scheme', axis=1, inplace=True)\n"
   ]
  },
  {
   "cell_type": "code",
   "execution_count": 35,
   "id": "9225278a",
   "metadata": {},
   "outputs": [
    {
     "name": "stdout",
     "output_type": "stream",
     "text": [
      "Объем файла 6.48 MB\n"
     ]
    }
   ],
   "source": [
    "print('Объем файла',round(data.memory_usage().sum() / (1024 * 1024),2),'MB')"
   ]
  },
  {
   "cell_type": "markdown",
   "id": "0cdfae7b",
   "metadata": {},
   "source": [
    "### address"
   ]
  },
  {
   "cell_type": "code",
   "execution_count": 36,
   "id": "a53034fc",
   "metadata": {},
   "outputs": [
    {
     "data": {
      "text/plain": [
       "array([None, 'г Барнаул, ул Сиреневая, 11', 'г Барнаул, ул Попова, 165',\n",
       "       ..., 'г Алексеевка, ул Маяковского, 121',\n",
       "       'г Алексеевка, ул Мостовая, 153',\n",
       "       'а/д Валуйки-Алексеевка-Красное, 64 км'], dtype=object)"
      ]
     },
     "execution_count": 36,
     "metadata": {},
     "output_type": "execute_result"
    }
   ],
   "source": [
    "data['address'].unique()"
   ]
  },
  {
   "cell_type": "markdown",
   "id": "dec3a149",
   "metadata": {},
   "source": [
    "Адрес, удаляем."
   ]
  },
  {
   "cell_type": "code",
   "execution_count": 37,
   "id": "3acbd719",
   "metadata": {},
   "outputs": [],
   "source": [
    "data.drop('address', axis=1, inplace=True)\n"
   ]
  },
  {
   "cell_type": "code",
   "execution_count": 38,
   "id": "8d99e051",
   "metadata": {},
   "outputs": [
    {
     "name": "stdout",
     "output_type": "stream",
     "text": [
      "Объем файла 6.11 MB\n"
     ]
    }
   ],
   "source": [
    "print('Объем файла',round(data.memory_usage().sum() / (1024 * 1024),2),'MB')"
   ]
  },
  {
   "cell_type": "markdown",
   "id": "96f65f87",
   "metadata": {},
   "source": [
    "### weather"
   ]
  },
  {
   "cell_type": "code",
   "execution_count": 39,
   "id": "b67bd4a2",
   "metadata": {
    "scrolled": false
   },
   "outputs": [
    {
     "data": {
      "text/plain": [
       "['Ясно',\n",
       " 'Пасмурно',\n",
       " 'Снегопад',\n",
       " 'Дождь',\n",
       " 'Температура ниже -30С',\n",
       " 'Метель',\n",
       " 'Температура выше +30С',\n",
       " 'Ураганный ветер',\n",
       " 'Туман']"
      ]
     },
     "execution_count": 39,
     "metadata": {},
     "output_type": "execute_result"
    }
   ],
   "source": [
    " list(data.explode('weather')['weather'].unique())"
   ]
  },
  {
   "cell_type": "code",
   "execution_count": 40,
   "id": "2379063d",
   "metadata": {},
   "outputs": [
    {
     "data": {
      "text/plain": [
       "2"
      ]
     },
     "execution_count": 40,
     "metadata": {},
     "output_type": "execute_result"
    }
   ],
   "source": [
    "data['weather'].apply(len).max()"
   ]
  },
  {
   "cell_type": "code",
   "execution_count": 41,
   "id": "d0028175",
   "metadata": {},
   "outputs": [
    {
     "data": {
      "text/plain": [
       "weather\n",
       "Ясно                     29983\n",
       "Пасмурно                 12981\n",
       "Снегопад                  2618\n",
       "Дождь                     2549\n",
       "Метель                     498\n",
       "Туман                      259\n",
       "Температура выше +30С      216\n",
       "Температура ниже -30С      106\n",
       "Ураганный ветер             47\n",
       "Name: count, dtype: int64"
      ]
     },
     "execution_count": 41,
     "metadata": {},
     "output_type": "execute_result"
    }
   ],
   "source": [
    "expanded_weather = data['weather'].explode()\n",
    "\n",
    "# Подсчитать количество уникальных значений\n",
    "weather_counts = expanded_weather.value_counts()\n",
    "weather_counts"
   ]
  },
  {
   "cell_type": "markdown",
   "id": "e5016d0a",
   "metadata": {},
   "source": [
    "Для погоды оставим только слудующие показатели: Ясно и Пасмурно - эти 2 показателя занимают большую часть датасета. Если в строке нет ни Ясно ни Пасмурно, строку заполним Другая."
   ]
  },
  {
   "cell_type": "code",
   "execution_count": 42,
   "id": "9bf90502",
   "metadata": {},
   "outputs": [],
   "source": [
    "data['weather']=data['weather'].apply(lambda x: ','.join(x))"
   ]
  },
  {
   "cell_type": "code",
   "execution_count": 43,
   "id": "ef0eb978",
   "metadata": {},
   "outputs": [],
   "source": [
    "def process_weather(row):\n",
    "    if 'Ясно' in row:\n",
    "        return 'Ясно'\n",
    "    elif 'Пасмурно' in row:\n",
    "        return 'Пасмурно'\n",
    "    else:\n",
    "        return 'Другое'\n",
    "\n",
    "# Применяем функцию к столбцу\n",
    "data['weather'] = data['weather'].apply(process_weather)"
   ]
  },
  {
   "cell_type": "code",
   "execution_count": 44,
   "id": "39319d33",
   "metadata": {},
   "outputs": [
    {
     "data": {
      "text/plain": [
       "array(['Ясно', 'Пасмурно', 'Другое'], dtype=object)"
      ]
     },
     "execution_count": 44,
     "metadata": {},
     "output_type": "execute_result"
    }
   ],
   "source": [
    "data['weather'].unique()"
   ]
  },
  {
   "cell_type": "code",
   "execution_count": 45,
   "id": "fbc9c3cf",
   "metadata": {},
   "outputs": [
    {
     "name": "stdout",
     "output_type": "stream",
     "text": [
      "Объем файла 6.11 MB\n"
     ]
    }
   ],
   "source": [
    "print('Объем файла',round(data.memory_usage().sum() / (1024 * 1024),2),'MB')"
   ]
  },
  {
   "cell_type": "markdown",
   "id": "7ac5582f",
   "metadata": {},
   "source": [
    "### category"
   ]
  },
  {
   "cell_type": "code",
   "execution_count": 46,
   "id": "b0e53e68",
   "metadata": {},
   "outputs": [
    {
     "data": {
      "text/plain": [
       "array(['Наезд на пешехода', 'Иной вид ДТП', 'Падение пассажира',\n",
       "       'Столкновение', 'Наезд на велосипедиста', 'Съезд с дороги',\n",
       "       'Наезд на препятствие', 'Наезд на стоящее ТС', 'Опрокидывание',\n",
       "       'Наезд на животное',\n",
       "       'Наезд на лицо, не являющееся участником дорожного движения, осуществляющее производство работ',\n",
       "       'Отбрасывание предмета',\n",
       "       'Наезд на лицо, не являющееся участником дорожного движения, осуществляющее несение службы',\n",
       "       'Наезд на лицо, не являющееся участником дорожного движения, осуществляющее какую-либо другую деятельность',\n",
       "       'Наезд на внезапно возникшее препятствие',\n",
       "       'Наезд на гужевой транспорт',\n",
       "       'Возгорание вследствие технической неисправности движущегося или остановившегося ТС, участвующего в дорожном движении.',\n",
       "       'Падение груза'], dtype=object)"
      ]
     },
     "execution_count": 46,
     "metadata": {},
     "output_type": "execute_result"
    }
   ],
   "source": [
    "data['category'].unique()"
   ]
  },
  {
   "cell_type": "markdown",
   "id": "260bae02",
   "metadata": {},
   "source": [
    "Здесь все отлично, ничего изменять не будем."
   ]
  },
  {
   "cell_type": "markdown",
   "id": "d6439f3d",
   "metadata": {},
   "source": [
    "### datetime"
   ]
  },
  {
   "cell_type": "code",
   "execution_count": 47,
   "id": "fc3adec5",
   "metadata": {},
   "outputs": [
    {
     "data": {
      "text/plain": [
       "<DatetimeArray>\n",
       "['2023-05-24 19:30:00', '2015-09-16 13:00:00', '2017-08-25 15:30:00',\n",
       " '2021-05-29 19:40:00', '2021-05-25 16:40:00', '2021-02-22 13:50:00',\n",
       " '2022-12-01 11:50:00', '2017-12-15 21:48:00', '2022-10-11 17:15:00',\n",
       " '2022-10-08 21:00:00',\n",
       " ...\n",
       " '2018-05-20 12:55:00', '2018-03-03 11:00:00', '2018-03-05 22:45:00',\n",
       " '2016-07-01 01:35:00', '2019-02-15 14:25:00', '2019-02-17 18:00:00',\n",
       " '2017-12-11 09:30:00', '2017-09-26 19:15:00', '2019-01-19 20:00:00',\n",
       " '2019-07-17 20:43:00']\n",
       "Length: 46327, dtype: datetime64[ns]"
      ]
     },
     "execution_count": 47,
     "metadata": {},
     "output_type": "execute_result"
    }
   ],
   "source": [
    "data['datetime'].unique()"
   ]
  },
  {
   "cell_type": "code",
   "execution_count": 48,
   "id": "178abc9c",
   "metadata": {},
   "outputs": [],
   "source": [
    "data['date'] = data['datetime'].dt.date\n",
    "data['time'] = data['datetime'].dt.time"
   ]
  },
  {
   "cell_type": "code",
   "execution_count": 49,
   "id": "62c0d58b",
   "metadata": {},
   "outputs": [
    {
     "name": "stdout",
     "output_type": "stream",
     "text": [
      "Объем файла 6.48 MB\n"
     ]
    }
   ],
   "source": [
    "data.drop('datetime', axis=1, inplace=True)\n",
    "print('Объем файла',round(data.memory_usage().sum() / (1024 * 1024),2),'MB')"
   ]
  },
  {
   "cell_type": "markdown",
   "id": "33e169be",
   "metadata": {},
   "source": [
    "### severity"
   ]
  },
  {
   "cell_type": "code",
   "execution_count": 50,
   "id": "7ac3ce2d",
   "metadata": {},
   "outputs": [
    {
     "data": {
      "text/plain": [
       "array(['Легкий', 'Тяжёлый', 'С погибшими'], dtype=object)"
      ]
     },
     "execution_count": 50,
     "metadata": {},
     "output_type": "execute_result"
    }
   ],
   "source": [
    "data['severity'].unique()"
   ]
  },
  {
   "cell_type": "markdown",
   "id": "3a45a639",
   "metadata": {},
   "source": [
    "###  vehicles"
   ]
  },
  {
   "cell_type": "code",
   "execution_count": 51,
   "id": "fb2d7a80",
   "metadata": {},
   "outputs": [
    {
     "data": {
      "text/plain": [
       "10250"
      ]
     },
     "execution_count": 51,
     "metadata": {},
     "output_type": "execute_result"
    }
   ],
   "source": [
    "data['vehicles'].apply(len).max()"
   ]
  },
  {
   "cell_type": "code",
   "execution_count": 52,
   "id": "0f30798a",
   "metadata": {},
   "outputs": [],
   "source": [
    "# Функция для извлечения информации о машине и водителях\n",
    "def extract_driver_info(row):\n",
    "    data = json.loads(row['vehicles'])\n",
    "    drivers_info = []\n",
    "    for car in data:\n",
    "        car_id = row['id']\n",
    "        for participant in car.get(\"participants\", []):\n",
    "            if participant.get(\"role\") == \"Водитель\":\n",
    "                result = {\n",
    "                    \"id\": car_id,\n",
    "                    \"year\": car.get(\"year\"),\n",
    "                    \"brand\": car.get(\"brand\"),\n",
    "                    \"color\": car.get(\"color\"),\n",
    "                    \"model\": car.get(\"model\"),\n",
    "                    \"category\": car.get(\"category\"),\n",
    "                    \"driver_gender\": participant.get(\"gender\"),\n",
    "                    \"driver_violations\": participant.get(\"violations\"),\n",
    "                    \"driver_years_of_driving_experience\": participant.get(\"years_of_driving_experience\")\n",
    "                }\n",
    "                drivers_info.append(result)\n",
    "    return drivers_info\n",
    "\n",
    "# Применяем функцию к DataFrame и сохраняем результаты в новый DataFrame\n",
    "drivers_info_series = data.apply(extract_driver_info, axis=1)\n",
    "drivers_info_df = pd.DataFrame([item for sublist in drivers_info_series for item in sublist])\n"
   ]
  },
  {
   "cell_type": "code",
   "execution_count": 53,
   "id": "b1a0c859",
   "metadata": {},
   "outputs": [
    {
     "name": "stdout",
     "output_type": "stream",
     "text": [
      "<class 'pandas.core.frame.DataFrame'>\n",
      "RangeIndex: 70155 entries, 0 to 70154\n",
      "Data columns (total 9 columns):\n",
      " #   Column                              Non-Null Count  Dtype  \n",
      "---  ------                              --------------  -----  \n",
      " 0   id                                  70155 non-null  int64  \n",
      " 1   year                                68638 non-null  float64\n",
      " 2   brand                               68632 non-null  object \n",
      " 3   color                               68935 non-null  object \n",
      " 4   model                               68632 non-null  object \n",
      " 5   category                            70155 non-null  object \n",
      " 6   driver_gender                       68278 non-null  object \n",
      " 7   driver_violations                   70155 non-null  object \n",
      " 8   driver_years_of_driving_experience  61496 non-null  float64\n",
      "dtypes: float64(2), int64(1), object(6)\n",
      "memory usage: 4.8+ MB\n"
     ]
    }
   ],
   "source": [
    "drivers_info_df.info()"
   ]
  },
  {
   "cell_type": "code",
   "execution_count": 54,
   "id": "f77749b0",
   "metadata": {},
   "outputs": [
    {
     "data": {
      "text/html": [
       "<div>\n",
       "<style scoped>\n",
       "    .dataframe tbody tr th:only-of-type {\n",
       "        vertical-align: middle;\n",
       "    }\n",
       "\n",
       "    .dataframe tbody tr th {\n",
       "        vertical-align: top;\n",
       "    }\n",
       "\n",
       "    .dataframe thead th {\n",
       "        text-align: right;\n",
       "    }\n",
       "</style>\n",
       "<table border=\"1\" class=\"dataframe\">\n",
       "  <thead>\n",
       "    <tr style=\"text-align: right;\">\n",
       "      <th></th>\n",
       "      <th>id</th>\n",
       "      <th>year</th>\n",
       "      <th>brand</th>\n",
       "      <th>color</th>\n",
       "      <th>model</th>\n",
       "      <th>category</th>\n",
       "      <th>driver_gender</th>\n",
       "      <th>driver_violations</th>\n",
       "      <th>driver_years_of_driving_experience</th>\n",
       "    </tr>\n",
       "  </thead>\n",
       "  <tbody>\n",
       "    <tr>\n",
       "      <th>0</th>\n",
       "      <td>2869171</td>\n",
       "      <td>2015.0</td>\n",
       "      <td>Прочие марки ТС</td>\n",
       "      <td>Черный</td>\n",
       "      <td>Прочие марки и модели ТС</td>\n",
       "      <td>Мопеды с двигателем внутреннего сгорания менее 50 см. куб.</td>\n",
       "      <td>Мужской</td>\n",
       "      <td>[Управление мопедом лицом моложе 16 лет, Управление ТС лицом, не имеющим права на управление ТС, Оставление места ДТП, Невыполнение требований обеспечения безопасности при начале движения]</td>\n",
       "      <td>NaN</td>\n",
       "    </tr>\n",
       "    <tr>\n",
       "      <th>1</th>\n",
       "      <td>2320091</td>\n",
       "      <td>2002.0</td>\n",
       "      <td>TOYOTA</td>\n",
       "      <td>Серый</td>\n",
       "      <td>Corolla</td>\n",
       "      <td>С-класс (малый средний, компактный) до 4,3 м</td>\n",
       "      <td>Мужской</td>\n",
       "      <td>[Несоблюдение условий, разрешающих движение транспорта задним ходом]</td>\n",
       "      <td>14.0</td>\n",
       "    </tr>\n",
       "    <tr>\n",
       "      <th>2</th>\n",
       "      <td>2321011</td>\n",
       "      <td>1981.0</td>\n",
       "      <td>DAIMLER</td>\n",
       "      <td>Многоцветный</td>\n",
       "      <td>Прочие модели DAIMLER</td>\n",
       "      <td>Одноэтажные длиной от 8 до 12 м</td>\n",
       "      <td>Мужской</td>\n",
       "      <td>[]</td>\n",
       "      <td>25.0</td>\n",
       "    </tr>\n",
       "    <tr>\n",
       "      <th>3</th>\n",
       "      <td>2576909</td>\n",
       "      <td>2001.0</td>\n",
       "      <td>HONDA</td>\n",
       "      <td>Серый</td>\n",
       "      <td>Torneo</td>\n",
       "      <td>В-класс (малый) до 3,9 м</td>\n",
       "      <td>Женский</td>\n",
       "      <td>[Несоблюдение очередности проезда]</td>\n",
       "      <td>5.0</td>\n",
       "    </tr>\n",
       "    <tr>\n",
       "      <th>4</th>\n",
       "      <td>2576909</td>\n",
       "      <td>1987.0</td>\n",
       "      <td>HONDA</td>\n",
       "      <td>Синий</td>\n",
       "      <td>Magna</td>\n",
       "      <td>Мотоциклы</td>\n",
       "      <td>Мужской</td>\n",
       "      <td>[]</td>\n",
       "      <td>7.0</td>\n",
       "    </tr>\n",
       "  </tbody>\n",
       "</table>\n",
       "</div>"
      ],
      "text/plain": [
       "        id    year            brand         color                     model  \\\n",
       "0  2869171  2015.0  Прочие марки ТС        Черный  Прочие марки и модели ТС   \n",
       "1  2320091  2002.0           TOYOTA         Серый                   Corolla   \n",
       "2  2321011  1981.0          DAIMLER  Многоцветный     Прочие модели DAIMLER   \n",
       "3  2576909  2001.0            HONDA         Серый                    Torneo   \n",
       "4  2576909  1987.0            HONDA         Синий                     Magna   \n",
       "\n",
       "                                                     category driver_gender  \\\n",
       "0  Мопеды с двигателем внутреннего сгорания менее 50 см. куб.       Мужской   \n",
       "1                С-класс (малый средний, компактный) до 4,3 м       Мужской   \n",
       "2                             Одноэтажные длиной от 8 до 12 м       Мужской   \n",
       "3                                    В-класс (малый) до 3,9 м       Женский   \n",
       "4                                                   Мотоциклы       Мужской   \n",
       "\n",
       "                                                                                                                                                                              driver_violations  \\\n",
       "0  [Управление мопедом лицом моложе 16 лет, Управление ТС лицом, не имеющим права на управление ТС, Оставление места ДТП, Невыполнение требований обеспечения безопасности при начале движения]   \n",
       "1                                                                                                                          [Несоблюдение условий, разрешающих движение транспорта задним ходом]   \n",
       "2                                                                                                                                                                                            []   \n",
       "3                                                                                                                                                            [Несоблюдение очередности проезда]   \n",
       "4                                                                                                                                                                                            []   \n",
       "\n",
       "   driver_years_of_driving_experience  \n",
       "0                                 NaN  \n",
       "1                                14.0  \n",
       "2                                25.0  \n",
       "3                                 5.0  \n",
       "4                                 7.0  "
      ]
     },
     "execution_count": 54,
     "metadata": {},
     "output_type": "execute_result"
    }
   ],
   "source": [
    "pd.set_option('display.max_colwidth', None)\n",
    "\n",
    "drivers_info_df.head()"
   ]
  },
  {
   "cell_type": "code",
   "execution_count": 55,
   "id": "100c1bf4",
   "metadata": {},
   "outputs": [
    {
     "name": "stdout",
     "output_type": "stream",
     "text": [
      "Объем файла 6.11 MB\n"
     ]
    }
   ],
   "source": [
    "data.drop('vehicles', axis=1, inplace=True)\n",
    "print('Объем файла',round(data.memory_usage().sum() / (1024 * 1024),2),'MB')"
   ]
  },
  {
   "cell_type": "markdown",
   "id": "2698fb9f",
   "metadata": {},
   "source": [
    "### dead_count"
   ]
  },
  {
   "cell_type": "code",
   "execution_count": 56,
   "id": "bd9092b5",
   "metadata": {},
   "outputs": [
    {
     "data": {
      "text/plain": [
       "array([ 0,  1,  2,  4,  3,  5,  8,  6,  9, 11])"
      ]
     },
     "execution_count": 56,
     "metadata": {},
     "output_type": "execute_result"
    }
   ],
   "source": [
    "data['dead_count'].unique()"
   ]
  },
  {
   "cell_type": "code",
   "execution_count": 57,
   "id": "87ccbbe8",
   "metadata": {},
   "outputs": [],
   "source": [
    "data['dead_count']=data['dead_count'].astype('int16')"
   ]
  },
  {
   "cell_type": "markdown",
   "id": "45e497d0",
   "metadata": {},
   "source": [
    "### participants"
   ]
  },
  {
   "cell_type": "code",
   "execution_count": 58,
   "id": "db98e0b4",
   "metadata": {},
   "outputs": [
    {
     "data": {
      "text/plain": [
       "0    [ { \"role\": \"Пешеход\", \"gender\": \"Мужской\", \"violations\": [ ], \"health_status\": \"Раненый, находящийся (находившийся) на амбулаторном лечении, либо в условиях дневного стационара\" } ]\n",
       "1                                                                                                                                                                                       [ ]\n",
       "2                                                                                                                                                                                       [ ]\n",
       "3                                                                                                                                                                                       [ ]\n",
       "4                                                                                                                                                                                       [ ]\n",
       "Name: participants, dtype: object"
      ]
     },
     "execution_count": 58,
     "metadata": {},
     "output_type": "execute_result"
    }
   ],
   "source": [
    "pd.set_option('display.max_colwidth', None)\n",
    "\n",
    "data['participants'].head(5)"
   ]
  },
  {
   "cell_type": "code",
   "execution_count": 59,
   "id": "489fdc3d",
   "metadata": {},
   "outputs": [],
   "source": [
    "# Функция для извлечения информации о каждом участнике\n",
    "def extract_participant_info(row):\n",
    "    participants_data = json.loads(row['participants'])\n",
    "    participants_info = []\n",
    "    for participant in participants_data:\n",
    "        result = {\n",
    "            \"id\": row['id'],\n",
    "            \"role\": participant.get(\"role\"),\n",
    "            \"gender\": participant.get(\"gender\"),\n",
    "            \"violations\": participant.get(\"violations\"),\n",
    "            \"health_status\": participant.get(\"health_status\")\n",
    "        }\n",
    "        participants_info.append(result)\n",
    "    return participants_info\n",
    "\n",
    "# Применяем функцию к DataFrame и сохраняем результаты в новый DataFrame\n",
    "participants_info_series = data.apply(extract_participant_info, axis=1)\n",
    "participants_info_df = pd.DataFrame([item for sublist in participants_info_series for item in sublist])\n"
   ]
  },
  {
   "cell_type": "code",
   "execution_count": 60,
   "id": "a56d9ea0",
   "metadata": {},
   "outputs": [
    {
     "name": "stdout",
     "output_type": "stream",
     "text": [
      "<class 'pandas.core.frame.DataFrame'>\n",
      "RangeIndex: 15651 entries, 0 to 15650\n",
      "Data columns (total 5 columns):\n",
      " #   Column         Non-Null Count  Dtype \n",
      "---  ------         --------------  ----- \n",
      " 0   id             15651 non-null  int64 \n",
      " 1   role           15651 non-null  object\n",
      " 2   gender         15379 non-null  object\n",
      " 3   violations     15651 non-null  object\n",
      " 4   health_status  15651 non-null  object\n",
      "dtypes: int64(1), object(4)\n",
      "memory usage: 611.5+ KB\n"
     ]
    }
   ],
   "source": [
    "participants_info_df.info()"
   ]
  },
  {
   "cell_type": "code",
   "execution_count": 61,
   "id": "de665ebd",
   "metadata": {},
   "outputs": [
    {
     "data": {
      "text/html": [
       "<div>\n",
       "<style scoped>\n",
       "    .dataframe tbody tr th:only-of-type {\n",
       "        vertical-align: middle;\n",
       "    }\n",
       "\n",
       "    .dataframe tbody tr th {\n",
       "        vertical-align: top;\n",
       "    }\n",
       "\n",
       "    .dataframe thead th {\n",
       "        text-align: right;\n",
       "    }\n",
       "</style>\n",
       "<table border=\"1\" class=\"dataframe\">\n",
       "  <thead>\n",
       "    <tr style=\"text-align: right;\">\n",
       "      <th></th>\n",
       "      <th>id</th>\n",
       "      <th>role</th>\n",
       "      <th>gender</th>\n",
       "      <th>violations</th>\n",
       "      <th>health_status</th>\n",
       "    </tr>\n",
       "  </thead>\n",
       "  <tbody>\n",
       "    <tr>\n",
       "      <th>0</th>\n",
       "      <td>2869171</td>\n",
       "      <td>Пешеход</td>\n",
       "      <td>Мужской</td>\n",
       "      <td>[]</td>\n",
       "      <td>Раненый, находящийся (находившийся) на амбулаторном лечении, либо в условиях дневного стационара</td>\n",
       "    </tr>\n",
       "    <tr>\n",
       "      <th>1</th>\n",
       "      <td>2801648</td>\n",
       "      <td>Пешеход</td>\n",
       "      <td>Женский</td>\n",
       "      <td>[]</td>\n",
       "      <td>Раненый, находящийся (находившийся) на амбулаторном лечении, либо в условиях дневного стационара</td>\n",
       "    </tr>\n",
       "    <tr>\n",
       "      <th>2</th>\n",
       "      <td>2771096</td>\n",
       "      <td>Пешеход</td>\n",
       "      <td>Женский</td>\n",
       "      <td>[]</td>\n",
       "      <td>Раненый, находящийся (находившийся) на стационарном лечении</td>\n",
       "    </tr>\n",
       "    <tr>\n",
       "      <th>3</th>\n",
       "      <td>2771105</td>\n",
       "      <td>Пешеход</td>\n",
       "      <td>Женский</td>\n",
       "      <td>[]</td>\n",
       "      <td>Раненый, находящийся (находившийся) на амбулаторном лечении, либо в условиях дневного стационара</td>\n",
       "    </tr>\n",
       "    <tr>\n",
       "      <th>4</th>\n",
       "      <td>2313364</td>\n",
       "      <td>Пешеход</td>\n",
       "      <td>Мужской</td>\n",
       "      <td>[]</td>\n",
       "      <td>Раненый, находящийся (находившийся)  на амбулаторном лечении, либо которому по характеру полученных травм обозначена необходимость амбулаторного лечения (вне зависимости от его фактического прохождения)</td>\n",
       "    </tr>\n",
       "  </tbody>\n",
       "</table>\n",
       "</div>"
      ],
      "text/plain": [
       "        id     role   gender violations  \\\n",
       "0  2869171  Пешеход  Мужской         []   \n",
       "1  2801648  Пешеход  Женский         []   \n",
       "2  2771096  Пешеход  Женский         []   \n",
       "3  2771105  Пешеход  Женский         []   \n",
       "4  2313364  Пешеход  Мужской         []   \n",
       "\n",
       "                                                                                                                                                                                                health_status  \n",
       "0                                                                                                            Раненый, находящийся (находившийся) на амбулаторном лечении, либо в условиях дневного стационара  \n",
       "1                                                                                                            Раненый, находящийся (находившийся) на амбулаторном лечении, либо в условиях дневного стационара  \n",
       "2                                                                                                                                                 Раненый, находящийся (находившийся) на стационарном лечении  \n",
       "3                                                                                                            Раненый, находящийся (находившийся) на амбулаторном лечении, либо в условиях дневного стационара  \n",
       "4  Раненый, находящийся (находившийся)  на амбулаторном лечении, либо которому по характеру полученных травм обозначена необходимость амбулаторного лечения (вне зависимости от его фактического прохождения)  "
      ]
     },
     "execution_count": 61,
     "metadata": {},
     "output_type": "execute_result"
    }
   ],
   "source": [
    "pd.set_option('display.max_colwidth', None)\n",
    "\n",
    "participants_info_df.head()"
   ]
  },
  {
   "cell_type": "code",
   "execution_count": 62,
   "id": "e433f6e1",
   "metadata": {},
   "outputs": [
    {
     "name": "stdout",
     "output_type": "stream",
     "text": [
      "Объем файла 5.47 MB\n"
     ]
    }
   ],
   "source": [
    "data.drop('participants', axis=1, inplace=True)\n",
    "print('Объем файла',round(data.memory_usage().sum() / (1024 * 1024),2),'MB')"
   ]
  },
  {
   "cell_type": "markdown",
   "id": "7dc0b287",
   "metadata": {},
   "source": [
    "### injured_count"
   ]
  },
  {
   "cell_type": "code",
   "execution_count": 63,
   "id": "936704e5",
   "metadata": {},
   "outputs": [
    {
     "data": {
      "text/plain": [
       "array([ 1,  3,  0,  2,  4,  5,  7,  6, 12, 23,  8,  9, 14, 10, 11, 34, 17,\n",
       "       18, 13, 15])"
      ]
     },
     "execution_count": 63,
     "metadata": {},
     "output_type": "execute_result"
    }
   ],
   "source": [
    "data['injured_count'].unique()"
   ]
  },
  {
   "cell_type": "code",
   "execution_count": 64,
   "id": "b9b46223",
   "metadata": {},
   "outputs": [],
   "source": [
    "data['injured_count']=data['injured_count'].astype('int16')"
   ]
  },
  {
   "cell_type": "markdown",
   "id": "9455b1c5",
   "metadata": {},
   "source": [
    "### parent_region"
   ]
  },
  {
   "cell_type": "code",
   "execution_count": 65,
   "id": "0d6db080",
   "metadata": {},
   "outputs": [
    {
     "data": {
      "text/plain": [
       "array(['Алтайский край', 'Амурская область', 'Белгородская область'],\n",
       "      dtype=object)"
      ]
     },
     "execution_count": 65,
     "metadata": {},
     "output_type": "execute_result"
    }
   ],
   "source": [
    "data['parent_region'].unique()"
   ]
  },
  {
   "cell_type": "markdown",
   "id": "2500c26b",
   "metadata": {},
   "source": [
    "### road_conditions"
   ]
  },
  {
   "cell_type": "code",
   "execution_count": 66,
   "id": "14eaeb5b",
   "metadata": {},
   "outputs": [
    {
     "data": {
      "text/plain": [
       "5"
      ]
     },
     "execution_count": 66,
     "metadata": {},
     "output_type": "execute_result"
    }
   ],
   "source": [
    "data['road_conditions'].apply(len).max()"
   ]
  },
  {
   "cell_type": "code",
   "execution_count": 67,
   "id": "ec7d68b1",
   "metadata": {
    "scrolled": true
   },
   "outputs": [
    {
     "data": {
      "text/plain": [
       "['Сухое',\n",
       " 'Отсутствие, плохая различимость горизонтальной разметки проезжей части',\n",
       " 'Неправильное применение, плохая видимость дорожных знаков',\n",
       " 'Обработанное противогололедными материалами',\n",
       " 'Иные недостатки',\n",
       " 'Отсутствие элементов обустройства остановочного пункта общественного пассажирского транспорта',\n",
       " 'Отсутствие дорожных знаков в необходимых местах',\n",
       " 'Недостатки зимнего содержания',\n",
       " 'Со снежным накатом',\n",
       " 'Недостаточное освещение',\n",
       " 'Заснеженное',\n",
       " 'Отсутствие пешеходных ограждений в необходимых местах',\n",
       " 'Мокрое',\n",
       " 'Дефекты покрытия',\n",
       " 'Неисправное освещение',\n",
       " 'Отсутствие освещения',\n",
       " 'Отсутствие дорожных ограждений в необходимых местах',\n",
       " 'Неисправность светофора',\n",
       " 'Отсутствие временных ТСОД в местах проведения работ',\n",
       " 'Отсутствие тротуаров (пешеходных дорожек)',\n",
       " 'Гололедица',\n",
       " 'Отклонение верха головки рельса трамвайных (железнодорожных) путей, расположенных в пределах проезжей части, относительно покрытия, более чем на 2,0 см',\n",
       " 'Плохая видимость светофора',\n",
       " 'Отсутствие, плохая различимость вертикальной разметки',\n",
       " 'Загрязненное',\n",
       " 'Неудовлетворительное состояние обочин',\n",
       " 'Сужение проезжей части, наличие препятствий, затрудняющих движение транспортных средств',\n",
       " 'Нарушения в размещении наружной рекламы',\n",
       " 'Ограничение видимости',\n",
       " 'Несоответствие люков смотровых колодцев и ливневой канализации предъявляемым требованиям',\n",
       " 'Несоответствие дорожных ограждений предъявляемым требованиям',\n",
       " 'Отсутствие направляющих устройств и световозвращающих элементов на них',\n",
       " 'Свежеуложенная поверхностная обработка',\n",
       " 'Пыльное',\n",
       " 'Неровное покрытие',\n",
       " 'Несоответствие железнодорожного переезда предъявляемым требованиям',\n",
       " 'Плохая видимость световозвращателей, размещенных на дорожных ограждениях',\n",
       " 'Залитое (покрытое) водой',\n",
       " 'Низкие сцепные качества покрытия',\n",
       " 'Не установлено',\n",
       " 'Неудовлетворительное состояние разделительной полосы']"
      ]
     },
     "execution_count": 67,
     "metadata": {},
     "output_type": "execute_result"
    }
   ],
   "source": [
    " list(data.explode('road_conditions')['road_conditions'].unique())"
   ]
  },
  {
   "cell_type": "code",
   "execution_count": 68,
   "id": "f98464df",
   "metadata": {},
   "outputs": [],
   "source": [
    "\n",
    "# Функция для извлечения состояния покрытия дороги и отсутствия элементов безопасности\n",
    "def extract_road_conditions(conditions_list):\n",
    "    road_surface_conditions = [\n",
    "        'Сухое', 'Обработанное противогололедными материалами', 'Со снежным накатом', 'Заснеженное',\n",
    "        'Мокрое', 'Гололедица', 'Загрязненное', 'Пыльное', 'Залитое (покрытое) водой',\n",
    "        'Плохая различимость горизонтальной разметки проезжей части', \n",
    "        'Плохая различимость вертикальной разметки', 'Неровное покрытие', \n",
    "        'Низкие сцепные качества покрытия'\n",
    "    ]\n",
    "    \n",
    "    road_lack_safety_features_conditions = [\n",
    "        'Отсутствие дорожных знаков в необходимых местах', 'Отсутствие дорожных ограждений в необходимых местах',\n",
    "        'Отсутствие пешеходных ограждений в необходимых местах', 'Отсутствие освещения',\n",
    "        'Неудовлетворительное состояние обочин', 'Отсутствие тротуаров (пешеходных дорожек)',\n",
    "        'Отсутствие временных ТСОД в местах проведения работ', \n",
    "        'Отсутствие, плохая различимость горизонтальной разметки проезжей части',\n",
    "        'Несоответствие дорожных ограждений предъявляемым требованиям'\n",
    "    ]\n",
    "    \n",
    "    road_surface = ', '.join([condition for condition in conditions_list if condition in road_surface_conditions])\n",
    "    road_lack_safety_features = ', '.join([condition for condition in conditions_list if condition in road_lack_safety_features_conditions])\n",
    "    \n",
    "    if not road_surface:\n",
    "        road_surface = 'Другое'\n",
    "    \n",
    "    if not road_lack_safety_features:\n",
    "        road_lack_safety_features = 'Другое'\n",
    "    \n",
    "    return pd.Series({\n",
    "        'road_surface': road_surface,\n",
    "        'road_lack_safety_features': road_lack_safety_features\n",
    "    })\n",
    "\n",
    "# Применяем функцию к DataFrame и сохраняем результаты в новых столбцах\n",
    "extracted_conditions = data['road_conditions'].apply(extract_road_conditions)\n",
    "data = pd.concat([data, extracted_conditions], axis=1)\n"
   ]
  },
  {
   "cell_type": "code",
   "execution_count": 69,
   "id": "7599779c",
   "metadata": {},
   "outputs": [
    {
     "name": "stdout",
     "output_type": "stream",
     "text": [
      "Объем файла 5.56 MB\n"
     ]
    }
   ],
   "source": [
    "data.drop('road_conditions', axis=1, inplace=True)\n",
    "print('Объем файла',round(data.memory_usage().sum() / (1024 * 1024),2),'MB')"
   ]
  },
  {
   "cell_type": "markdown",
   "id": "217daab7",
   "metadata": {},
   "source": [
    "### participants_count"
   ]
  },
  {
   "cell_type": "code",
   "execution_count": 70,
   "id": "51e6d349",
   "metadata": {},
   "outputs": [
    {
     "data": {
      "text/plain": [
       "array([ 2,  3,  4,  1,  7,  6,  5,  9,  8, 13, 11, 15, 24, 10, 16, 17, 36,\n",
       "       23, 38, 14, 12, 20, 25, 21])"
      ]
     },
     "execution_count": 70,
     "metadata": {},
     "output_type": "execute_result"
    }
   ],
   "source": [
    "data['participants_count'].unique()"
   ]
  },
  {
   "cell_type": "code",
   "execution_count": 71,
   "id": "3a59ee27",
   "metadata": {},
   "outputs": [],
   "source": [
    "data['participants_count']=data['participants_count'].astype('int16')"
   ]
  },
  {
   "cell_type": "markdown",
   "id": "b69e3dde",
   "metadata": {},
   "source": [
    "### participant_categories"
   ]
  },
  {
   "cell_type": "code",
   "execution_count": 72,
   "id": "24069b36",
   "metadata": {},
   "outputs": [
    {
     "data": {
      "text/plain": [
       "0    [Все участники, Пешеходы, Мотоциклисты]\n",
       "1                      [Дети, Все участники]\n",
       "2                      [Дети, Все участники]\n",
       "3              [Мотоциклисты, Все участники]\n",
       "4                            [Все участники]\n",
       "Name: participant_categories, dtype: object"
      ]
     },
     "execution_count": 72,
     "metadata": {},
     "output_type": "execute_result"
    }
   ],
   "source": [
    "data['participant_categories'].head()"
   ]
  },
  {
   "cell_type": "code",
   "execution_count": 73,
   "id": "a148e30c",
   "metadata": {},
   "outputs": [
    {
     "data": {
      "text/plain": [
       "4"
      ]
     },
     "execution_count": 73,
     "metadata": {},
     "output_type": "execute_result"
    }
   ],
   "source": [
    "data['participant_categories'].apply(len).max()"
   ]
  },
  {
   "cell_type": "code",
   "execution_count": 74,
   "id": "faa663a2",
   "metadata": {},
   "outputs": [
    {
     "data": {
      "text/plain": [
       "['Все участники',\n",
       " 'Пешеходы',\n",
       " 'Мотоциклисты',\n",
       " 'Дети',\n",
       " 'Велосипедисты',\n",
       " 'Общ. транспорт']"
      ]
     },
     "execution_count": 74,
     "metadata": {},
     "output_type": "execute_result"
    }
   ],
   "source": [
    " list(data.explode('participant_categories')['participant_categories'].unique())"
   ]
  },
  {
   "cell_type": "code",
   "execution_count": 75,
   "id": "df655763",
   "metadata": {},
   "outputs": [
    {
     "data": {
      "text/plain": [
       "participant_categories\n",
       "Все участники     47820\n",
       "Пешеходы          14850\n",
       "Дети               5180\n",
       "Мотоциклисты       3339\n",
       "Велосипедисты      1603\n",
       "Общ. транспорт      532\n",
       "Name: count, dtype: int64"
      ]
     },
     "execution_count": 75,
     "metadata": {},
     "output_type": "execute_result"
    }
   ],
   "source": [
    "expanded_weather = data['participant_categories'].explode()\n",
    "\n",
    "# Подсчитать количество уникальных значений\n",
    "weather_counts = expanded_weather.value_counts()\n",
    "weather_counts"
   ]
  },
  {
   "cell_type": "code",
   "execution_count": 76,
   "id": "4cda54f9",
   "metadata": {},
   "outputs": [],
   "source": [
    "# Функция для извлечения категорий участников\n",
    "def extract_participant_categories(categories_list):\n",
    "    all_participants = 'Все участники' in categories_list\n",
    "    pedestrians = 'Пешеходы' in categories_list\n",
    "    motorcyclists = 'Мотоциклисты' in categories_list\n",
    "    children = 'Дети' in categories_list\n",
    "    \n",
    "    return pd.Series({\n",
    "        'all_participants': int(all_participants),\n",
    "        'pedestrians': int(pedestrians),\n",
    "        'motorcyclists': int(motorcyclists),\n",
    "        'children': int(children)\n",
    "    }).astype('int16')\n",
    "\n",
    "# Применяем функцию к DataFrame и сохраняем результаты в новых столбцах\n",
    "extracted_categories = data['participant_categories'].apply(extract_participant_categories)\n",
    "data = pd.concat([data, extracted_categories], axis=1)\n"
   ]
  },
  {
   "cell_type": "code",
   "execution_count": 77,
   "id": "b024fb6e",
   "metadata": {},
   "outputs": [
    {
     "data": {
      "text/html": [
       "<div>\n",
       "<style scoped>\n",
       "    .dataframe tbody tr th:only-of-type {\n",
       "        vertical-align: middle;\n",
       "    }\n",
       "\n",
       "    .dataframe tbody tr th {\n",
       "        vertical-align: top;\n",
       "    }\n",
       "\n",
       "    .dataframe thead th {\n",
       "        text-align: right;\n",
       "    }\n",
       "</style>\n",
       "<table border=\"1\" class=\"dataframe\">\n",
       "  <thead>\n",
       "    <tr style=\"text-align: right;\">\n",
       "      <th></th>\n",
       "      <th>id</th>\n",
       "      <th>tags</th>\n",
       "      <th>light</th>\n",
       "      <th>point</th>\n",
       "      <th>nearby</th>\n",
       "      <th>region</th>\n",
       "      <th>weather</th>\n",
       "      <th>category</th>\n",
       "      <th>severity</th>\n",
       "      <th>dead_count</th>\n",
       "      <th>injured_count</th>\n",
       "      <th>parent_region</th>\n",
       "      <th>participants_count</th>\n",
       "      <th>participant_categories</th>\n",
       "      <th>date</th>\n",
       "      <th>time</th>\n",
       "      <th>road_surface</th>\n",
       "      <th>road_lack_safety_features</th>\n",
       "      <th>all_participants</th>\n",
       "      <th>pedestrians</th>\n",
       "      <th>motorcyclists</th>\n",
       "      <th>children</th>\n",
       "    </tr>\n",
       "  </thead>\n",
       "  <tbody>\n",
       "    <tr>\n",
       "      <th>0</th>\n",
       "      <td>2869171</td>\n",
       "      <td>1</td>\n",
       "      <td>Светлое время суток</td>\n",
       "      <td>[53.3912, 83.7879]</td>\n",
       "      <td>Жилая застройка</td>\n",
       "      <td>Барнаул</td>\n",
       "      <td>Ясно</td>\n",
       "      <td>Наезд на пешехода</td>\n",
       "      <td>Легкий</td>\n",
       "      <td>0</td>\n",
       "      <td>1</td>\n",
       "      <td>Алтайский край</td>\n",
       "      <td>2</td>\n",
       "      <td>[Все участники, Пешеходы, Мотоциклисты]</td>\n",
       "      <td>2023-05-24</td>\n",
       "      <td>19:30:00</td>\n",
       "      <td>Сухое</td>\n",
       "      <td>Другое</td>\n",
       "      <td>1</td>\n",
       "      <td>1</td>\n",
       "      <td>1</td>\n",
       "      <td>0</td>\n",
       "    </tr>\n",
       "    <tr>\n",
       "      <th>1</th>\n",
       "      <td>2320091</td>\n",
       "      <td>12</td>\n",
       "      <td>Светлое время суток</td>\n",
       "      <td>[53.345833, 83.666389]</td>\n",
       "      <td>Жилая застройка, Образовательные учреждения</td>\n",
       "      <td>Барнаул</td>\n",
       "      <td>Пасмурно</td>\n",
       "      <td>Иной вид ДТП</td>\n",
       "      <td>Легкий</td>\n",
       "      <td>0</td>\n",
       "      <td>1</td>\n",
       "      <td>Алтайский край</td>\n",
       "      <td>2</td>\n",
       "      <td>[Дети, Все участники]</td>\n",
       "      <td>2015-09-16</td>\n",
       "      <td>13:00:00</td>\n",
       "      <td>Сухое</td>\n",
       "      <td>Другое</td>\n",
       "      <td>1</td>\n",
       "      <td>0</td>\n",
       "      <td>0</td>\n",
       "      <td>1</td>\n",
       "    </tr>\n",
       "    <tr>\n",
       "      <th>2</th>\n",
       "      <td>2321011</td>\n",
       "      <td>12</td>\n",
       "      <td>Светлое время суток</td>\n",
       "      <td>[53.19706, 83.39688]</td>\n",
       "      <td>Административные здания, Пешеходная инфраструктура, Транспортная инфраструктура</td>\n",
       "      <td>Барнаул</td>\n",
       "      <td>Ясно</td>\n",
       "      <td>Падение пассажира</td>\n",
       "      <td>Легкий</td>\n",
       "      <td>0</td>\n",
       "      <td>1</td>\n",
       "      <td>Алтайский край</td>\n",
       "      <td>3</td>\n",
       "      <td>[Дети, Все участники]</td>\n",
       "      <td>2017-08-25</td>\n",
       "      <td>15:30:00</td>\n",
       "      <td>Сухое</td>\n",
       "      <td>Другое</td>\n",
       "      <td>1</td>\n",
       "      <td>0</td>\n",
       "      <td>0</td>\n",
       "      <td>1</td>\n",
       "    </tr>\n",
       "    <tr>\n",
       "      <th>3</th>\n",
       "      <td>2576909</td>\n",
       "      <td>1</td>\n",
       "      <td>Светлое время суток</td>\n",
       "      <td>[53.3764, 83.7142]</td>\n",
       "      <td>Административные здания, Пешеходная инфраструктура, Транспортная инфраструктура</td>\n",
       "      <td>Барнаул</td>\n",
       "      <td>Ясно</td>\n",
       "      <td>Столкновение</td>\n",
       "      <td>Тяжёлый</td>\n",
       "      <td>0</td>\n",
       "      <td>1</td>\n",
       "      <td>Алтайский край</td>\n",
       "      <td>3</td>\n",
       "      <td>[Мотоциклисты, Все участники]</td>\n",
       "      <td>2021-05-29</td>\n",
       "      <td>19:40:00</td>\n",
       "      <td>Сухое</td>\n",
       "      <td>Отсутствие, плохая различимость горизонтальной разметки проезжей части</td>\n",
       "      <td>1</td>\n",
       "      <td>0</td>\n",
       "      <td>1</td>\n",
       "      <td>0</td>\n",
       "    </tr>\n",
       "    <tr>\n",
       "      <th>4</th>\n",
       "      <td>2575209</td>\n",
       "      <td>1</td>\n",
       "      <td>Светлое время суток</td>\n",
       "      <td>[53.343071, 83.794366]</td>\n",
       "      <td>Жилая застройка, Пешеходная инфраструктура, Транспортная инфраструктура</td>\n",
       "      <td>Барнаул</td>\n",
       "      <td>Ясно</td>\n",
       "      <td>Столкновение</td>\n",
       "      <td>Легкий</td>\n",
       "      <td>0</td>\n",
       "      <td>1</td>\n",
       "      <td>Алтайский край</td>\n",
       "      <td>2</td>\n",
       "      <td>[Все участники]</td>\n",
       "      <td>2021-05-25</td>\n",
       "      <td>16:40:00</td>\n",
       "      <td>Сухое</td>\n",
       "      <td>Отсутствие, плохая различимость горизонтальной разметки проезжей части</td>\n",
       "      <td>1</td>\n",
       "      <td>0</td>\n",
       "      <td>0</td>\n",
       "      <td>0</td>\n",
       "    </tr>\n",
       "  </tbody>\n",
       "</table>\n",
       "</div>"
      ],
      "text/plain": [
       "        id  tags                light                   point  \\\n",
       "0  2869171     1  Светлое время суток      [53.3912, 83.7879]   \n",
       "1  2320091    12  Светлое время суток  [53.345833, 83.666389]   \n",
       "2  2321011    12  Светлое время суток    [53.19706, 83.39688]   \n",
       "3  2576909     1  Светлое время суток      [53.3764, 83.7142]   \n",
       "4  2575209     1  Светлое время суток  [53.343071, 83.794366]   \n",
       "\n",
       "                                                                            nearby  \\\n",
       "0                                                                  Жилая застройка   \n",
       "1                                      Жилая застройка, Образовательные учреждения   \n",
       "2  Административные здания, Пешеходная инфраструктура, Транспортная инфраструктура   \n",
       "3  Административные здания, Пешеходная инфраструктура, Транспортная инфраструктура   \n",
       "4          Жилая застройка, Пешеходная инфраструктура, Транспортная инфраструктура   \n",
       "\n",
       "    region   weather           category severity  dead_count  injured_count  \\\n",
       "0  Барнаул      Ясно  Наезд на пешехода   Легкий           0              1   \n",
       "1  Барнаул  Пасмурно       Иной вид ДТП   Легкий           0              1   \n",
       "2  Барнаул      Ясно  Падение пассажира   Легкий           0              1   \n",
       "3  Барнаул      Ясно       Столкновение  Тяжёлый           0              1   \n",
       "4  Барнаул      Ясно       Столкновение   Легкий           0              1   \n",
       "\n",
       "    parent_region  participants_count  \\\n",
       "0  Алтайский край                   2   \n",
       "1  Алтайский край                   2   \n",
       "2  Алтайский край                   3   \n",
       "3  Алтайский край                   3   \n",
       "4  Алтайский край                   2   \n",
       "\n",
       "                    participant_categories        date      time road_surface  \\\n",
       "0  [Все участники, Пешеходы, Мотоциклисты]  2023-05-24  19:30:00        Сухое   \n",
       "1                    [Дети, Все участники]  2015-09-16  13:00:00        Сухое   \n",
       "2                    [Дети, Все участники]  2017-08-25  15:30:00        Сухое   \n",
       "3            [Мотоциклисты, Все участники]  2021-05-29  19:40:00        Сухое   \n",
       "4                          [Все участники]  2021-05-25  16:40:00        Сухое   \n",
       "\n",
       "                                                road_lack_safety_features  \\\n",
       "0                                                                  Другое   \n",
       "1                                                                  Другое   \n",
       "2                                                                  Другое   \n",
       "3  Отсутствие, плохая различимость горизонтальной разметки проезжей части   \n",
       "4  Отсутствие, плохая различимость горизонтальной разметки проезжей части   \n",
       "\n",
       "   all_participants  pedestrians  motorcyclists  children  \n",
       "0                 1            1              1         0  \n",
       "1                 1            0              0         1  \n",
       "2                 1            0              0         1  \n",
       "3                 1            0              1         0  \n",
       "4                 1            0              0         0  "
      ]
     },
     "execution_count": 77,
     "metadata": {},
     "output_type": "execute_result"
    }
   ],
   "source": [
    "data.head()"
   ]
  },
  {
   "cell_type": "code",
   "execution_count": 78,
   "id": "468e67f9",
   "metadata": {},
   "outputs": [
    {
     "name": "stdout",
     "output_type": "stream",
     "text": [
      "Объем файла 5.29 MB\n"
     ]
    }
   ],
   "source": [
    "data.drop('participant_categories', axis=1, inplace=True)\n",
    "print('Объем файла',round(data.memory_usage().sum() / (1024 * 1024),2),'MB')"
   ]
  },
  {
   "cell_type": "code",
   "execution_count": 79,
   "id": "4f9dad52",
   "metadata": {},
   "outputs": [
    {
     "name": "stdout",
     "output_type": "stream",
     "text": [
      "<class 'pandas.core.frame.DataFrame'>\n",
      "RangeIndex: 47820 entries, 0 to 47819\n",
      "Data columns (total 21 columns):\n",
      " #   Column                     Non-Null Count  Dtype \n",
      "---  ------                     --------------  ----- \n",
      " 0   id                         47820 non-null  int32 \n",
      " 1   tags                       47820 non-null  int16 \n",
      " 2   light                      47820 non-null  object\n",
      " 3   point                      47820 non-null  object\n",
      " 4   nearby                     47820 non-null  object\n",
      " 5   region                     47820 non-null  object\n",
      " 6   weather                    47820 non-null  object\n",
      " 7   category                   47820 non-null  object\n",
      " 8   severity                   47820 non-null  object\n",
      " 9   dead_count                 47820 non-null  int16 \n",
      " 10  injured_count              47820 non-null  int16 \n",
      " 11  parent_region              47820 non-null  object\n",
      " 12  participants_count         47820 non-null  int16 \n",
      " 13  date                       47820 non-null  object\n",
      " 14  time                       47820 non-null  object\n",
      " 15  road_surface               47820 non-null  object\n",
      " 16  road_lack_safety_features  47820 non-null  object\n",
      " 17  all_participants           47820 non-null  int16 \n",
      " 18  pedestrians                47820 non-null  int16 \n",
      " 19  motorcyclists              47820 non-null  int16 \n",
      " 20  children                   47820 non-null  int16 \n",
      "dtypes: int16(8), int32(1), object(12)\n",
      "memory usage: 5.3+ MB\n"
     ]
    }
   ],
   "source": [
    "data.info()"
   ]
  },
  {
   "cell_type": "markdown",
   "id": "aaae9f8a",
   "metadata": {},
   "source": [
    "## Преобразование 1"
   ]
  },
  {
   "cell_type": "markdown",
   "id": "46905950",
   "metadata": {},
   "source": [
    "Попробуем написать функцию, которая будет преобразовывать наш файл сразу. Получится один главнфй файл data, файл с df_nearby, drivers_info_df и participants_info_df. "
   ]
  },
  {
   "cell_type": "code",
   "execution_count": 80,
   "id": "91371775",
   "metadata": {},
   "outputs": [],
   "source": [
    "dk=gpd.read_file('/Users/juliagrebeneva/Desktop/test/belgorodskaia-oblast.geojson')\n",
    "dk = dk.drop(columns=['geometry', 'scheme', 'address'])\n"
   ]
  },
  {
   "cell_type": "code",
   "execution_count": 81,
   "id": "827b8d38",
   "metadata": {},
   "outputs": [
    {
     "data": {
      "text/html": [
       "<div>\n",
       "<style scoped>\n",
       "    .dataframe tbody tr th:only-of-type {\n",
       "        vertical-align: middle;\n",
       "    }\n",
       "\n",
       "    .dataframe tbody tr th {\n",
       "        vertical-align: top;\n",
       "    }\n",
       "\n",
       "    .dataframe thead th {\n",
       "        text-align: right;\n",
       "    }\n",
       "</style>\n",
       "<table border=\"1\" class=\"dataframe\">\n",
       "  <thead>\n",
       "    <tr style=\"text-align: right;\">\n",
       "      <th></th>\n",
       "      <th>id</th>\n",
       "      <th>tags</th>\n",
       "      <th>light</th>\n",
       "      <th>point</th>\n",
       "      <th>nearby</th>\n",
       "      <th>region</th>\n",
       "      <th>weather</th>\n",
       "      <th>category</th>\n",
       "      <th>datetime</th>\n",
       "      <th>severity</th>\n",
       "      <th>vehicles</th>\n",
       "      <th>dead_count</th>\n",
       "      <th>participants</th>\n",
       "      <th>injured_count</th>\n",
       "      <th>parent_region</th>\n",
       "      <th>road_conditions</th>\n",
       "      <th>participants_count</th>\n",
       "      <th>participant_categories</th>\n",
       "    </tr>\n",
       "  </thead>\n",
       "  <tbody>\n",
       "    <tr>\n",
       "      <th>0</th>\n",
       "      <td>2700162</td>\n",
       "      <td>[Дорожно-транспортные происшествия]</td>\n",
       "      <td>Светлое время суток</td>\n",
       "      <td>{'lat': 50.581711, 'long': 36.546707}</td>\n",
       "      <td>[Жилые дома индивидуальной застройки, Регулируемый перекресток]</td>\n",
       "      <td>Белгород</td>\n",
       "      <td>[Ясно]</td>\n",
       "      <td>Столкновение</td>\n",
       "      <td>2022-05-14 16:30:00</td>\n",
       "      <td>Тяжёлый</td>\n",
       "      <td>[ { \"year\": 2009, \"brand\": \"ВАЗ\", \"color\": \"Серый\", \"model\": \"ВАЗ 2114 и модификации\", \"category\": \"Прочие легковые автомобили\", \"participants\": [ { \"role\": \"Водитель\", \"gender\": \"Мужской\", \"violations\": [ \"Неправильный выбор дистанции\", \"Управление транспортным средством при наличии неисправностей или условий, при которых эксплуатация транспортного средства запрещена\" ], \"health_status\": \"Не пострадал\", \"years_of_driving_experience\": 7 } ] }, { \"year\": 2007, \"brand\": \"ВАЗ\", \"color\": \"Серый\", \"model\": \"ВАЗ 2114 и модификации\", \"category\": \"В-класс (малый) до 3,9 м\", \"participants\": [ { \"role\": \"Водитель\", \"gender\": \"Мужской\", \"violations\": [ ], \"health_status\": \"Не пострадал\", \"years_of_driving_experience\": 25 }, { \"role\": \"Пассажир\", \"gender\": \"Женский\", \"violations\": [ ], \"health_status\": \"Раненый, находящийся (находившийся) на стационарном лечении\", \"years_of_driving_experience\": null } ] } ]</td>\n",
       "      <td>0</td>\n",
       "      <td>[ ]</td>\n",
       "      <td>1</td>\n",
       "      <td>Белгородская область</td>\n",
       "      <td>[Сухое]</td>\n",
       "      <td>3</td>\n",
       "      <td>[Все участники]</td>\n",
       "    </tr>\n",
       "    <tr>\n",
       "      <th>1</th>\n",
       "      <td>1579673</td>\n",
       "      <td>[Дорожно-транспортные происшествия]</td>\n",
       "      <td>Светлое время суток</td>\n",
       "      <td>{'lat': 50.5989, 'long': 36.5303}</td>\n",
       "      <td>[Мост, эстакада, путепровод]</td>\n",
       "      <td>Белгород</td>\n",
       "      <td>[Снегопад]</td>\n",
       "      <td>Столкновение</td>\n",
       "      <td>2017-12-24 12:35:00</td>\n",
       "      <td>Легкий</td>\n",
       "      <td>[ { \"year\": 2005, \"brand\": \"ВАЗ\", \"color\": \"Иные цвета\", \"model\": \" Жигули  ВАЗ-2107 модификации\", \"category\": \"Прочие легковые автомобили\", \"participants\": [ { \"role\": \"Водитель\", \"gender\": \"Мужской\", \"violations\": [ ], \"health_status\": \"Раненый, находящийся (находившийся)  на амбулаторном лечении, либо которому по характеру полученных травм обозначена необходимость амбулаторного лечения (вне зависимости от его фактического прохождения)\", \"years_of_driving_experience\": 31 } ] }, { \"year\": 2004, \"brand\": \"ВАЗ\", \"color\": \"Иные цвета\", \"model\": \" Жигули  ВАЗ-2107 модификации\", \"category\": \"В-класс (малый) до 3,9 м\", \"participants\": [ { \"role\": \"Водитель\", \"gender\": \"Мужской\", \"violations\": [ \"Несоответствие скорости конкретным условиям движения\", \"Выезд на полосу встречного движения\", \"Управление транспортным средством при наличии неисправностей или условий, при которых эксплуатация транспортного средства запрещена\" ], \"health_status\": \"Не пострадал\", \"years_of_driving_experience\": 16 } ] } ]</td>\n",
       "      <td>0</td>\n",
       "      <td>[ ]</td>\n",
       "      <td>1</td>\n",
       "      <td>Белгородская область</td>\n",
       "      <td>[Обработанное противогололедными материалами]</td>\n",
       "      <td>2</td>\n",
       "      <td>[Все участники]</td>\n",
       "    </tr>\n",
       "    <tr>\n",
       "      <th>2</th>\n",
       "      <td>1580488</td>\n",
       "      <td>[Дорожно-транспортные происшествия]</td>\n",
       "      <td>Светлое время суток</td>\n",
       "      <td>{'lat': 50.565494, 'long': 36.561309}</td>\n",
       "      <td>[Многоквартирные жилые дома, Остановка общественного транспорта, Регулируемый перекресток]</td>\n",
       "      <td>Белгород</td>\n",
       "      <td>[Ясно]</td>\n",
       "      <td>Столкновение</td>\n",
       "      <td>2019-11-26 11:05:00</td>\n",
       "      <td>Легкий</td>\n",
       "      <td>[ { \"year\": 2014, \"brand\": \"VOLKSWAGEN\", \"color\": \"Коричневый\", \"model\": \"Tiguan\", \"category\": \"Прочие легковые автомобили\", \"participants\": [ { \"role\": \"Водитель\", \"gender\": \"Мужской\", \"violations\": [ \"Выезд на полосу встречного движения\", \"Светопропускание стекол менее нормативного\" ], \"health_status\": \"Раненый, находящийся (находившийся)  на амбулаторном лечении, либо которому по характеру полученных травм обозначена необходимость амбулаторного лечения (вне зависимости от его фактического прохождения)\", \"years_of_driving_experience\": 8 } ] }, { \"year\": 2007, \"brand\": \"ЛИАЗ\", \"color\": \"Многоцветный\", \"model\": \"5256\", \"category\": \"Прочие одноярусные\", \"participants\": [ { \"role\": \"Водитель\", \"gender\": \"Мужской\", \"violations\": [ ], \"health_status\": \"Не пострадал\", \"years_of_driving_experience\": 8 } ] } ]</td>\n",
       "      <td>0</td>\n",
       "      <td>[ ]</td>\n",
       "      <td>1</td>\n",
       "      <td>Белгородская область</td>\n",
       "      <td>[Сухое, Отсутствие дорожных знаков в необходимых местах]</td>\n",
       "      <td>2</td>\n",
       "      <td>[Все участники]</td>\n",
       "    </tr>\n",
       "    <tr>\n",
       "      <th>3</th>\n",
       "      <td>1584118</td>\n",
       "      <td>[Дорожно-транспортные происшествия]</td>\n",
       "      <td>Светлое время суток</td>\n",
       "      <td>{'lat': 50.6008, 'long': 36.6011}</td>\n",
       "      <td>[Многоквартирные жилые дома, Остановка общественного транспорта, Нерегулируемый пешеходный переход, Одиночный торговый объект, являющийся местом притяжения транспорта и (или) пешеходов]</td>\n",
       "      <td>Белгород</td>\n",
       "      <td>[Ясно]</td>\n",
       "      <td>Падение пассажира</td>\n",
       "      <td>2016-11-29 09:05:00</td>\n",
       "      <td>Легкий</td>\n",
       "      <td>[ { \"year\": 1985, \"brand\": \"SCANIA\", \"color\": \"Желтый\", \"model\": \"Прочие модели Scania\", \"category\": \"Автобусы (без типа)\", \"participants\": [ { \"role\": \"Пассажир\", \"gender\": \"Женский\", \"violations\": [ ], \"health_status\": \"Раненый, находящийся (находившийся)  на амбулаторном лечении, либо которому по характеру полученных травм обозначена необходимость амбулаторного лечения (вне зависимости от его фактического прохождения)\", \"years_of_driving_experience\": null }, { \"role\": \"Водитель\", \"gender\": \"Мужской\", \"violations\": [ \"Другие нарушения ПДД водителем\", \"Оставление места ДТП\" ], \"health_status\": \"Не пострадал\", \"years_of_driving_experience\": 7 } ] } ]</td>\n",
       "      <td>0</td>\n",
       "      <td>[ ]</td>\n",
       "      <td>1</td>\n",
       "      <td>Белгородская область</td>\n",
       "      <td>[Сухое]</td>\n",
       "      <td>2</td>\n",
       "      <td>[Общ. транспорт, Все участники]</td>\n",
       "    </tr>\n",
       "    <tr>\n",
       "      <th>4</th>\n",
       "      <td>2500365</td>\n",
       "      <td>[Дорожно-транспортные происшествия]</td>\n",
       "      <td>Светлое время суток</td>\n",
       "      <td>{'lat': 50.599488, 'long': 36.632946}</td>\n",
       "      <td>[Административные здания, Нерегулируемый пешеходный переход]</td>\n",
       "      <td>Белгород</td>\n",
       "      <td>[Ясно]</td>\n",
       "      <td>Наезд на пешехода</td>\n",
       "      <td>2020-10-20 08:00:00</td>\n",
       "      <td>С погибшими</td>\n",
       "      <td>[ { \"year\": 2010, \"brand\": \"KIA\", \"color\": \"Серый\", \"model\": \"Rio\", \"category\": \"Прочие легковые автомобили\", \"participants\": [ { \"role\": \"Водитель\", \"gender\": \"Мужской\", \"violations\": [ \"Нарушение правил проезда пешеходного перехода\" ], \"health_status\": \"Не пострадал\", \"years_of_driving_experience\": 47 } ] } ]</td>\n",
       "      <td>1</td>\n",
       "      <td>[ { \"role\": \"Пешеход\", \"gender\": \"Мужской\", \"violations\": [ ], \"health_status\": \"Скончался в течение 22 суток\" } ]</td>\n",
       "      <td>0</td>\n",
       "      <td>Белгородская область</td>\n",
       "      <td>[Сухое]</td>\n",
       "      <td>2</td>\n",
       "      <td>[Пешеходы, Все участники]</td>\n",
       "    </tr>\n",
       "  </tbody>\n",
       "</table>\n",
       "</div>"
      ],
      "text/plain": [
       "        id                                 tags                light  \\\n",
       "0  2700162  [Дорожно-транспортные происшествия]  Светлое время суток   \n",
       "1  1579673  [Дорожно-транспортные происшествия]  Светлое время суток   \n",
       "2  1580488  [Дорожно-транспортные происшествия]  Светлое время суток   \n",
       "3  1584118  [Дорожно-транспортные происшествия]  Светлое время суток   \n",
       "4  2500365  [Дорожно-транспортные происшествия]  Светлое время суток   \n",
       "\n",
       "                                   point  \\\n",
       "0  {'lat': 50.581711, 'long': 36.546707}   \n",
       "1      {'lat': 50.5989, 'long': 36.5303}   \n",
       "2  {'lat': 50.565494, 'long': 36.561309}   \n",
       "3      {'lat': 50.6008, 'long': 36.6011}   \n",
       "4  {'lat': 50.599488, 'long': 36.632946}   \n",
       "\n",
       "                                                                                                                                                                                      nearby  \\\n",
       "0                                                                                                                            [Жилые дома индивидуальной застройки, Регулируемый перекресток]   \n",
       "1                                                                                                                                                               [Мост, эстакада, путепровод]   \n",
       "2                                                                                                 [Многоквартирные жилые дома, Остановка общественного транспорта, Регулируемый перекресток]   \n",
       "3  [Многоквартирные жилые дома, Остановка общественного транспорта, Нерегулируемый пешеходный переход, Одиночный торговый объект, являющийся местом притяжения транспорта и (или) пешеходов]   \n",
       "4                                                                                                                               [Административные здания, Нерегулируемый пешеходный переход]   \n",
       "\n",
       "     region     weather           category            datetime     severity  \\\n",
       "0  Белгород      [Ясно]       Столкновение 2022-05-14 16:30:00      Тяжёлый   \n",
       "1  Белгород  [Снегопад]       Столкновение 2017-12-24 12:35:00       Легкий   \n",
       "2  Белгород      [Ясно]       Столкновение 2019-11-26 11:05:00       Легкий   \n",
       "3  Белгород      [Ясно]  Падение пассажира 2016-11-29 09:05:00       Легкий   \n",
       "4  Белгород      [Ясно]  Наезд на пешехода 2020-10-20 08:00:00  С погибшими   \n",
       "\n",
       "                                                                                                                                                                                                                                                                                                                                                                                                                                                                                                                                                                                                                                                                                                                                                                                                                                                                                                                                                                                                                                        vehicles  \\\n",
       "0                                                                                                   [ { \"year\": 2009, \"brand\": \"ВАЗ\", \"color\": \"Серый\", \"model\": \"ВАЗ 2114 и модификации\", \"category\": \"Прочие легковые автомобили\", \"participants\": [ { \"role\": \"Водитель\", \"gender\": \"Мужской\", \"violations\": [ \"Неправильный выбор дистанции\", \"Управление транспортным средством при наличии неисправностей или условий, при которых эксплуатация транспортного средства запрещена\" ], \"health_status\": \"Не пострадал\", \"years_of_driving_experience\": 7 } ] }, { \"year\": 2007, \"brand\": \"ВАЗ\", \"color\": \"Серый\", \"model\": \"ВАЗ 2114 и модификации\", \"category\": \"В-класс (малый) до 3,9 м\", \"participants\": [ { \"role\": \"Водитель\", \"gender\": \"Мужской\", \"violations\": [ ], \"health_status\": \"Не пострадал\", \"years_of_driving_experience\": 25 }, { \"role\": \"Пассажир\", \"gender\": \"Женский\", \"violations\": [ ], \"health_status\": \"Раненый, находящийся (находившийся) на стационарном лечении\", \"years_of_driving_experience\": null } ] } ]   \n",
       "1  [ { \"year\": 2005, \"brand\": \"ВАЗ\", \"color\": \"Иные цвета\", \"model\": \" Жигули  ВАЗ-2107 модификации\", \"category\": \"Прочие легковые автомобили\", \"participants\": [ { \"role\": \"Водитель\", \"gender\": \"Мужской\", \"violations\": [ ], \"health_status\": \"Раненый, находящийся (находившийся)  на амбулаторном лечении, либо которому по характеру полученных травм обозначена необходимость амбулаторного лечения (вне зависимости от его фактического прохождения)\", \"years_of_driving_experience\": 31 } ] }, { \"year\": 2004, \"brand\": \"ВАЗ\", \"color\": \"Иные цвета\", \"model\": \" Жигули  ВАЗ-2107 модификации\", \"category\": \"В-класс (малый) до 3,9 м\", \"participants\": [ { \"role\": \"Водитель\", \"gender\": \"Мужской\", \"violations\": [ \"Несоответствие скорости конкретным условиям движения\", \"Выезд на полосу встречного движения\", \"Управление транспортным средством при наличии неисправностей или условий, при которых эксплуатация транспортного средства запрещена\" ], \"health_status\": \"Не пострадал\", \"years_of_driving_experience\": 16 } ] } ]   \n",
       "2                                                                                                                                                                                                 [ { \"year\": 2014, \"brand\": \"VOLKSWAGEN\", \"color\": \"Коричневый\", \"model\": \"Tiguan\", \"category\": \"Прочие легковые автомобили\", \"participants\": [ { \"role\": \"Водитель\", \"gender\": \"Мужской\", \"violations\": [ \"Выезд на полосу встречного движения\", \"Светопропускание стекол менее нормативного\" ], \"health_status\": \"Раненый, находящийся (находившийся)  на амбулаторном лечении, либо которому по характеру полученных травм обозначена необходимость амбулаторного лечения (вне зависимости от его фактического прохождения)\", \"years_of_driving_experience\": 8 } ] }, { \"year\": 2007, \"brand\": \"ЛИАЗ\", \"color\": \"Многоцветный\", \"model\": \"5256\", \"category\": \"Прочие одноярусные\", \"participants\": [ { \"role\": \"Водитель\", \"gender\": \"Мужской\", \"violations\": [ ], \"health_status\": \"Не пострадал\", \"years_of_driving_experience\": 8 } ] } ]   \n",
       "3                                                                                                                                                                                                                                                                                                                                                             [ { \"year\": 1985, \"brand\": \"SCANIA\", \"color\": \"Желтый\", \"model\": \"Прочие модели Scania\", \"category\": \"Автобусы (без типа)\", \"participants\": [ { \"role\": \"Пассажир\", \"gender\": \"Женский\", \"violations\": [ ], \"health_status\": \"Раненый, находящийся (находившийся)  на амбулаторном лечении, либо которому по характеру полученных травм обозначена необходимость амбулаторного лечения (вне зависимости от его фактического прохождения)\", \"years_of_driving_experience\": null }, { \"role\": \"Водитель\", \"gender\": \"Мужской\", \"violations\": [ \"Другие нарушения ПДД водителем\", \"Оставление места ДТП\" ], \"health_status\": \"Не пострадал\", \"years_of_driving_experience\": 7 } ] } ]   \n",
       "4                                                                                                                                                                                                                                                                                                                                                                                                                                                                                                                                                                                                                                                                                                                       [ { \"year\": 2010, \"brand\": \"KIA\", \"color\": \"Серый\", \"model\": \"Rio\", \"category\": \"Прочие легковые автомобили\", \"participants\": [ { \"role\": \"Водитель\", \"gender\": \"Мужской\", \"violations\": [ \"Нарушение правил проезда пешеходного перехода\" ], \"health_status\": \"Не пострадал\", \"years_of_driving_experience\": 47 } ] } ]   \n",
       "\n",
       "   dead_count  \\\n",
       "0           0   \n",
       "1           0   \n",
       "2           0   \n",
       "3           0   \n",
       "4           1   \n",
       "\n",
       "                                                                                                         participants  \\\n",
       "0                                                                                                                 [ ]   \n",
       "1                                                                                                                 [ ]   \n",
       "2                                                                                                                 [ ]   \n",
       "3                                                                                                                 [ ]   \n",
       "4  [ { \"role\": \"Пешеход\", \"gender\": \"Мужской\", \"violations\": [ ], \"health_status\": \"Скончался в течение 22 суток\" } ]   \n",
       "\n",
       "   injured_count         parent_region  \\\n",
       "0              1  Белгородская область   \n",
       "1              1  Белгородская область   \n",
       "2              1  Белгородская область   \n",
       "3              1  Белгородская область   \n",
       "4              0  Белгородская область   \n",
       "\n",
       "                                            road_conditions  \\\n",
       "0                                                   [Сухое]   \n",
       "1             [Обработанное противогололедными материалами]   \n",
       "2  [Сухое, Отсутствие дорожных знаков в необходимых местах]   \n",
       "3                                                   [Сухое]   \n",
       "4                                                   [Сухое]   \n",
       "\n",
       "   participants_count           participant_categories  \n",
       "0                   3                  [Все участники]  \n",
       "1                   2                  [Все участники]  \n",
       "2                   2                  [Все участники]  \n",
       "3                   2  [Общ. транспорт, Все участники]  \n",
       "4                   2        [Пешеходы, Все участники]  "
      ]
     },
     "execution_count": 81,
     "metadata": {},
     "output_type": "execute_result"
    }
   ],
   "source": [
    "dk.head()"
   ]
  },
  {
   "cell_type": "code",
   "execution_count": 82,
   "id": "56459a8a",
   "metadata": {},
   "outputs": [
    {
     "name": "stdout",
     "output_type": "stream",
     "text": [
      "<class 'pandas.core.frame.DataFrame'>\n",
      "RangeIndex: 11236 entries, 0 to 11235\n",
      "Data columns (total 18 columns):\n",
      " #   Column                  Non-Null Count  Dtype         \n",
      "---  ------                  --------------  -----         \n",
      " 0   id                      11236 non-null  int64         \n",
      " 1   tags                    11236 non-null  object        \n",
      " 2   light                   11236 non-null  object        \n",
      " 3   point                   11236 non-null  object        \n",
      " 4   nearby                  11236 non-null  object        \n",
      " 5   region                  11236 non-null  object        \n",
      " 6   weather                 11236 non-null  object        \n",
      " 7   category                11236 non-null  object        \n",
      " 8   datetime                11236 non-null  datetime64[ns]\n",
      " 9   severity                11236 non-null  object        \n",
      " 10  vehicles                11236 non-null  object        \n",
      " 11  dead_count              11236 non-null  int64         \n",
      " 12  participants            11236 non-null  object        \n",
      " 13  injured_count           11236 non-null  int64         \n",
      " 14  parent_region           11236 non-null  object        \n",
      " 15  road_conditions         11236 non-null  object        \n",
      " 16  participants_count      11236 non-null  int64         \n",
      " 17  participant_categories  11236 non-null  object        \n",
      "dtypes: datetime64[ns](1), int64(4), object(13)\n",
      "memory usage: 1.5+ MB\n"
     ]
    }
   ],
   "source": [
    "dk.info()"
   ]
  },
  {
   "cell_type": "code",
   "execution_count": 83,
   "id": "ceb87966",
   "metadata": {},
   "outputs": [
    {
     "name": "stdout",
     "output_type": "stream",
     "text": [
      "Объем файла 1.54 MB\n"
     ]
    }
   ],
   "source": [
    "print('Объем файла',round(dk.memory_usage().sum() / (1024 * 1024),2),'MB')"
   ]
  },
  {
   "cell_type": "code",
   "execution_count": 84,
   "id": "0869e047",
   "metadata": {},
   "outputs": [],
   "source": [
    "\n",
    "def copy(dk):\n",
    "\n",
    "    dk['id'] = dk['id'].astype('int32')\n",
    "    dk['dead_count'] = dk['dead_count'].astype('int16')\n",
    "    dk['injured_count'] = dk['injured_count'].astype('int16')\n",
    "    dk['participants_count'] = dk['participants_count'].astype('int16')\n",
    "    dk['tags'] = dk['tags'].apply(map_values).astype('int16')\n",
    "    \n",
    "    dk['point'] = dk['point'].apply(lambda x: [x['lat'], x['long']])\n",
    "    \n",
    "    dk['nearby'] = dk['nearby'].map(replace_values)\n",
    "    dk['nearby']=dk['nearby'].apply(lambda x: ', '.join(x))\n",
    "    \n",
    "    \n",
    "    dk['weather']=dk['weather'].apply(lambda x: ','.join(x))\n",
    "    dk['weather'] = dk['weather'].apply(process_weather)\n",
    "    \n",
    "    dk['date'] = dk['datetime'].dt.date\n",
    "    dk['time'] = dk['datetime'].dt.time\n",
    "    dk.drop('datetime', axis=1, inplace=True)\n",
    "    \n",
    "    drivers_info_series = dk.apply(extract_driver_info, axis=1)\n",
    "    drivers_info_df = pd.DataFrame([item for sublist in drivers_info_series for item in sublist])\n",
    "    dk.drop('vehicles', axis=1, inplace=True)\n",
    "\n",
    "    \n",
    "    extracted_conditions = dk['road_conditions'].apply(extract_road_conditions)\n",
    "    dk = pd.concat([dk, extracted_conditions], axis=1)\n",
    "    dk.drop('road_conditions', axis=1, inplace=True)\n",
    "    \n",
    "    participants_info_series = dk.apply(extract_participant_info, axis=1)\n",
    "    participants_info_df = pd.DataFrame([item for sublist in participants_info_series for item in sublist])\n",
    "    dk.drop('participants', axis=1, inplace=True)\n",
    "\n",
    "    extracted_categories = dk['participant_categories'].apply(extract_participant_categories)\n",
    "    dk = pd.concat([dk, extracted_categories], axis=1)\n",
    "    dk.drop('participant_categories', axis=1, inplace=True)\n",
    "\n",
    "    return dk, drivers_info_df,participants_info_df\n",
    "\n"
   ]
  },
  {
   "cell_type": "code",
   "execution_count": 85,
   "id": "7ec36276",
   "metadata": {},
   "outputs": [],
   "source": [
    "dk_processed, drivers_info_df_processed, participants_info_df_processed = copy(dk)\n"
   ]
  },
  {
   "cell_type": "code",
   "execution_count": 86,
   "id": "bb6b324c",
   "metadata": {},
   "outputs": [
    {
     "data": {
      "text/html": [
       "<div>\n",
       "<style scoped>\n",
       "    .dataframe tbody tr th:only-of-type {\n",
       "        vertical-align: middle;\n",
       "    }\n",
       "\n",
       "    .dataframe tbody tr th {\n",
       "        vertical-align: top;\n",
       "    }\n",
       "\n",
       "    .dataframe thead th {\n",
       "        text-align: right;\n",
       "    }\n",
       "</style>\n",
       "<table border=\"1\" class=\"dataframe\">\n",
       "  <thead>\n",
       "    <tr style=\"text-align: right;\">\n",
       "      <th></th>\n",
       "      <th>id</th>\n",
       "      <th>tags</th>\n",
       "      <th>light</th>\n",
       "      <th>point</th>\n",
       "      <th>nearby</th>\n",
       "      <th>region</th>\n",
       "      <th>weather</th>\n",
       "      <th>category</th>\n",
       "      <th>severity</th>\n",
       "      <th>dead_count</th>\n",
       "      <th>injured_count</th>\n",
       "      <th>parent_region</th>\n",
       "      <th>participants_count</th>\n",
       "      <th>date</th>\n",
       "      <th>time</th>\n",
       "      <th>road_surface</th>\n",
       "      <th>road_lack_safety_features</th>\n",
       "      <th>all_participants</th>\n",
       "      <th>pedestrians</th>\n",
       "      <th>motorcyclists</th>\n",
       "      <th>children</th>\n",
       "    </tr>\n",
       "  </thead>\n",
       "  <tbody>\n",
       "    <tr>\n",
       "      <th>0</th>\n",
       "      <td>2700162</td>\n",
       "      <td>1</td>\n",
       "      <td>Светлое время суток</td>\n",
       "      <td>[50.581711, 36.546707]</td>\n",
       "      <td>Другие объекты, Жилая застройка</td>\n",
       "      <td>Белгород</td>\n",
       "      <td>Ясно</td>\n",
       "      <td>Столкновение</td>\n",
       "      <td>Тяжёлый</td>\n",
       "      <td>0</td>\n",
       "      <td>1</td>\n",
       "      <td>Белгородская область</td>\n",
       "      <td>3</td>\n",
       "      <td>2022-05-14</td>\n",
       "      <td>16:30:00</td>\n",
       "      <td>Сухое</td>\n",
       "      <td>Другое</td>\n",
       "      <td>1</td>\n",
       "      <td>0</td>\n",
       "      <td>0</td>\n",
       "      <td>0</td>\n",
       "    </tr>\n",
       "    <tr>\n",
       "      <th>1</th>\n",
       "      <td>1579673</td>\n",
       "      <td>1</td>\n",
       "      <td>Светлое время суток</td>\n",
       "      <td>[50.5989, 36.5303]</td>\n",
       "      <td>Транспортная инфраструктура</td>\n",
       "      <td>Белгород</td>\n",
       "      <td>Другое</td>\n",
       "      <td>Столкновение</td>\n",
       "      <td>Легкий</td>\n",
       "      <td>0</td>\n",
       "      <td>1</td>\n",
       "      <td>Белгородская область</td>\n",
       "      <td>2</td>\n",
       "      <td>2017-12-24</td>\n",
       "      <td>12:35:00</td>\n",
       "      <td>Обработанное противогололедными материалами</td>\n",
       "      <td>Другое</td>\n",
       "      <td>1</td>\n",
       "      <td>0</td>\n",
       "      <td>0</td>\n",
       "      <td>0</td>\n",
       "    </tr>\n",
       "    <tr>\n",
       "      <th>2</th>\n",
       "      <td>1580488</td>\n",
       "      <td>1</td>\n",
       "      <td>Светлое время суток</td>\n",
       "      <td>[50.565494, 36.561309]</td>\n",
       "      <td>Другие объекты, Жилая застройка, Транспортная инфраструктура</td>\n",
       "      <td>Белгород</td>\n",
       "      <td>Ясно</td>\n",
       "      <td>Столкновение</td>\n",
       "      <td>Легкий</td>\n",
       "      <td>0</td>\n",
       "      <td>1</td>\n",
       "      <td>Белгородская область</td>\n",
       "      <td>2</td>\n",
       "      <td>2019-11-26</td>\n",
       "      <td>11:05:00</td>\n",
       "      <td>Сухое</td>\n",
       "      <td>Отсутствие дорожных знаков в необходимых местах</td>\n",
       "      <td>1</td>\n",
       "      <td>0</td>\n",
       "      <td>0</td>\n",
       "      <td>0</td>\n",
       "    </tr>\n",
       "    <tr>\n",
       "      <th>3</th>\n",
       "      <td>1584118</td>\n",
       "      <td>1</td>\n",
       "      <td>Светлое время суток</td>\n",
       "      <td>[50.6008, 36.6011]</td>\n",
       "      <td>Жилая застройка, Пешеходная инфраструктура, Торговые объекты, Транспортная инфраструктура</td>\n",
       "      <td>Белгород</td>\n",
       "      <td>Ясно</td>\n",
       "      <td>Падение пассажира</td>\n",
       "      <td>Легкий</td>\n",
       "      <td>0</td>\n",
       "      <td>1</td>\n",
       "      <td>Белгородская область</td>\n",
       "      <td>2</td>\n",
       "      <td>2016-11-29</td>\n",
       "      <td>09:05:00</td>\n",
       "      <td>Сухое</td>\n",
       "      <td>Другое</td>\n",
       "      <td>1</td>\n",
       "      <td>0</td>\n",
       "      <td>0</td>\n",
       "      <td>0</td>\n",
       "    </tr>\n",
       "    <tr>\n",
       "      <th>4</th>\n",
       "      <td>2500365</td>\n",
       "      <td>1</td>\n",
       "      <td>Светлое время суток</td>\n",
       "      <td>[50.599488, 36.632946]</td>\n",
       "      <td>Административные здания, Пешеходная инфраструктура</td>\n",
       "      <td>Белгород</td>\n",
       "      <td>Ясно</td>\n",
       "      <td>Наезд на пешехода</td>\n",
       "      <td>С погибшими</td>\n",
       "      <td>1</td>\n",
       "      <td>0</td>\n",
       "      <td>Белгородская область</td>\n",
       "      <td>2</td>\n",
       "      <td>2020-10-20</td>\n",
       "      <td>08:00:00</td>\n",
       "      <td>Сухое</td>\n",
       "      <td>Другое</td>\n",
       "      <td>1</td>\n",
       "      <td>1</td>\n",
       "      <td>0</td>\n",
       "      <td>0</td>\n",
       "    </tr>\n",
       "  </tbody>\n",
       "</table>\n",
       "</div>"
      ],
      "text/plain": [
       "        id  tags                light                   point  \\\n",
       "0  2700162     1  Светлое время суток  [50.581711, 36.546707]   \n",
       "1  1579673     1  Светлое время суток      [50.5989, 36.5303]   \n",
       "2  1580488     1  Светлое время суток  [50.565494, 36.561309]   \n",
       "3  1584118     1  Светлое время суток      [50.6008, 36.6011]   \n",
       "4  2500365     1  Светлое время суток  [50.599488, 36.632946]   \n",
       "\n",
       "                                                                                      nearby  \\\n",
       "0                                                            Другие объекты, Жилая застройка   \n",
       "1                                                                Транспортная инфраструктура   \n",
       "2                               Другие объекты, Жилая застройка, Транспортная инфраструктура   \n",
       "3  Жилая застройка, Пешеходная инфраструктура, Торговые объекты, Транспортная инфраструктура   \n",
       "4                                         Административные здания, Пешеходная инфраструктура   \n",
       "\n",
       "     region weather           category     severity  dead_count  \\\n",
       "0  Белгород    Ясно       Столкновение      Тяжёлый           0   \n",
       "1  Белгород  Другое       Столкновение       Легкий           0   \n",
       "2  Белгород    Ясно       Столкновение       Легкий           0   \n",
       "3  Белгород    Ясно  Падение пассажира       Легкий           0   \n",
       "4  Белгород    Ясно  Наезд на пешехода  С погибшими           1   \n",
       "\n",
       "   injured_count         parent_region  participants_count        date  \\\n",
       "0              1  Белгородская область                   3  2022-05-14   \n",
       "1              1  Белгородская область                   2  2017-12-24   \n",
       "2              1  Белгородская область                   2  2019-11-26   \n",
       "3              1  Белгородская область                   2  2016-11-29   \n",
       "4              0  Белгородская область                   2  2020-10-20   \n",
       "\n",
       "       time                                 road_surface  \\\n",
       "0  16:30:00                                        Сухое   \n",
       "1  12:35:00  Обработанное противогололедными материалами   \n",
       "2  11:05:00                                        Сухое   \n",
       "3  09:05:00                                        Сухое   \n",
       "4  08:00:00                                        Сухое   \n",
       "\n",
       "                         road_lack_safety_features  all_participants  \\\n",
       "0                                           Другое                 1   \n",
       "1                                           Другое                 1   \n",
       "2  Отсутствие дорожных знаков в необходимых местах                 1   \n",
       "3                                           Другое                 1   \n",
       "4                                           Другое                 1   \n",
       "\n",
       "   pedestrians  motorcyclists  children  \n",
       "0            0              0         0  \n",
       "1            0              0         0  \n",
       "2            0              0         0  \n",
       "3            0              0         0  \n",
       "4            1              0         0  "
      ]
     },
     "execution_count": 86,
     "metadata": {},
     "output_type": "execute_result"
    }
   ],
   "source": [
    "dk_processed.head()"
   ]
  },
  {
   "cell_type": "code",
   "execution_count": 87,
   "id": "fa4631af",
   "metadata": {},
   "outputs": [
    {
     "name": "stdout",
     "output_type": "stream",
     "text": [
      "Объем файла 1.24 MB\n"
     ]
    }
   ],
   "source": [
    "print('Объем файла',round(dk_processed.memory_usage().sum() / (1024 * 1024),2),'MB')"
   ]
  },
  {
   "cell_type": "code",
   "execution_count": 88,
   "id": "79341e3c",
   "metadata": {},
   "outputs": [
    {
     "data": {
      "text/html": [
       "<div>\n",
       "<style scoped>\n",
       "    .dataframe tbody tr th:only-of-type {\n",
       "        vertical-align: middle;\n",
       "    }\n",
       "\n",
       "    .dataframe tbody tr th {\n",
       "        vertical-align: top;\n",
       "    }\n",
       "\n",
       "    .dataframe thead th {\n",
       "        text-align: right;\n",
       "    }\n",
       "</style>\n",
       "<table border=\"1\" class=\"dataframe\">\n",
       "  <thead>\n",
       "    <tr style=\"text-align: right;\">\n",
       "      <th></th>\n",
       "      <th>id</th>\n",
       "      <th>year</th>\n",
       "      <th>brand</th>\n",
       "      <th>color</th>\n",
       "      <th>model</th>\n",
       "      <th>category</th>\n",
       "      <th>driver_gender</th>\n",
       "      <th>driver_violations</th>\n",
       "      <th>driver_years_of_driving_experience</th>\n",
       "    </tr>\n",
       "  </thead>\n",
       "  <tbody>\n",
       "    <tr>\n",
       "      <th>0</th>\n",
       "      <td>2700162</td>\n",
       "      <td>2009.0</td>\n",
       "      <td>ВАЗ</td>\n",
       "      <td>Серый</td>\n",
       "      <td>ВАЗ 2114 и модификации</td>\n",
       "      <td>Прочие легковые автомобили</td>\n",
       "      <td>Мужской</td>\n",
       "      <td>[Неправильный выбор дистанции, Управление транспортным средством при наличии неисправностей или условий, при которых эксплуатация транспортного средства запрещена]</td>\n",
       "      <td>7.0</td>\n",
       "    </tr>\n",
       "    <tr>\n",
       "      <th>1</th>\n",
       "      <td>2700162</td>\n",
       "      <td>2007.0</td>\n",
       "      <td>ВАЗ</td>\n",
       "      <td>Серый</td>\n",
       "      <td>ВАЗ 2114 и модификации</td>\n",
       "      <td>В-класс (малый) до 3,9 м</td>\n",
       "      <td>Мужской</td>\n",
       "      <td>[]</td>\n",
       "      <td>25.0</td>\n",
       "    </tr>\n",
       "    <tr>\n",
       "      <th>2</th>\n",
       "      <td>1579673</td>\n",
       "      <td>2005.0</td>\n",
       "      <td>ВАЗ</td>\n",
       "      <td>Иные цвета</td>\n",
       "      <td>Жигули  ВАЗ-2107 модификации</td>\n",
       "      <td>Прочие легковые автомобили</td>\n",
       "      <td>Мужской</td>\n",
       "      <td>[]</td>\n",
       "      <td>31.0</td>\n",
       "    </tr>\n",
       "    <tr>\n",
       "      <th>3</th>\n",
       "      <td>1579673</td>\n",
       "      <td>2004.0</td>\n",
       "      <td>ВАЗ</td>\n",
       "      <td>Иные цвета</td>\n",
       "      <td>Жигули  ВАЗ-2107 модификации</td>\n",
       "      <td>В-класс (малый) до 3,9 м</td>\n",
       "      <td>Мужской</td>\n",
       "      <td>[Несоответствие скорости конкретным условиям движения, Выезд на полосу встречного движения, Управление транспортным средством при наличии неисправностей или условий, при которых эксплуатация транспортного средства запрещена]</td>\n",
       "      <td>16.0</td>\n",
       "    </tr>\n",
       "    <tr>\n",
       "      <th>4</th>\n",
       "      <td>1580488</td>\n",
       "      <td>2014.0</td>\n",
       "      <td>VOLKSWAGEN</td>\n",
       "      <td>Коричневый</td>\n",
       "      <td>Tiguan</td>\n",
       "      <td>Прочие легковые автомобили</td>\n",
       "      <td>Мужской</td>\n",
       "      <td>[Выезд на полосу встречного движения, Светопропускание стекол менее нормативного]</td>\n",
       "      <td>8.0</td>\n",
       "    </tr>\n",
       "  </tbody>\n",
       "</table>\n",
       "</div>"
      ],
      "text/plain": [
       "        id    year       brand       color                          model  \\\n",
       "0  2700162  2009.0         ВАЗ       Серый         ВАЗ 2114 и модификации   \n",
       "1  2700162  2007.0         ВАЗ       Серый         ВАЗ 2114 и модификации   \n",
       "2  1579673  2005.0         ВАЗ  Иные цвета   Жигули  ВАЗ-2107 модификации   \n",
       "3  1579673  2004.0         ВАЗ  Иные цвета   Жигули  ВАЗ-2107 модификации   \n",
       "4  1580488  2014.0  VOLKSWAGEN  Коричневый                         Tiguan   \n",
       "\n",
       "                     category driver_gender  \\\n",
       "0  Прочие легковые автомобили       Мужской   \n",
       "1    В-класс (малый) до 3,9 м       Мужской   \n",
       "2  Прочие легковые автомобили       Мужской   \n",
       "3    В-класс (малый) до 3,9 м       Мужской   \n",
       "4  Прочие легковые автомобили       Мужской   \n",
       "\n",
       "                                                                                                                                                                                                                  driver_violations  \\\n",
       "0                                                               [Неправильный выбор дистанции, Управление транспортным средством при наличии неисправностей или условий, при которых эксплуатация транспортного средства запрещена]   \n",
       "1                                                                                                                                                                                                                                []   \n",
       "2                                                                                                                                                                                                                                []   \n",
       "3  [Несоответствие скорости конкретным условиям движения, Выезд на полосу встречного движения, Управление транспортным средством при наличии неисправностей или условий, при которых эксплуатация транспортного средства запрещена]   \n",
       "4                                                                                                                                                 [Выезд на полосу встречного движения, Светопропускание стекол менее нормативного]   \n",
       "\n",
       "   driver_years_of_driving_experience  \n",
       "0                                 7.0  \n",
       "1                                25.0  \n",
       "2                                31.0  \n",
       "3                                16.0  \n",
       "4                                 8.0  "
      ]
     },
     "execution_count": 88,
     "metadata": {},
     "output_type": "execute_result"
    }
   ],
   "source": [
    "drivers_info_df_processed.head()"
   ]
  },
  {
   "cell_type": "code",
   "execution_count": 89,
   "id": "57ebfe34",
   "metadata": {},
   "outputs": [
    {
     "name": "stdout",
     "output_type": "stream",
     "text": [
      "<class 'pandas.core.frame.DataFrame'>\n",
      "RangeIndex: 17402 entries, 0 to 17401\n",
      "Data columns (total 9 columns):\n",
      " #   Column                              Non-Null Count  Dtype  \n",
      "---  ------                              --------------  -----  \n",
      " 0   id                                  17402 non-null  int64  \n",
      " 1   year                                17231 non-null  float64\n",
      " 2   brand                               17262 non-null  object \n",
      " 3   color                               17302 non-null  object \n",
      " 4   model                               17262 non-null  object \n",
      " 5   category                            17402 non-null  object \n",
      " 6   driver_gender                       17137 non-null  object \n",
      " 7   driver_violations                   17402 non-null  object \n",
      " 8   driver_years_of_driving_experience  16207 non-null  float64\n",
      "dtypes: float64(2), int64(1), object(6)\n",
      "memory usage: 1.2+ MB\n"
     ]
    }
   ],
   "source": [
    "drivers_info_df_processed.info()"
   ]
  },
  {
   "cell_type": "code",
   "execution_count": 90,
   "id": "23d6ed3f",
   "metadata": {},
   "outputs": [
    {
     "name": "stdout",
     "output_type": "stream",
     "text": [
      "Объем файла 1.2 MB\n"
     ]
    }
   ],
   "source": [
    "print('Объем файла',round(drivers_info_df_processed.memory_usage().sum() / (1024 * 1024),2),'MB')"
   ]
  },
  {
   "cell_type": "code",
   "execution_count": 91,
   "id": "b14cad02",
   "metadata": {},
   "outputs": [
    {
     "data": {
      "text/html": [
       "<div>\n",
       "<style scoped>\n",
       "    .dataframe tbody tr th:only-of-type {\n",
       "        vertical-align: middle;\n",
       "    }\n",
       "\n",
       "    .dataframe tbody tr th {\n",
       "        vertical-align: top;\n",
       "    }\n",
       "\n",
       "    .dataframe thead th {\n",
       "        text-align: right;\n",
       "    }\n",
       "</style>\n",
       "<table border=\"1\" class=\"dataframe\">\n",
       "  <thead>\n",
       "    <tr style=\"text-align: right;\">\n",
       "      <th></th>\n",
       "      <th>id</th>\n",
       "      <th>role</th>\n",
       "      <th>gender</th>\n",
       "      <th>violations</th>\n",
       "      <th>health_status</th>\n",
       "    </tr>\n",
       "  </thead>\n",
       "  <tbody>\n",
       "    <tr>\n",
       "      <th>0</th>\n",
       "      <td>2500365</td>\n",
       "      <td>Пешеход</td>\n",
       "      <td>Мужской</td>\n",
       "      <td>[]</td>\n",
       "      <td>Скончался в течение 22 суток</td>\n",
       "    </tr>\n",
       "    <tr>\n",
       "      <th>1</th>\n",
       "      <td>1585231</td>\n",
       "      <td>Пешеход</td>\n",
       "      <td>Женский</td>\n",
       "      <td>[]</td>\n",
       "      <td>Раненый, находящийся (находившийся)  на амбулаторном лечении, либо которому по характеру полученных травм обозначена необходимость амбулаторного лечения (вне зависимости от его фактического прохождения)</td>\n",
       "    </tr>\n",
       "    <tr>\n",
       "      <th>2</th>\n",
       "      <td>1582918</td>\n",
       "      <td>Пешеход</td>\n",
       "      <td>None</td>\n",
       "      <td>[]</td>\n",
       "      <td>Раненый, находящийся (находившийся)  на амбулаторном лечении, либо которому по характеру полученных травм обозначена необходимость амбулаторного лечения (вне зависимости от его фактического прохождения)</td>\n",
       "    </tr>\n",
       "    <tr>\n",
       "      <th>3</th>\n",
       "      <td>2486215</td>\n",
       "      <td>Пешеход</td>\n",
       "      <td>Женский</td>\n",
       "      <td>[]</td>\n",
       "      <td>Раненый, находящийся (находившийся) на стационарном лечении</td>\n",
       "    </tr>\n",
       "    <tr>\n",
       "      <th>4</th>\n",
       "      <td>1584715</td>\n",
       "      <td>Пешеход</td>\n",
       "      <td>Женский</td>\n",
       "      <td>[]</td>\n",
       "      <td>Раненый, находящийся (находившийся) на стационарном лечении</td>\n",
       "    </tr>\n",
       "  </tbody>\n",
       "</table>\n",
       "</div>"
      ],
      "text/plain": [
       "        id     role   gender violations  \\\n",
       "0  2500365  Пешеход  Мужской         []   \n",
       "1  1585231  Пешеход  Женский         []   \n",
       "2  1582918  Пешеход     None         []   \n",
       "3  2486215  Пешеход  Женский         []   \n",
       "4  1584715  Пешеход  Женский         []   \n",
       "\n",
       "                                                                                                                                                                                                health_status  \n",
       "0                                                                                                                                                                                Скончался в течение 22 суток  \n",
       "1  Раненый, находящийся (находившийся)  на амбулаторном лечении, либо которому по характеру полученных травм обозначена необходимость амбулаторного лечения (вне зависимости от его фактического прохождения)  \n",
       "2  Раненый, находящийся (находившийся)  на амбулаторном лечении, либо которому по характеру полученных травм обозначена необходимость амбулаторного лечения (вне зависимости от его фактического прохождения)  \n",
       "3                                                                                                                                                 Раненый, находящийся (находившийся) на стационарном лечении  \n",
       "4                                                                                                                                                 Раненый, находящийся (находившийся) на стационарном лечении  "
      ]
     },
     "execution_count": 91,
     "metadata": {},
     "output_type": "execute_result"
    }
   ],
   "source": [
    "participants_info_df_processed.head()"
   ]
  },
  {
   "cell_type": "code",
   "execution_count": 92,
   "id": "69c8ef6b",
   "metadata": {},
   "outputs": [
    {
     "name": "stdout",
     "output_type": "stream",
     "text": [
      "<class 'pandas.core.frame.DataFrame'>\n",
      "RangeIndex: 3324 entries, 0 to 3323\n",
      "Data columns (total 5 columns):\n",
      " #   Column         Non-Null Count  Dtype \n",
      "---  ------         --------------  ----- \n",
      " 0   id             3324 non-null   int64 \n",
      " 1   role           3324 non-null   object\n",
      " 2   gender         3208 non-null   object\n",
      " 3   violations     3324 non-null   object\n",
      " 4   health_status  3324 non-null   object\n",
      "dtypes: int64(1), object(4)\n",
      "memory usage: 130.0+ KB\n"
     ]
    }
   ],
   "source": [
    "participants_info_df_processed.info()"
   ]
  },
  {
   "cell_type": "code",
   "execution_count": 93,
   "id": "9980217b",
   "metadata": {
    "scrolled": true
   },
   "outputs": [
    {
     "name": "stdout",
     "output_type": "stream",
     "text": [
      "Объем файла 0.13 MB\n"
     ]
    }
   ],
   "source": [
    "print('Объем файла',round(participants_info_df_processed.memory_usage().sum() / (1024 * 1024),2),'MB')"
   ]
  },
  {
   "cell_type": "markdown",
   "id": "44857fcb",
   "metadata": {},
   "source": [
    "## Преобразование 2"
   ]
  },
  {
   "cell_type": "code",
   "execution_count": 94,
   "id": "cc82eca1",
   "metadata": {},
   "outputs": [
    {
     "name": "stderr",
     "output_type": "stream",
     "text": [
      "Loading files: 100%|██████████████████████████| 85/85 [07:19<00:00,  5.17s/file]\n",
      "Concatenating GeoDataFrames: 100%|██████████| 85/85 [00:00<00:00, 545966.06it/s]\n"
     ]
    },
    {
     "name": "stdout",
     "output_type": "stream",
     "text": [
      "Successfully loaded and concatenated 85 files.\n"
     ]
    }
   ],
   "source": [
    "# Записываем путь к файлам\n",
    "path = '/Users/juliagrebeneva/Desktop/cards/'\n",
    "\n",
    "# Получить список всех файлов в директории\n",
    "file_names = [f for f in os.listdir(path) if f.endswith('.geojson')]\n",
    "\n",
    "# Инициализация tqdm для отслеживания прогресса\n",
    "loaded_files = []\n",
    "\n",
    "for file_name in tqdm(file_names, desc='Loading files', unit='file'):\n",
    "    # Загрузка каждого файла\n",
    "    gdf = gpd.read_file(os.path.join(path, file_name))\n",
    "    \n",
    "    # Удаление ненужных столбцов\n",
    "    columns_to_drop = ['scheme', 'address']\n",
    "    gdf.drop(columns=columns_to_drop, inplace=True)\n",
    "    \n",
    "    # Добавление загруженного файла в список\n",
    "    loaded_files.append(gdf)\n",
    "\n",
    "concatenated_gdfs = []\n",
    "\n",
    "with tqdm(desc='Concatenating GeoDataFrames', total=len(loaded_files)) as pbar:\n",
    "    for gdf in loaded_files:\n",
    "        concatenated_gdfs.append(gdf)\n",
    "\n",
    "        # Обновление прогресса\n",
    "        pbar.update(1)\n",
    "\n",
    "# Склеивание всех GeoDataFrames\n",
    "data = gpd.GeoDataFrame(pd.concat(concatenated_gdfs, ignore_index=True), crs=loaded_files[0].crs)\n",
    "\n",
    "# Вывод информации о завершении операции\n",
    "print(f'Successfully loaded and concatenated {len(file_names)} files.')\n"
   ]
  },
  {
   "cell_type": "code",
   "execution_count": 128,
   "id": "917bba16",
   "metadata": {},
   "outputs": [
    {
     "name": "stderr",
     "output_type": "stream",
     "text": [
      "Concatenating GeoDataFrames: 100%|███████████| 85/85 [00:00<00:00, 99529.83it/s]\n"
     ]
    }
   ],
   "source": [
    "concatenated_gdfs = []\n",
    "\n",
    "with tqdm(desc='Concatenating GeoDataFrames', total=len(loaded_files)) as pbar:\n",
    "    for gdf in loaded_files:\n",
    "        concatenated_gdfs.append(gdf)\n",
    "\n",
    "        # Обновление прогресса\n",
    "        pbar.update(1)\n",
    "\n",
    "# Склеивание всех GeoDataFrames\n",
    "da = gpd.GeoDataFrame(pd.concat(concatenated_gdfs, ignore_index=True), crs=loaded_files[0].crs)"
   ]
  },
  {
   "cell_type": "code",
   "execution_count": 129,
   "id": "dfd72dde",
   "metadata": {},
   "outputs": [],
   "source": [
    "#data.to_csv('/Users/juliagrebeneva/Desktop/data.csv', index=False)\n"
   ]
  },
  {
   "cell_type": "code",
   "execution_count": 130,
   "id": "462ac466",
   "metadata": {},
   "outputs": [
    {
     "data": {
      "text/html": [
       "<div>\n",
       "<style scoped>\n",
       "    .dataframe tbody tr th:only-of-type {\n",
       "        vertical-align: middle;\n",
       "    }\n",
       "\n",
       "    .dataframe tbody tr th {\n",
       "        vertical-align: top;\n",
       "    }\n",
       "\n",
       "    .dataframe thead th {\n",
       "        text-align: right;\n",
       "    }\n",
       "</style>\n",
       "<table border=\"1\" class=\"dataframe\">\n",
       "  <thead>\n",
       "    <tr style=\"text-align: right;\">\n",
       "      <th></th>\n",
       "      <th>id</th>\n",
       "      <th>tags</th>\n",
       "      <th>light</th>\n",
       "      <th>point</th>\n",
       "      <th>nearby</th>\n",
       "      <th>region</th>\n",
       "      <th>weather</th>\n",
       "      <th>category</th>\n",
       "      <th>datetime</th>\n",
       "      <th>severity</th>\n",
       "      <th>vehicles</th>\n",
       "      <th>dead_count</th>\n",
       "      <th>participants</th>\n",
       "      <th>injured_count</th>\n",
       "      <th>parent_region</th>\n",
       "      <th>road_conditions</th>\n",
       "      <th>participants_count</th>\n",
       "      <th>participant_categories</th>\n",
       "      <th>geometry</th>\n",
       "    </tr>\n",
       "  </thead>\n",
       "  <tbody>\n",
       "    <tr>\n",
       "      <th>0</th>\n",
       "      <td>2921076</td>\n",
       "      <td>[Дорожно-транспортные происшествия]</td>\n",
       "      <td>Светлое время суток</td>\n",
       "      <td>{'lat': 47.273191, 'long': 39.728757}</td>\n",
       "      <td>[Регулируемый пешеходный переход, Спортивные и развлекательные объекты]</td>\n",
       "      <td>Ростов-на-Дону</td>\n",
       "      <td>[Ясно]</td>\n",
       "      <td>Столкновение</td>\n",
       "      <td>2023-11-05 09:05:00</td>\n",
       "      <td>С погибшими</td>\n",
       "      <td>[ { \"year\": 2019, \"brand\": \"ГАЗ\", \"color\": \"Белый\", \"model\": \"Прочие модели ГАЗ\", \"category\": \"Прочая спецтехника\", \"participants\": [ { \"role\": \"Водитель\", \"gender\": \"Мужской\", \"violations\": [ \"Неправильный выбор дистанции\", \"Несоблюдение требований ОСАГО\" ], \"health_status\": \"Не пострадал\", \"years_of_driving_experience\": 3 } ] }, { \"year\": 2014, \"brand\": \"ВАЗ\", \"color\": \"Белый\", \"model\": \"Largus (Ларгус)\", \"category\": \"Прочие легковые автомобили\", \"participants\": [ { \"role\": \"Пассажир\", \"gender\": \"Женский\", \"violations\": [ ], \"health_status\": \"Получил телесные повреждения с показанием к лечению в медицинских организациях (кроме разовой медицинской помощи)\", \"years_of_driving_experience\": null }, { \"role\": \"Водитель\", \"gender\": \"Мужской\", \"violations\": [ ], \"health_status\": \"Скончался в течение 12 суток\", \"years_of_driving_experience\": 48 } ] } ]</td>\n",
       "      <td>1</td>\n",
       "      <td>[ ]</td>\n",
       "      <td>1</td>\n",
       "      <td>Ростовская область</td>\n",
       "      <td>[Сухое]</td>\n",
       "      <td>3</td>\n",
       "      <td>[Все участники]</td>\n",
       "      <td>POINT (39.72876 47.27319)</td>\n",
       "    </tr>\n",
       "    <tr>\n",
       "      <th>1</th>\n",
       "      <td>2442272</td>\n",
       "      <td>[Дорожно-транспортные происшествия]</td>\n",
       "      <td>В темное время суток, освещение включено</td>\n",
       "      <td>{'lat': 47.2867, 'long': 39.7442}</td>\n",
       "      <td>[Многоквартирные жилые дома]</td>\n",
       "      <td>Ростов-на-Дону</td>\n",
       "      <td>[Пасмурно]</td>\n",
       "      <td>Наезд на стоящее ТС</td>\n",
       "      <td>2018-05-25 20:35:00</td>\n",
       "      <td>Легкий</td>\n",
       "      <td>[ { \"year\": 1982, \"brand\": \"VOLVO\", \"color\": \"Белый\", \"model\": \"Прочие модели Volvo\", \"category\": \"Прочие одноярусные\", \"participants\": [ { \"role\": \"Водитель\", \"gender\": \"Мужской\", \"violations\": [ ], \"health_status\": \"Не пострадал\", \"years_of_driving_experience\": 16 } ] }, { \"year\": 2005, \"brand\": \"Прочие марки мотоциклов\", \"color\": \"Белый\", \"model\": \"Прочие марки мотоциклов\", \"category\": \"Мопеды с двигателем внутреннего сгорания менее 50 см. куб.\", \"participants\": [ { \"role\": \"Водитель\", \"gender\": \"Мужской\", \"violations\": [ \"Неправильный выбор дистанции\" ], \"health_status\": \"Раненый, находящийся (находившийся)  на амбулаторном лечении, либо которому по характеру полученных травм обозначена необходимость амбулаторного лечения (вне зависимости от его фактического прохождения)\", \"years_of_driving_experience\": 6 } ] }, { \"year\": 2017, \"brand\": \"RENAULT\", \"color\": \"Белый\", \"model\": \"Logan\", \"category\": \"В-класс (малый) до 3,9 м\", \"participants\": [ { \"role\": \"Водитель\", \"gender\": \"Мужской\", \"violations\": [ ], \"health_status\": \"Не пострадал\", \"years_of_driving_experience\": 4 } ] } ]</td>\n",
       "      <td>0</td>\n",
       "      <td>[ ]</td>\n",
       "      <td>1</td>\n",
       "      <td>Ростовская область</td>\n",
       "      <td>[Неисправное освещение, Сухое, Отсутствие, плохая различимость горизонтальной разметки проезжей части]</td>\n",
       "      <td>3</td>\n",
       "      <td>[Мотоциклисты, Все участники]</td>\n",
       "      <td>POINT (39.74420 47.28670)</td>\n",
       "    </tr>\n",
       "    <tr>\n",
       "      <th>2</th>\n",
       "      <td>2434809</td>\n",
       "      <td>[Дорожно-транспортные происшествия]</td>\n",
       "      <td>Светлое время суток</td>\n",
       "      <td>{'lat': 47.2544, 'long': 39.7711}</td>\n",
       "      <td>[Школа либо иное детское (в т.ч. дошкольное) учреждение]</td>\n",
       "      <td>Ростов-на-Дону</td>\n",
       "      <td>[Ясно]</td>\n",
       "      <td>Наезд на пешехода</td>\n",
       "      <td>2016-09-06 14:00:00</td>\n",
       "      <td>Легкий</td>\n",
       "      <td>[ { \"year\": 1981, \"brand\": \"ВАЗ\", \"color\": \"Иные цвета\", \"model\": \" Жигули  ВАЗ-2106 модификации\", \"category\": \"С-класс (малый средний, компактный) до 4,3 м\", \"participants\": [ { \"role\": \"Водитель\", \"gender\": \"Мужской\", \"violations\": [ \"Управление ТС лицом, не имеющим права на управление ТС\", \"Другие нарушения ПДД водителем\", \"Оставление места ДТП\" ], \"health_status\": \"Не пострадал\", \"years_of_driving_experience\": null } ] } ]</td>\n",
       "      <td>0</td>\n",
       "      <td>[ { \"role\": \"Пешеход\", \"gender\": \"Женский\", \"violations\": [ ], \"health_status\": \"Раненый, находящийся (находившийся)  на амбулаторном лечении, либо которому по характеру полученных травм обозначена необходимость амбулаторного лечения (вне зависимости от его фактического прохождения)\" } ]</td>\n",
       "      <td>1</td>\n",
       "      <td>Ростовская область</td>\n",
       "      <td>[Сухое]</td>\n",
       "      <td>2</td>\n",
       "      <td>[Пешеходы, Все участники]</td>\n",
       "      <td>POINT (39.77110 47.25440)</td>\n",
       "    </tr>\n",
       "    <tr>\n",
       "      <th>3</th>\n",
       "      <td>2434807</td>\n",
       "      <td>[Дорожно-транспортные происшествия]</td>\n",
       "      <td>Светлое время суток</td>\n",
       "      <td>{'lat': 47.2267, 'long': 39.6728}</td>\n",
       "      <td>[]</td>\n",
       "      <td>Ростов-на-Дону</td>\n",
       "      <td>[Ясно]</td>\n",
       "      <td>Столкновение</td>\n",
       "      <td>2016-09-06 07:20:00</td>\n",
       "      <td>Легкий</td>\n",
       "      <td>[ { \"year\": null, \"brand\": \"Прочие марки ТС\", \"color\": \"Иные цвета\", \"model\": \"Прочие марки и модели ТС\", \"category\": \"Мопеды с двигателем внутреннего сгорания менее 50 см. куб.\", \"participants\": [ { \"role\": \"Водитель\", \"gender\": \"Мужской\", \"violations\": [ \"Неправильный выбор дистанции\" ], \"health_status\": \"Раненый, находящийся (находившийся)  на амбулаторном лечении, либо которому по характеру полученных травм обозначена необходимость амбулаторного лечения (вне зависимости от его фактического прохождения)\", \"years_of_driving_experience\": 13 } ] }, { \"year\": 2015, \"brand\": \"TOYOTA\", \"color\": \"Иные цвета\", \"model\": \"Camry\", \"category\": \"D-класс (средний) до 4,6 м\", \"participants\": [ { \"role\": \"Водитель\", \"gender\": \"Мужской\", \"violations\": [ ], \"health_status\": \"Не пострадал\", \"years_of_driving_experience\": 12 } ] } ]</td>\n",
       "      <td>0</td>\n",
       "      <td>[ ]</td>\n",
       "      <td>1</td>\n",
       "      <td>Ростовская область</td>\n",
       "      <td>[Сужение проезжей части, наличие препятствий, затрудняющих движение транспортных средств, Сухое]</td>\n",
       "      <td>2</td>\n",
       "      <td>[Мотоциклисты, Все участники]</td>\n",
       "      <td>POINT (39.67280 47.22670)</td>\n",
       "    </tr>\n",
       "    <tr>\n",
       "      <th>4</th>\n",
       "      <td>2434806</td>\n",
       "      <td>[Дорожно-транспортные происшествия]</td>\n",
       "      <td>Светлое время суток</td>\n",
       "      <td>{'lat': 47.2608, 'long': 39.7683}</td>\n",
       "      <td>[Остановка общественного транспорта, Надземный пешеходный переход]</td>\n",
       "      <td>Ростов-на-Дону</td>\n",
       "      <td>[Ясно]</td>\n",
       "      <td>Наезд на пешехода</td>\n",
       "      <td>2016-09-06 06:40:00</td>\n",
       "      <td>Легкий</td>\n",
       "      <td>[ { \"year\": 2013, \"brand\": \"FORD\", \"color\": \"Черный\", \"model\": \"Focus\", \"category\": \"D-класс (средний) до 4,6 м\", \"participants\": [ { \"role\": \"Водитель\", \"gender\": \"Мужской\", \"violations\": [ ], \"health_status\": \"Не пострадал\", \"years_of_driving_experience\": 9 } ] } ]</td>\n",
       "      <td>0</td>\n",
       "      <td>[ { \"role\": \"Пешеход\", \"gender\": \"Мужской\", \"violations\": [ \"Переход через проезжую часть вне пешеходного перехода в зоне его видимости либо при наличии в непосредственной близости подземного (надземного) пешеходного перехода\" ], \"health_status\": \"Раненый, находящийся (находившийся)  на амбулаторном лечении, либо которому по характеру полученных травм обозначена необходимость амбулаторного лечения (вне зависимости от его фактического прохождения)\" } ]</td>\n",
       "      <td>1</td>\n",
       "      <td>Ростовская область</td>\n",
       "      <td>[Сухое, Отсутствие, плохая различимость вертикальной разметки, Отсутствие пешеходных ограждений в необходимых местах]</td>\n",
       "      <td>2</td>\n",
       "      <td>[Пешеходы, Все участники]</td>\n",
       "      <td>POINT (39.76830 47.26080)</td>\n",
       "    </tr>\n",
       "  </tbody>\n",
       "</table>\n",
       "</div>"
      ],
      "text/plain": [
       "        id                                 tags  \\\n",
       "0  2921076  [Дорожно-транспортные происшествия]   \n",
       "1  2442272  [Дорожно-транспортные происшествия]   \n",
       "2  2434809  [Дорожно-транспортные происшествия]   \n",
       "3  2434807  [Дорожно-транспортные происшествия]   \n",
       "4  2434806  [Дорожно-транспортные происшествия]   \n",
       "\n",
       "                                      light  \\\n",
       "0                       Светлое время суток   \n",
       "1  В темное время суток, освещение включено   \n",
       "2                       Светлое время суток   \n",
       "3                       Светлое время суток   \n",
       "4                       Светлое время суток   \n",
       "\n",
       "                                   point  \\\n",
       "0  {'lat': 47.273191, 'long': 39.728757}   \n",
       "1      {'lat': 47.2867, 'long': 39.7442}   \n",
       "2      {'lat': 47.2544, 'long': 39.7711}   \n",
       "3      {'lat': 47.2267, 'long': 39.6728}   \n",
       "4      {'lat': 47.2608, 'long': 39.7683}   \n",
       "\n",
       "                                                                    nearby  \\\n",
       "0  [Регулируемый пешеходный переход, Спортивные и развлекательные объекты]   \n",
       "1                                             [Многоквартирные жилые дома]   \n",
       "2                 [Школа либо иное детское (в т.ч. дошкольное) учреждение]   \n",
       "3                                                                       []   \n",
       "4       [Остановка общественного транспорта, Надземный пешеходный переход]   \n",
       "\n",
       "           region     weather             category            datetime  \\\n",
       "0  Ростов-на-Дону      [Ясно]         Столкновение 2023-11-05 09:05:00   \n",
       "1  Ростов-на-Дону  [Пасмурно]  Наезд на стоящее ТС 2018-05-25 20:35:00   \n",
       "2  Ростов-на-Дону      [Ясно]    Наезд на пешехода 2016-09-06 14:00:00   \n",
       "3  Ростов-на-Дону      [Ясно]         Столкновение 2016-09-06 07:20:00   \n",
       "4  Ростов-на-Дону      [Ясно]    Наезд на пешехода 2016-09-06 06:40:00   \n",
       "\n",
       "      severity  \\\n",
       "0  С погибшими   \n",
       "1       Легкий   \n",
       "2       Легкий   \n",
       "3       Легкий   \n",
       "4       Легкий   \n",
       "\n",
       "                                                                                                                                                                                                                                                                                                                                                                                                                                                                                                                                                                                                                                                                                                                                                                                                                                                                                                                                                                                                                                                                                                                                vehicles  \\\n",
       "0                                                                                                                                                                                                                                             [ { \"year\": 2019, \"brand\": \"ГАЗ\", \"color\": \"Белый\", \"model\": \"Прочие модели ГАЗ\", \"category\": \"Прочая спецтехника\", \"participants\": [ { \"role\": \"Водитель\", \"gender\": \"Мужской\", \"violations\": [ \"Неправильный выбор дистанции\", \"Несоблюдение требований ОСАГО\" ], \"health_status\": \"Не пострадал\", \"years_of_driving_experience\": 3 } ] }, { \"year\": 2014, \"brand\": \"ВАЗ\", \"color\": \"Белый\", \"model\": \"Largus (Ларгус)\", \"category\": \"Прочие легковые автомобили\", \"participants\": [ { \"role\": \"Пассажир\", \"gender\": \"Женский\", \"violations\": [ ], \"health_status\": \"Получил телесные повреждения с показанием к лечению в медицинских организациях (кроме разовой медицинской помощи)\", \"years_of_driving_experience\": null }, { \"role\": \"Водитель\", \"gender\": \"Мужской\", \"violations\": [ ], \"health_status\": \"Скончался в течение 12 суток\", \"years_of_driving_experience\": 48 } ] } ]   \n",
       "1  [ { \"year\": 1982, \"brand\": \"VOLVO\", \"color\": \"Белый\", \"model\": \"Прочие модели Volvo\", \"category\": \"Прочие одноярусные\", \"participants\": [ { \"role\": \"Водитель\", \"gender\": \"Мужской\", \"violations\": [ ], \"health_status\": \"Не пострадал\", \"years_of_driving_experience\": 16 } ] }, { \"year\": 2005, \"brand\": \"Прочие марки мотоциклов\", \"color\": \"Белый\", \"model\": \"Прочие марки мотоциклов\", \"category\": \"Мопеды с двигателем внутреннего сгорания менее 50 см. куб.\", \"participants\": [ { \"role\": \"Водитель\", \"gender\": \"Мужской\", \"violations\": [ \"Неправильный выбор дистанции\" ], \"health_status\": \"Раненый, находящийся (находившийся)  на амбулаторном лечении, либо которому по характеру полученных травм обозначена необходимость амбулаторного лечения (вне зависимости от его фактического прохождения)\", \"years_of_driving_experience\": 6 } ] }, { \"year\": 2017, \"brand\": \"RENAULT\", \"color\": \"Белый\", \"model\": \"Logan\", \"category\": \"В-класс (малый) до 3,9 м\", \"participants\": [ { \"role\": \"Водитель\", \"gender\": \"Мужской\", \"violations\": [ ], \"health_status\": \"Не пострадал\", \"years_of_driving_experience\": 4 } ] } ]   \n",
       "2                                                                                                                                                                                                                                                                                                                                                                                                                                                                                                                                                                                                                                                                                         [ { \"year\": 1981, \"brand\": \"ВАЗ\", \"color\": \"Иные цвета\", \"model\": \" Жигули  ВАЗ-2106 модификации\", \"category\": \"С-класс (малый средний, компактный) до 4,3 м\", \"participants\": [ { \"role\": \"Водитель\", \"gender\": \"Мужской\", \"violations\": [ \"Управление ТС лицом, не имеющим права на управление ТС\", \"Другие нарушения ПДД водителем\", \"Оставление места ДТП\" ], \"health_status\": \"Не пострадал\", \"years_of_driving_experience\": null } ] } ]   \n",
       "3                                                                                                                                                                                                                                                                            [ { \"year\": null, \"brand\": \"Прочие марки ТС\", \"color\": \"Иные цвета\", \"model\": \"Прочие марки и модели ТС\", \"category\": \"Мопеды с двигателем внутреннего сгорания менее 50 см. куб.\", \"participants\": [ { \"role\": \"Водитель\", \"gender\": \"Мужской\", \"violations\": [ \"Неправильный выбор дистанции\" ], \"health_status\": \"Раненый, находящийся (находившийся)  на амбулаторном лечении, либо которому по характеру полученных травм обозначена необходимость амбулаторного лечения (вне зависимости от его фактического прохождения)\", \"years_of_driving_experience\": 13 } ] }, { \"year\": 2015, \"brand\": \"TOYOTA\", \"color\": \"Иные цвета\", \"model\": \"Camry\", \"category\": \"D-класс (средний) до 4,6 м\", \"participants\": [ { \"role\": \"Водитель\", \"gender\": \"Мужской\", \"violations\": [ ], \"health_status\": \"Не пострадал\", \"years_of_driving_experience\": 12 } ] } ]   \n",
       "4                                                                                                                                                                                                                                                                                                                                                                                                                                                                                                                                                                                                                                                                                                                                                                                                                                                            [ { \"year\": 2013, \"brand\": \"FORD\", \"color\": \"Черный\", \"model\": \"Focus\", \"category\": \"D-класс (средний) до 4,6 м\", \"participants\": [ { \"role\": \"Водитель\", \"gender\": \"Мужской\", \"violations\": [ ], \"health_status\": \"Не пострадал\", \"years_of_driving_experience\": 9 } ] } ]   \n",
       "\n",
       "   dead_count  \\\n",
       "0           1   \n",
       "1           0   \n",
       "2           0   \n",
       "3           0   \n",
       "4           0   \n",
       "\n",
       "                                                                                                                                                                                                                                                                                                                                                                                                                                                              participants  \\\n",
       "0                                                                                                                                                                                                                                                                                                                                                                                                                                                                      [ ]   \n",
       "1                                                                                                                                                                                                                                                                                                                                                                                                                                                                      [ ]   \n",
       "2                                                                                                                                                                         [ { \"role\": \"Пешеход\", \"gender\": \"Женский\", \"violations\": [ ], \"health_status\": \"Раненый, находящийся (находившийся)  на амбулаторном лечении, либо которому по характеру полученных травм обозначена необходимость амбулаторного лечения (вне зависимости от его фактического прохождения)\" } ]   \n",
       "3                                                                                                                                                                                                                                                                                                                                                                                                                                                                      [ ]   \n",
       "4  [ { \"role\": \"Пешеход\", \"gender\": \"Мужской\", \"violations\": [ \"Переход через проезжую часть вне пешеходного перехода в зоне его видимости либо при наличии в непосредственной близости подземного (надземного) пешеходного перехода\" ], \"health_status\": \"Раненый, находящийся (находившийся)  на амбулаторном лечении, либо которому по характеру полученных травм обозначена необходимость амбулаторного лечения (вне зависимости от его фактического прохождения)\" } ]   \n",
       "\n",
       "   injured_count       parent_region  \\\n",
       "0              1  Ростовская область   \n",
       "1              1  Ростовская область   \n",
       "2              1  Ростовская область   \n",
       "3              1  Ростовская область   \n",
       "4              1  Ростовская область   \n",
       "\n",
       "                                                                                                         road_conditions  \\\n",
       "0                                                                                                                [Сухое]   \n",
       "1                 [Неисправное освещение, Сухое, Отсутствие, плохая различимость горизонтальной разметки проезжей части]   \n",
       "2                                                                                                                [Сухое]   \n",
       "3                       [Сужение проезжей части, наличие препятствий, затрудняющих движение транспортных средств, Сухое]   \n",
       "4  [Сухое, Отсутствие, плохая различимость вертикальной разметки, Отсутствие пешеходных ограждений в необходимых местах]   \n",
       "\n",
       "   participants_count         participant_categories  \\\n",
       "0                   3                [Все участники]   \n",
       "1                   3  [Мотоциклисты, Все участники]   \n",
       "2                   2      [Пешеходы, Все участники]   \n",
       "3                   2  [Мотоциклисты, Все участники]   \n",
       "4                   2      [Пешеходы, Все участники]   \n",
       "\n",
       "                    geometry  \n",
       "0  POINT (39.72876 47.27319)  \n",
       "1  POINT (39.74420 47.28670)  \n",
       "2  POINT (39.77110 47.25440)  \n",
       "3  POINT (39.67280 47.22670)  \n",
       "4  POINT (39.76830 47.26080)  "
      ]
     },
     "execution_count": 130,
     "metadata": {},
     "output_type": "execute_result"
    }
   ],
   "source": [
    "da.head()"
   ]
  },
  {
   "cell_type": "code",
   "execution_count": 131,
   "id": "99e9c918",
   "metadata": {},
   "outputs": [
    {
     "name": "stdout",
     "output_type": "stream",
     "text": [
      "<class 'geopandas.geodataframe.GeoDataFrame'>\n",
      "RangeIndex: 1411646 entries, 0 to 1411645\n",
      "Data columns (total 19 columns):\n",
      " #   Column                  Non-Null Count    Dtype         \n",
      "---  ------                  --------------    -----         \n",
      " 0   id                      1411646 non-null  int64         \n",
      " 1   tags                    1411646 non-null  object        \n",
      " 2   light                   1411646 non-null  object        \n",
      " 3   point                   1411646 non-null  object        \n",
      " 4   nearby                  1411646 non-null  object        \n",
      " 5   region                  1411646 non-null  object        \n",
      " 6   weather                 1411646 non-null  object        \n",
      " 7   category                1411646 non-null  object        \n",
      " 8   datetime                1411646 non-null  datetime64[ns]\n",
      " 9   severity                1411646 non-null  object        \n",
      " 10  vehicles                1411646 non-null  object        \n",
      " 11  dead_count              1411646 non-null  int64         \n",
      " 12  participants            1411646 non-null  object        \n",
      " 13  injured_count           1411646 non-null  int64         \n",
      " 14  parent_region           1411646 non-null  object        \n",
      " 15  road_conditions         1411646 non-null  object        \n",
      " 16  participants_count      1411646 non-null  int64         \n",
      " 17  participant_categories  1411646 non-null  object        \n",
      " 18  geometry                1400902 non-null  geometry      \n",
      "dtypes: datetime64[ns](1), geometry(1), int64(4), object(13)\n",
      "memory usage: 204.6+ MB\n"
     ]
    }
   ],
   "source": [
    "da.info()"
   ]
  },
  {
   "cell_type": "markdown",
   "id": "c349e99c",
   "metadata": {},
   "source": [
    "9 минут"
   ]
  },
  {
   "cell_type": "code",
   "execution_count": 132,
   "id": "5db1c1a6",
   "metadata": {},
   "outputs": [],
   "source": [
    "def copy(dk):\n",
    "    print(\"Start of copy function\")\n",
    "    \n",
    "    # Преобразование типов данных\n",
    "    print(\"Converting data types...\")\n",
    "    dk['id'] = dk['id'].astype('int32')\n",
    "    dk['dead_count'] = dk['dead_count'].astype('int16')\n",
    "    dk['injured_count'] = dk['injured_count'].astype('int16')\n",
    "    dk['participants_count'] = dk['participants_count'].astype('int16')\n",
    "    print(\"Converting data types.tags..\")\n",
    "    dk['tags'] = dk['tags'].apply(map_values)#.astype('int16')\n",
    "    \n",
    "    # Преобразование столбца point\n",
    "    print(\"Transforming 'point' column...\")\n",
    "    dk['point'] = dk['point'].apply(lambda x: [x['lat'], x['long']])\n",
    "    \n",
    "    # Преобразование столбца nearby\n",
    "    print(\"Transforming 'nearby' column...\")\n",
    "    dk['nearby'] = dk['nearby'].map(replace_values)\n",
    "    dk['nearby'] = dk['nearby'].apply(lambda x: ', '.join(x))\n",
    "    \n",
    "    # Обработка столбца weather\n",
    "    print(\"Processing 'weather' column...\")\n",
    "    dk['weather'] = dk['weather'].apply(lambda x: ','.join(x))\n",
    "    dk['weather'] = dk['weather'].apply(process_weather)\n",
    "    \n",
    "    # Преобразование столбца datetime\n",
    "    print(\"Processing 'datetime' column...\")\n",
    "    dk['date'] = dk['datetime'].dt.date\n",
    "    dk['time'] = dk['datetime'].dt.time\n",
    "    dk.drop('datetime', axis=1, inplace=True)\n",
    "    \n",
    "    # Обработка водителей\n",
    "    print(\"Extracting driver information...\")\n",
    "    drivers_info_series = dk.apply(extract_driver_info, axis=1)\n",
    "    drivers_info_df = pd.DataFrame([item for sublist in drivers_info_series for item in sublist])\n",
    "    dk.drop('vehicles', axis=1, inplace=True)\n",
    "    \n",
    "    # Обработка условий дороги\n",
    "    print(\"Extracting road conditions...\")\n",
    "    extracted_conditions = dk['road_conditions'].apply(extract_road_conditions)\n",
    "    dk = pd.concat([dk, extracted_conditions], axis=1)\n",
    "    dk.drop('road_conditions', axis=1, inplace=True)\n",
    "    \n",
    "    # Обработка информации о участниках\n",
    "    print(\"Extracting participant information...\")\n",
    "    participants_info_series = dk.apply(extract_participant_info, axis=1)\n",
    "    participants_info_df = pd.DataFrame([item for sublist in participants_info_series for item in sublist])\n",
    "    dk.drop('participants', axis=1, inplace=True)\n",
    "    \n",
    "    # Обработка категорий участников\n",
    "    print(\"Extracting participant categories...\")\n",
    "    extracted_categories = dk['participant_categories'].apply(extract_participant_categories)\n",
    "    dk = pd.concat([dk, extracted_categories], axis=1)\n",
    "    dk.drop('participant_categories', axis=1, inplace=True)\n",
    "\n",
    "    print(\"End of copy function\")\n",
    "    \n",
    "    return dk, drivers_info_df, participants_info_df\n"
   ]
  },
  {
   "cell_type": "code",
   "execution_count": 133,
   "id": "dd5c03a4",
   "metadata": {},
   "outputs": [
    {
     "name": "stdout",
     "output_type": "stream",
     "text": [
      "Start of copy function\n",
      "Converting data types...\n",
      "Converting data types.tags..\n",
      "Transforming 'point' column...\n",
      "Transforming 'nearby' column...\n",
      "Processing 'weather' column...\n",
      "Processing 'datetime' column...\n",
      "Extracting driver information...\n",
      "Extracting road conditions...\n",
      "Extracting participant information...\n",
      "Extracting participant categories...\n",
      "End of copy function\n"
     ]
    }
   ],
   "source": [
    "dk_processed, drivers_info_df_processed, participants_info_df_processed = copy(da)\n"
   ]
  },
  {
   "cell_type": "code",
   "execution_count": 136,
   "id": "410fd7c3",
   "metadata": {},
   "outputs": [],
   "source": [
    "dk_processed.drop('geometry', axis=1, inplace=True)\n"
   ]
  },
  {
   "cell_type": "code",
   "execution_count": 143,
   "id": "3bb1094e",
   "metadata": {},
   "outputs": [],
   "source": [
    "dk_processed.to_csv('/Users/juliagrebeneva/Desktop/dk_processed.csv', index=False)\n",
    "drivers_info_df_processed.to_csv('/Users/juliagrebeneva/Desktop/drivers_info_df_processed.csv', index=False)\n",
    "participants_info_df_processed.to_csv('/Users/juliagrebeneva/Desktop/participants_info_df_processed.csv', index=False)"
   ]
  },
  {
   "cell_type": "code",
   "execution_count": 137,
   "id": "ae527a71",
   "metadata": {},
   "outputs": [
    {
     "name": "stdout",
     "output_type": "stream",
     "text": [
      "<class 'geopandas.geodataframe.GeoDataFrame'>\n",
      "RangeIndex: 1411646 entries, 0 to 1411645\n",
      "Data columns (total 21 columns):\n",
      " #   Column                     Non-Null Count    Dtype \n",
      "---  ------                     --------------    ----- \n",
      " 0   id                         1411646 non-null  int32 \n",
      " 1   tags                       1411646 non-null  object\n",
      " 2   light                      1411646 non-null  object\n",
      " 3   point                      1411646 non-null  object\n",
      " 4   nearby                     1411646 non-null  object\n",
      " 5   region                     1411646 non-null  object\n",
      " 6   weather                    1411646 non-null  object\n",
      " 7   category                   1411646 non-null  object\n",
      " 8   severity                   1411646 non-null  object\n",
      " 9   dead_count                 1411646 non-null  int16 \n",
      " 10  injured_count              1411646 non-null  int16 \n",
      " 11  parent_region              1411646 non-null  object\n",
      " 12  participants_count         1411646 non-null  int16 \n",
      " 13  date                       1411646 non-null  object\n",
      " 14  time                       1411646 non-null  object\n",
      " 15  road_surface               1411646 non-null  object\n",
      " 16  road_lack_safety_features  1411646 non-null  object\n",
      " 17  all_participants           1411646 non-null  int16 \n",
      " 18  pedestrians                1411646 non-null  int16 \n",
      " 19  motorcyclists              1411646 non-null  int16 \n",
      " 20  children                   1411646 non-null  int16 \n",
      "dtypes: int16(7), int32(1), object(13)\n",
      "memory usage: 164.2+ MB\n"
     ]
    }
   ],
   "source": [
    "dk_processed.info()"
   ]
  },
  {
   "cell_type": "code",
   "execution_count": 138,
   "id": "6504f2cb",
   "metadata": {
    "scrolled": true
   },
   "outputs": [
    {
     "data": {
      "text/html": [
       "<div>\n",
       "<style scoped>\n",
       "    .dataframe tbody tr th:only-of-type {\n",
       "        vertical-align: middle;\n",
       "    }\n",
       "\n",
       "    .dataframe tbody tr th {\n",
       "        vertical-align: top;\n",
       "    }\n",
       "\n",
       "    .dataframe thead th {\n",
       "        text-align: right;\n",
       "    }\n",
       "</style>\n",
       "<table border=\"1\" class=\"dataframe\">\n",
       "  <thead>\n",
       "    <tr style=\"text-align: right;\">\n",
       "      <th></th>\n",
       "      <th>id</th>\n",
       "      <th>tags</th>\n",
       "      <th>light</th>\n",
       "      <th>point</th>\n",
       "      <th>nearby</th>\n",
       "      <th>region</th>\n",
       "      <th>weather</th>\n",
       "      <th>category</th>\n",
       "      <th>severity</th>\n",
       "      <th>dead_count</th>\n",
       "      <th>injured_count</th>\n",
       "      <th>parent_region</th>\n",
       "      <th>participants_count</th>\n",
       "      <th>date</th>\n",
       "      <th>time</th>\n",
       "      <th>road_surface</th>\n",
       "      <th>road_lack_safety_features</th>\n",
       "      <th>all_participants</th>\n",
       "      <th>pedestrians</th>\n",
       "      <th>motorcyclists</th>\n",
       "      <th>children</th>\n",
       "    </tr>\n",
       "  </thead>\n",
       "  <tbody>\n",
       "    <tr>\n",
       "      <th>0</th>\n",
       "      <td>2921076</td>\n",
       "      <td>1</td>\n",
       "      <td>Светлое время суток</td>\n",
       "      <td>[47.273191, 39.728757]</td>\n",
       "      <td>Пешеходная инфраструктура, Развлекательные объекты</td>\n",
       "      <td>Ростов-на-Дону</td>\n",
       "      <td>Ясно</td>\n",
       "      <td>Столкновение</td>\n",
       "      <td>С погибшими</td>\n",
       "      <td>1</td>\n",
       "      <td>1</td>\n",
       "      <td>Ростовская область</td>\n",
       "      <td>3</td>\n",
       "      <td>2023-11-05</td>\n",
       "      <td>09:05:00</td>\n",
       "      <td>Сухое</td>\n",
       "      <td>Другое</td>\n",
       "      <td>1</td>\n",
       "      <td>0</td>\n",
       "      <td>0</td>\n",
       "      <td>0</td>\n",
       "    </tr>\n",
       "    <tr>\n",
       "      <th>1</th>\n",
       "      <td>2442272</td>\n",
       "      <td>1</td>\n",
       "      <td>В темное время суток, освещение включено</td>\n",
       "      <td>[47.2867, 39.7442]</td>\n",
       "      <td>Жилая застройка</td>\n",
       "      <td>Ростов-на-Дону</td>\n",
       "      <td>Пасмурно</td>\n",
       "      <td>Наезд на стоящее ТС</td>\n",
       "      <td>Легкий</td>\n",
       "      <td>0</td>\n",
       "      <td>1</td>\n",
       "      <td>Ростовская область</td>\n",
       "      <td>3</td>\n",
       "      <td>2018-05-25</td>\n",
       "      <td>20:35:00</td>\n",
       "      <td>Сухое</td>\n",
       "      <td>Отсутствие, плохая различимость горизонтальной разметки проезжей части</td>\n",
       "      <td>1</td>\n",
       "      <td>0</td>\n",
       "      <td>1</td>\n",
       "      <td>0</td>\n",
       "    </tr>\n",
       "    <tr>\n",
       "      <th>2</th>\n",
       "      <td>2434809</td>\n",
       "      <td>1</td>\n",
       "      <td>Светлое время суток</td>\n",
       "      <td>[47.2544, 39.7711]</td>\n",
       "      <td>Образовательные учреждения</td>\n",
       "      <td>Ростов-на-Дону</td>\n",
       "      <td>Ясно</td>\n",
       "      <td>Наезд на пешехода</td>\n",
       "      <td>Легкий</td>\n",
       "      <td>0</td>\n",
       "      <td>1</td>\n",
       "      <td>Ростовская область</td>\n",
       "      <td>2</td>\n",
       "      <td>2016-09-06</td>\n",
       "      <td>14:00:00</td>\n",
       "      <td>Сухое</td>\n",
       "      <td>Другое</td>\n",
       "      <td>1</td>\n",
       "      <td>1</td>\n",
       "      <td>0</td>\n",
       "      <td>0</td>\n",
       "    </tr>\n",
       "    <tr>\n",
       "      <th>3</th>\n",
       "      <td>2434807</td>\n",
       "      <td>1</td>\n",
       "      <td>Светлое время суток</td>\n",
       "      <td>[47.2267, 39.6728]</td>\n",
       "      <td></td>\n",
       "      <td>Ростов-на-Дону</td>\n",
       "      <td>Ясно</td>\n",
       "      <td>Столкновение</td>\n",
       "      <td>Легкий</td>\n",
       "      <td>0</td>\n",
       "      <td>1</td>\n",
       "      <td>Ростовская область</td>\n",
       "      <td>2</td>\n",
       "      <td>2016-09-06</td>\n",
       "      <td>07:20:00</td>\n",
       "      <td>Сухое</td>\n",
       "      <td>Другое</td>\n",
       "      <td>1</td>\n",
       "      <td>0</td>\n",
       "      <td>1</td>\n",
       "      <td>0</td>\n",
       "    </tr>\n",
       "    <tr>\n",
       "      <th>4</th>\n",
       "      <td>2434806</td>\n",
       "      <td>1</td>\n",
       "      <td>Светлое время суток</td>\n",
       "      <td>[47.2608, 39.7683]</td>\n",
       "      <td>Пешеходная инфраструктура, Транспортная инфраструктура</td>\n",
       "      <td>Ростов-на-Дону</td>\n",
       "      <td>Ясно</td>\n",
       "      <td>Наезд на пешехода</td>\n",
       "      <td>Легкий</td>\n",
       "      <td>0</td>\n",
       "      <td>1</td>\n",
       "      <td>Ростовская область</td>\n",
       "      <td>2</td>\n",
       "      <td>2016-09-06</td>\n",
       "      <td>06:40:00</td>\n",
       "      <td>Сухое</td>\n",
       "      <td>Отсутствие пешеходных ограждений в необходимых местах</td>\n",
       "      <td>1</td>\n",
       "      <td>1</td>\n",
       "      <td>0</td>\n",
       "      <td>0</td>\n",
       "    </tr>\n",
       "  </tbody>\n",
       "</table>\n",
       "</div>"
      ],
      "text/plain": [
       "        id tags                                     light  \\\n",
       "0  2921076    1                       Светлое время суток   \n",
       "1  2442272    1  В темное время суток, освещение включено   \n",
       "2  2434809    1                       Светлое время суток   \n",
       "3  2434807    1                       Светлое время суток   \n",
       "4  2434806    1                       Светлое время суток   \n",
       "\n",
       "                    point  \\\n",
       "0  [47.273191, 39.728757]   \n",
       "1      [47.2867, 39.7442]   \n",
       "2      [47.2544, 39.7711]   \n",
       "3      [47.2267, 39.6728]   \n",
       "4      [47.2608, 39.7683]   \n",
       "\n",
       "                                                   nearby          region  \\\n",
       "0      Пешеходная инфраструктура, Развлекательные объекты  Ростов-на-Дону   \n",
       "1                                         Жилая застройка  Ростов-на-Дону   \n",
       "2                              Образовательные учреждения  Ростов-на-Дону   \n",
       "3                                                          Ростов-на-Дону   \n",
       "4  Пешеходная инфраструктура, Транспортная инфраструктура  Ростов-на-Дону   \n",
       "\n",
       "    weather             category     severity  dead_count  injured_count  \\\n",
       "0      Ясно         Столкновение  С погибшими           1              1   \n",
       "1  Пасмурно  Наезд на стоящее ТС       Легкий           0              1   \n",
       "2      Ясно    Наезд на пешехода       Легкий           0              1   \n",
       "3      Ясно         Столкновение       Легкий           0              1   \n",
       "4      Ясно    Наезд на пешехода       Легкий           0              1   \n",
       "\n",
       "        parent_region  participants_count        date      time road_surface  \\\n",
       "0  Ростовская область                   3  2023-11-05  09:05:00        Сухое   \n",
       "1  Ростовская область                   3  2018-05-25  20:35:00        Сухое   \n",
       "2  Ростовская область                   2  2016-09-06  14:00:00        Сухое   \n",
       "3  Ростовская область                   2  2016-09-06  07:20:00        Сухое   \n",
       "4  Ростовская область                   2  2016-09-06  06:40:00        Сухое   \n",
       "\n",
       "                                                road_lack_safety_features  \\\n",
       "0                                                                  Другое   \n",
       "1  Отсутствие, плохая различимость горизонтальной разметки проезжей части   \n",
       "2                                                                  Другое   \n",
       "3                                                                  Другое   \n",
       "4                   Отсутствие пешеходных ограждений в необходимых местах   \n",
       "\n",
       "   all_participants  pedestrians  motorcyclists  children  \n",
       "0                 1            0              0         0  \n",
       "1                 1            0              1         0  \n",
       "2                 1            1              0         0  \n",
       "3                 1            0              1         0  \n",
       "4                 1            1              0         0  "
      ]
     },
     "execution_count": 138,
     "metadata": {},
     "output_type": "execute_result"
    }
   ],
   "source": [
    "dk_processed.head()"
   ]
  },
  {
   "cell_type": "code",
   "execution_count": 139,
   "id": "a10bda8e",
   "metadata": {},
   "outputs": [
    {
     "name": "stdout",
     "output_type": "stream",
     "text": [
      "<class 'pandas.core.frame.DataFrame'>\n",
      "RangeIndex: 2177204 entries, 0 to 2177203\n",
      "Data columns (total 9 columns):\n",
      " #   Column                              Dtype  \n",
      "---  ------                              -----  \n",
      " 0   id                                  int64  \n",
      " 1   year                                float64\n",
      " 2   brand                               object \n",
      " 3   color                               object \n",
      " 4   model                               object \n",
      " 5   category                            object \n",
      " 6   driver_gender                       object \n",
      " 7   driver_violations                   object \n",
      " 8   driver_years_of_driving_experience  float64\n",
      "dtypes: float64(2), int64(1), object(6)\n",
      "memory usage: 149.5+ MB\n"
     ]
    }
   ],
   "source": [
    "drivers_info_df_processed.info()"
   ]
  },
  {
   "cell_type": "code",
   "execution_count": 141,
   "id": "6e3c7494",
   "metadata": {},
   "outputs": [
    {
     "data": {
      "text/html": [
       "<div>\n",
       "<style scoped>\n",
       "    .dataframe tbody tr th:only-of-type {\n",
       "        vertical-align: middle;\n",
       "    }\n",
       "\n",
       "    .dataframe tbody tr th {\n",
       "        vertical-align: top;\n",
       "    }\n",
       "\n",
       "    .dataframe thead th {\n",
       "        text-align: right;\n",
       "    }\n",
       "</style>\n",
       "<table border=\"1\" class=\"dataframe\">\n",
       "  <thead>\n",
       "    <tr style=\"text-align: right;\">\n",
       "      <th></th>\n",
       "      <th>id</th>\n",
       "      <th>year</th>\n",
       "      <th>brand</th>\n",
       "      <th>color</th>\n",
       "      <th>model</th>\n",
       "      <th>category</th>\n",
       "      <th>driver_gender</th>\n",
       "      <th>driver_violations</th>\n",
       "      <th>driver_years_of_driving_experience</th>\n",
       "    </tr>\n",
       "  </thead>\n",
       "  <tbody>\n",
       "    <tr>\n",
       "      <th>0</th>\n",
       "      <td>2921076</td>\n",
       "      <td>2019.0</td>\n",
       "      <td>ГАЗ</td>\n",
       "      <td>Белый</td>\n",
       "      <td>Прочие модели ГАЗ</td>\n",
       "      <td>Прочая спецтехника</td>\n",
       "      <td>Мужской</td>\n",
       "      <td>[Неправильный выбор дистанции, Несоблюдение требований ОСАГО]</td>\n",
       "      <td>3.0</td>\n",
       "    </tr>\n",
       "    <tr>\n",
       "      <th>1</th>\n",
       "      <td>2921076</td>\n",
       "      <td>2014.0</td>\n",
       "      <td>ВАЗ</td>\n",
       "      <td>Белый</td>\n",
       "      <td>Largus (Ларгус)</td>\n",
       "      <td>Прочие легковые автомобили</td>\n",
       "      <td>Мужской</td>\n",
       "      <td>[]</td>\n",
       "      <td>48.0</td>\n",
       "    </tr>\n",
       "    <tr>\n",
       "      <th>2</th>\n",
       "      <td>2442272</td>\n",
       "      <td>1982.0</td>\n",
       "      <td>VOLVO</td>\n",
       "      <td>Белый</td>\n",
       "      <td>Прочие модели Volvo</td>\n",
       "      <td>Прочие одноярусные</td>\n",
       "      <td>Мужской</td>\n",
       "      <td>[]</td>\n",
       "      <td>16.0</td>\n",
       "    </tr>\n",
       "    <tr>\n",
       "      <th>3</th>\n",
       "      <td>2442272</td>\n",
       "      <td>2005.0</td>\n",
       "      <td>Прочие марки мотоциклов</td>\n",
       "      <td>Белый</td>\n",
       "      <td>Прочие марки мотоциклов</td>\n",
       "      <td>Мопеды с двигателем внутреннего сгорания менее 50 см. куб.</td>\n",
       "      <td>Мужской</td>\n",
       "      <td>[Неправильный выбор дистанции]</td>\n",
       "      <td>6.0</td>\n",
       "    </tr>\n",
       "    <tr>\n",
       "      <th>4</th>\n",
       "      <td>2442272</td>\n",
       "      <td>2017.0</td>\n",
       "      <td>RENAULT</td>\n",
       "      <td>Белый</td>\n",
       "      <td>Logan</td>\n",
       "      <td>В-класс (малый) до 3,9 м</td>\n",
       "      <td>Мужской</td>\n",
       "      <td>[]</td>\n",
       "      <td>4.0</td>\n",
       "    </tr>\n",
       "  </tbody>\n",
       "</table>\n",
       "</div>"
      ],
      "text/plain": [
       "        id    year                    brand  color                    model  \\\n",
       "0  2921076  2019.0                      ГАЗ  Белый        Прочие модели ГАЗ   \n",
       "1  2921076  2014.0                      ВАЗ  Белый          Largus (Ларгус)   \n",
       "2  2442272  1982.0                    VOLVO  Белый      Прочие модели Volvo   \n",
       "3  2442272  2005.0  Прочие марки мотоциклов  Белый  Прочие марки мотоциклов   \n",
       "4  2442272  2017.0                  RENAULT  Белый                    Logan   \n",
       "\n",
       "                                                     category driver_gender  \\\n",
       "0                                          Прочая спецтехника       Мужской   \n",
       "1                                  Прочие легковые автомобили       Мужской   \n",
       "2                                          Прочие одноярусные       Мужской   \n",
       "3  Мопеды с двигателем внутреннего сгорания менее 50 см. куб.       Мужской   \n",
       "4                                    В-класс (малый) до 3,9 м       Мужской   \n",
       "\n",
       "                                               driver_violations  \\\n",
       "0  [Неправильный выбор дистанции, Несоблюдение требований ОСАГО]   \n",
       "1                                                             []   \n",
       "2                                                             []   \n",
       "3                                 [Неправильный выбор дистанции]   \n",
       "4                                                             []   \n",
       "\n",
       "   driver_years_of_driving_experience  \n",
       "0                                 3.0  \n",
       "1                                48.0  \n",
       "2                                16.0  \n",
       "3                                 6.0  \n",
       "4                                 4.0  "
      ]
     },
     "execution_count": 141,
     "metadata": {},
     "output_type": "execute_result"
    }
   ],
   "source": [
    "drivers_info_df_processed.head()"
   ]
  },
  {
   "cell_type": "code",
   "execution_count": 140,
   "id": "7d925b92",
   "metadata": {},
   "outputs": [
    {
     "data": {
      "text/html": [
       "<div>\n",
       "<style scoped>\n",
       "    .dataframe tbody tr th:only-of-type {\n",
       "        vertical-align: middle;\n",
       "    }\n",
       "\n",
       "    .dataframe tbody tr th {\n",
       "        vertical-align: top;\n",
       "    }\n",
       "\n",
       "    .dataframe thead th {\n",
       "        text-align: right;\n",
       "    }\n",
       "</style>\n",
       "<table border=\"1\" class=\"dataframe\">\n",
       "  <thead>\n",
       "    <tr style=\"text-align: right;\">\n",
       "      <th></th>\n",
       "      <th>id</th>\n",
       "      <th>role</th>\n",
       "      <th>gender</th>\n",
       "      <th>violations</th>\n",
       "      <th>health_status</th>\n",
       "    </tr>\n",
       "  </thead>\n",
       "  <tbody>\n",
       "    <tr>\n",
       "      <th>0</th>\n",
       "      <td>2434809</td>\n",
       "      <td>Пешеход</td>\n",
       "      <td>Женский</td>\n",
       "      <td>[]</td>\n",
       "      <td>Раненый, находящийся (находившийся)  на амбулаторном лечении, либо которому по характеру полученных травм обозначена необходимость амбулаторного лечения (вне зависимости от его фактического прохождения)</td>\n",
       "    </tr>\n",
       "    <tr>\n",
       "      <th>1</th>\n",
       "      <td>2434806</td>\n",
       "      <td>Пешеход</td>\n",
       "      <td>Мужской</td>\n",
       "      <td>[Переход через проезжую часть вне пешеходного перехода в зоне его видимости либо при наличии в непосредственной близости подземного (надземного) пешеходного перехода]</td>\n",
       "      <td>Раненый, находящийся (находившийся)  на амбулаторном лечении, либо которому по характеру полученных травм обозначена необходимость амбулаторного лечения (вне зависимости от его фактического прохождения)</td>\n",
       "    </tr>\n",
       "    <tr>\n",
       "      <th>2</th>\n",
       "      <td>2434823</td>\n",
       "      <td>Пешеход</td>\n",
       "      <td>Женский</td>\n",
       "      <td>[Нахождение на проезжей части без цели её перехода]</td>\n",
       "      <td>Раненый, находящийся (находившийся)  на амбулаторном лечении, либо которому по характеру полученных травм обозначена необходимость амбулаторного лечения (вне зависимости от его фактического прохождения)</td>\n",
       "    </tr>\n",
       "    <tr>\n",
       "      <th>3</th>\n",
       "      <td>2434835</td>\n",
       "      <td>Пешеход</td>\n",
       "      <td>Женский</td>\n",
       "      <td>[Неподчинение сигналам регулирования]</td>\n",
       "      <td>Раненый, находящийся (находившийся)  на амбулаторном лечении, либо которому по характеру полученных травм обозначена необходимость амбулаторного лечения (вне зависимости от его фактического прохождения)</td>\n",
       "    </tr>\n",
       "    <tr>\n",
       "      <th>4</th>\n",
       "      <td>2920956</td>\n",
       "      <td>Пешеход</td>\n",
       "      <td>Мужской</td>\n",
       "      <td>[Переход через проезжую часть вне пешеходного перехода в зоне его видимости либо при наличии в непосредственной близости подземного (надземного) пешеходного перехода]</td>\n",
       "      <td>Раненый, находящийся (находившийся) на амбулаторном лечении, либо в условиях дневного стационара</td>\n",
       "    </tr>\n",
       "  </tbody>\n",
       "</table>\n",
       "</div>"
      ],
      "text/plain": [
       "        id     role   gender  \\\n",
       "0  2434809  Пешеход  Женский   \n",
       "1  2434806  Пешеход  Мужской   \n",
       "2  2434823  Пешеход  Женский   \n",
       "3  2434835  Пешеход  Женский   \n",
       "4  2920956  Пешеход  Мужской   \n",
       "\n",
       "                                                                                                                                                               violations  \\\n",
       "0                                                                                                                                                                      []   \n",
       "1  [Переход через проезжую часть вне пешеходного перехода в зоне его видимости либо при наличии в непосредственной близости подземного (надземного) пешеходного перехода]   \n",
       "2                                                                                                                     [Нахождение на проезжей части без цели её перехода]   \n",
       "3                                                                                                                                   [Неподчинение сигналам регулирования]   \n",
       "4  [Переход через проезжую часть вне пешеходного перехода в зоне его видимости либо при наличии в непосредственной близости подземного (надземного) пешеходного перехода]   \n",
       "\n",
       "                                                                                                                                                                                                health_status  \n",
       "0  Раненый, находящийся (находившийся)  на амбулаторном лечении, либо которому по характеру полученных травм обозначена необходимость амбулаторного лечения (вне зависимости от его фактического прохождения)  \n",
       "1  Раненый, находящийся (находившийся)  на амбулаторном лечении, либо которому по характеру полученных травм обозначена необходимость амбулаторного лечения (вне зависимости от его фактического прохождения)  \n",
       "2  Раненый, находящийся (находившийся)  на амбулаторном лечении, либо которому по характеру полученных травм обозначена необходимость амбулаторного лечения (вне зависимости от его фактического прохождения)  \n",
       "3  Раненый, находящийся (находившийся)  на амбулаторном лечении, либо которому по характеру полученных травм обозначена необходимость амбулаторного лечения (вне зависимости от его фактического прохождения)  \n",
       "4                                                                                                            Раненый, находящийся (находившийся) на амбулаторном лечении, либо в условиях дневного стационара  "
      ]
     },
     "execution_count": 140,
     "metadata": {},
     "output_type": "execute_result"
    }
   ],
   "source": [
    "participants_info_df_processed.head()"
   ]
  },
  {
   "cell_type": "code",
   "execution_count": 142,
   "id": "1dbfb873",
   "metadata": {
    "scrolled": true
   },
   "outputs": [
    {
     "name": "stdout",
     "output_type": "stream",
     "text": [
      "<class 'pandas.core.frame.DataFrame'>\n",
      "RangeIndex: 440949 entries, 0 to 440948\n",
      "Data columns (total 5 columns):\n",
      " #   Column         Non-Null Count   Dtype \n",
      "---  ------         --------------   ----- \n",
      " 0   id             440949 non-null  int64 \n",
      " 1   role           440949 non-null  object\n",
      " 2   gender         429739 non-null  object\n",
      " 3   violations     440949 non-null  object\n",
      " 4   health_status  440923 non-null  object\n",
      "dtypes: int64(1), object(4)\n",
      "memory usage: 16.8+ MB\n"
     ]
    }
   ],
   "source": [
    "participants_info_df_processed.info()"
   ]
  },
  {
   "cell_type": "markdown",
   "id": "9b32e1e4",
   "metadata": {},
   "source": [
    "## Гипотезы"
   ]
  },
  {
   "cell_type": "markdown",
   "id": "6f7952c5",
   "metadata": {},
   "source": [
    "В этой части мы будем рассматривать три предположения, а на основе их выдвенем 3 гипотезы и проверим их. Посмотрим какие предположения у нас есть и далее будем формулировать гипотезы для каждого.\n",
    "- Водители со стажем 4-6 лет опаснее, чем новички с опытом до 3-х лет (рассматриваем только водителей, нарушивших пдд)\n",
    "- В темное время суток отсутствие освещение делает ДТП опаснее.\n",
    "- Большой транспорт опаснее (тип) (обе стороны, и виноватые и не виноватые)\n",
    "\n",
    "Будем проводить статистические тесты. Для примера возьмем два теста t-test, z-критерий. Для их работы нужно выполнить следующие условия:\n",
    "\n",
    "- должны быть сформулированы гипотезы.\n",
    "- определены выборки по критериям.\n",
    "- выборки должны быть представлены числовыми рядами."
   ]
  },
  {
   "cell_type": "markdown",
   "id": "8ba5c1aa",
   "metadata": {},
   "source": [
    "### Водители со стажем 4-6 лет опаснее, чем новички с опытом до 3-х лет\n"
   ]
  },
  {
   "cell_type": "markdown",
   "id": "6e74330a",
   "metadata": {},
   "source": [
    "Гипотеза для t-test: В ДТП с опытными водителями погибших не больше, чем с новичками. В ДТП с опытными водителями погибших больше, чем при ДТП с новичками.\n",
    "\n",
    "Гипотезы для z-критерия: Доля ДТП опытных водителей с погибшими не превышает долю ДТП новичков, различия статитистически незначимы. Доля ДТП опытных водителей с погибшими выше доли ДТП новичков, различия статистически значимы.\n",
    "\n",
    "Что нужно сделать: \n",
    "- Выделить водителей, нарушивших ПДД.\n",
    "- Выделить из них новичков (1-3 лет опыта);\n",
    "- Выделить опытных водителей (от 4-6 лет опыта);"
   ]
  },
  {
   "cell_type": "code",
   "execution_count": 1,
   "id": "2ee456a1",
   "metadata": {},
   "outputs": [
    {
     "name": "stderr",
     "output_type": "stream",
     "text": [
      "/Users/juliagrebeneva/anaconda3/envs/da_practicum_env/lib/python3.9/site-packages/scipy/__init__.py:146: UserWarning: A NumPy version >=1.17.3 and <1.25.0 is required for this version of SciPy (detected version 1.26.4\n",
      "  warnings.warn(f\"A NumPy version >={np_minversion} and <{np_maxversion}\"\n"
     ]
    }
   ],
   "source": [
    "import requests\n",
    "from tqdm import tqdm\n",
    "import os\n",
    "import pandas as pd\n",
    "import json \n",
    "import ast\n",
    "from tqdm import tqdm\n",
    "import matplotlib.pyplot as plt\n",
    "from scipy import stats as st\n",
    "from scipy.stats import spearmanr\n",
    "import numpy as np\n",
    "import math as mth\n",
    "\n",
    "import warnings\n",
    "warnings.filterwarnings('ignore')"
   ]
  },
  {
   "cell_type": "code",
   "execution_count": 2,
   "id": "01605a26",
   "metadata": {},
   "outputs": [],
   "source": [
    "# загрузим датафрейм с водителями\n",
    "drivers_info_df_processed=pd.read_csv('/Users/juliagrebeneva/Desktop/drivers_info_df_processed.csv')"
   ]
  },
  {
   "cell_type": "code",
   "execution_count": 3,
   "id": "02e57472",
   "metadata": {},
   "outputs": [],
   "source": [
    "# оставим только, тех водителей, которые нарушили ПДД\n",
    "drivers_with_violations = drivers_info_df_processed[drivers_info_df_processed['driver_violations'].apply(len) > 2]\n",
    "# удалим водителей, у которых не указан опыт\n",
    "drivers_with_violations = drivers_with_violations.dropna(subset=['driver_years_of_driving_experience'])\n",
    "# оставляем водителей с опытом до 6 лет\n",
    "drivers_with_violations = drivers_with_violations[drivers_with_violations['driver_years_of_driving_experience'] <= 6]\n",
    "# проставляем каждому такому водителю категорию 0- новичок, 1- с опытом\n",
    "drivers_with_violations['experience_category'] = drivers_with_violations['driver_years_of_driving_experience'].apply(lambda x: 0 if x <= 3 else 1).astype('int8')\n",
    "# оставляем только id и статус\n",
    "drivers_with_violations=drivers_with_violations[['id','experience_category']]\n",
    "# и убираем дубликаты\n",
    "drivers_with_violations=drivers_with_violations.drop_duplicates().reset_index(drop=True)"
   ]
  },
  {
   "cell_type": "code",
   "execution_count": 4,
   "id": "d58ffc48",
   "metadata": {},
   "outputs": [
    {
     "name": "stdout",
     "output_type": "stream",
     "text": [
      "<class 'pandas.core.frame.DataFrame'>\n",
      "RangeIndex: 331645 entries, 0 to 331644\n",
      "Data columns (total 2 columns):\n",
      " #   Column               Non-Null Count   Dtype\n",
      "---  ------               --------------   -----\n",
      " 0   id                   331645 non-null  int64\n",
      " 1   experience_category  331645 non-null  int8 \n",
      "dtypes: int64(1), int8(1)\n",
      "memory usage: 2.8 MB\n"
     ]
    }
   ],
   "source": [
    "drivers_with_violations.info()"
   ]
  },
  {
   "cell_type": "code",
   "execution_count": 5,
   "id": "7b8cba0a",
   "metadata": {},
   "outputs": [
    {
     "data": {
      "text/plain": [
       "experience_category\n",
       "0    169641\n",
       "1    162004\n",
       "Name: count, dtype: int64"
      ]
     },
     "execution_count": 5,
     "metadata": {},
     "output_type": "execute_result"
    }
   ],
   "source": [
    "drivers_with_violations['experience_category'].value_counts()"
   ]
  },
  {
   "cell_type": "markdown",
   "id": "e3bb8573",
   "metadata": {},
   "source": [
    "Теперь из основного датасета присоединим погибших."
   ]
  },
  {
   "cell_type": "code",
   "execution_count": 22,
   "id": "62debc00",
   "metadata": {},
   "outputs": [],
   "source": [
    "columns_of_interest = ['id', 'dead_count','light']\n",
    "dk_processed = pd.read_csv('/Users/juliagrebeneva/Desktop/dk_processed.csv', usecols=columns_of_interest)\n"
   ]
  },
  {
   "cell_type": "code",
   "execution_count": 7,
   "id": "c4cc7a3b",
   "metadata": {},
   "outputs": [],
   "source": [
    "#объединяем датасеты\n",
    "result = drivers_with_violations.merge(dk_processed, on = 'id', how = 'left')"
   ]
  },
  {
   "cell_type": "code",
   "execution_count": 8,
   "id": "effad08f",
   "metadata": {},
   "outputs": [
    {
     "data": {
      "text/html": [
       "<div>\n",
       "<style scoped>\n",
       "    .dataframe tbody tr th:only-of-type {\n",
       "        vertical-align: middle;\n",
       "    }\n",
       "\n",
       "    .dataframe tbody tr th {\n",
       "        vertical-align: top;\n",
       "    }\n",
       "\n",
       "    .dataframe thead th {\n",
       "        text-align: right;\n",
       "    }\n",
       "</style>\n",
       "<table border=\"1\" class=\"dataframe\">\n",
       "  <thead>\n",
       "    <tr style=\"text-align: right;\">\n",
       "      <th></th>\n",
       "      <th>id</th>\n",
       "      <th>experience_category</th>\n",
       "      <th>dead_count</th>\n",
       "    </tr>\n",
       "  </thead>\n",
       "  <tbody>\n",
       "    <tr>\n",
       "      <th>0</th>\n",
       "      <td>2921076</td>\n",
       "      <td>0</td>\n",
       "      <td>1</td>\n",
       "    </tr>\n",
       "    <tr>\n",
       "      <th>1</th>\n",
       "      <td>2442272</td>\n",
       "      <td>1</td>\n",
       "      <td>0</td>\n",
       "    </tr>\n",
       "    <tr>\n",
       "      <th>2</th>\n",
       "      <td>2434823</td>\n",
       "      <td>1</td>\n",
       "      <td>0</td>\n",
       "    </tr>\n",
       "  </tbody>\n",
       "</table>\n",
       "</div>"
      ],
      "text/plain": [
       "        id  experience_category  dead_count\n",
       "0  2921076                    0           1\n",
       "1  2442272                    1           0\n",
       "2  2434823                    1           0"
      ]
     },
     "execution_count": 8,
     "metadata": {},
     "output_type": "execute_result"
    }
   ],
   "source": [
    "result.head(3)"
   ]
  },
  {
   "cell_type": "code",
   "execution_count": 9,
   "id": "a523be68",
   "metadata": {},
   "outputs": [
    {
     "data": {
      "text/html": [
       "<div>\n",
       "<style scoped>\n",
       "    .dataframe tbody tr th:only-of-type {\n",
       "        vertical-align: middle;\n",
       "    }\n",
       "\n",
       "    .dataframe tbody tr th {\n",
       "        vertical-align: top;\n",
       "    }\n",
       "\n",
       "    .dataframe thead th {\n",
       "        text-align: right;\n",
       "    }\n",
       "</style>\n",
       "<table border=\"1\" class=\"dataframe\">\n",
       "  <thead>\n",
       "    <tr style=\"text-align: right;\">\n",
       "      <th></th>\n",
       "      <th>count</th>\n",
       "      <th>max</th>\n",
       "      <th>mean</th>\n",
       "      <th>sum</th>\n",
       "    </tr>\n",
       "    <tr>\n",
       "      <th>experience_category</th>\n",
       "      <th></th>\n",
       "      <th></th>\n",
       "      <th></th>\n",
       "      <th></th>\n",
       "    </tr>\n",
       "  </thead>\n",
       "  <tbody>\n",
       "    <tr>\n",
       "      <th>0</th>\n",
       "      <td>169641</td>\n",
       "      <td>16</td>\n",
       "      <td>0.095873</td>\n",
       "      <td>16264</td>\n",
       "    </tr>\n",
       "    <tr>\n",
       "      <th>1</th>\n",
       "      <td>162004</td>\n",
       "      <td>20</td>\n",
       "      <td>0.101460</td>\n",
       "      <td>16437</td>\n",
       "    </tr>\n",
       "  </tbody>\n",
       "</table>\n",
       "</div>"
      ],
      "text/plain": [
       "                      count  max      mean    sum\n",
       "experience_category                              \n",
       "0                    169641   16  0.095873  16264\n",
       "1                    162004   20  0.101460  16437"
      ]
     },
     "execution_count": 9,
     "metadata": {},
     "output_type": "execute_result"
    }
   ],
   "source": [
    "result.groupby('experience_category')['dead_count'].agg(['count','max','mean','sum'])"
   ]
  },
  {
   "cell_type": "code",
   "execution_count": 10,
   "id": "66b983d7",
   "metadata": {},
   "outputs": [
    {
     "name": "stdout",
     "output_type": "stream",
     "text": [
      "<class 'pandas.core.frame.DataFrame'>\n",
      "RangeIndex: 331645 entries, 0 to 331644\n",
      "Data columns (total 3 columns):\n",
      " #   Column               Non-Null Count   Dtype\n",
      "---  ------               --------------   -----\n",
      " 0   id                   331645 non-null  int64\n",
      " 1   experience_category  331645 non-null  int8 \n",
      " 2   dead_count           331645 non-null  int64\n",
      "dtypes: int64(2), int8(1)\n",
      "memory usage: 5.4 MB\n"
     ]
    }
   ],
   "source": [
    "result.info()"
   ]
  },
  {
   "cell_type": "markdown",
   "id": "0b05cf7a",
   "metadata": {},
   "source": [
    "По данным можно сказать, что разницы практически нет. В нашей выборке на 7 тысяч больше неопытных водителей, но при этом больше погибших в ДТП с опытными водителями."
   ]
  },
  {
   "cell_type": "code",
   "execution_count": 11,
   "id": "4d9a96f6",
   "metadata": {},
   "outputs": [
    {
     "data": {
      "text/html": [
       "<div>\n",
       "<style scoped>\n",
       "    .dataframe tbody tr th:only-of-type {\n",
       "        vertical-align: middle;\n",
       "    }\n",
       "\n",
       "    .dataframe tbody tr th {\n",
       "        vertical-align: top;\n",
       "    }\n",
       "\n",
       "    .dataframe thead th {\n",
       "        text-align: right;\n",
       "    }\n",
       "</style>\n",
       "<table border=\"1\" class=\"dataframe\">\n",
       "  <thead>\n",
       "    <tr style=\"text-align: right;\">\n",
       "      <th></th>\n",
       "      <th>experience_category</th>\n",
       "      <th>dead_count</th>\n",
       "    </tr>\n",
       "  </thead>\n",
       "  <tbody>\n",
       "    <tr>\n",
       "      <th>experience_category</th>\n",
       "      <td>1.000000</td>\n",
       "      <td>0.008868</td>\n",
       "    </tr>\n",
       "    <tr>\n",
       "      <th>dead_count</th>\n",
       "      <td>0.008868</td>\n",
       "      <td>1.000000</td>\n",
       "    </tr>\n",
       "  </tbody>\n",
       "</table>\n",
       "</div>"
      ],
      "text/plain": [
       "                     experience_category  dead_count\n",
       "experience_category             1.000000    0.008868\n",
       "dead_count                      0.008868    1.000000"
      ]
     },
     "execution_count": 11,
     "metadata": {},
     "output_type": "execute_result"
    }
   ],
   "source": [
    "# Посмотрим связь между числом погибших и статусом водителей.\n",
    "\n",
    "result[['experience_category','dead_count']].corr(method= 'spearman')"
   ]
  },
  {
   "cell_type": "code",
   "execution_count": 12,
   "id": "8fa83553",
   "metadata": {},
   "outputs": [
    {
     "data": {
      "text/plain": [
       "SpearmanrResult(correlation=0.008867602451579332, pvalue=3.2763998724678267e-07)"
      ]
     },
     "execution_count": 12,
     "metadata": {},
     "output_type": "execute_result"
    }
   ],
   "source": [
    "spearmanr(result[['experience_category','dead_count']])"
   ]
  },
  {
   "cell_type": "markdown",
   "id": "e8561149",
   "metadata": {},
   "source": [
    "Связь очень слабая."
   ]
  },
  {
   "cell_type": "markdown",
   "id": "5c1abe90",
   "metadata": {},
   "source": [
    "Создаем 2 датасета с опытными и неопытными водителями."
   ]
  },
  {
   "cell_type": "code",
   "execution_count": 13,
   "id": "32368365",
   "metadata": {},
   "outputs": [],
   "source": [
    "dr_new = result[result['experience_category'] == 0]\n"
   ]
  },
  {
   "cell_type": "code",
   "execution_count": 14,
   "id": "5487b4b0",
   "metadata": {},
   "outputs": [],
   "source": [
    "dr_ex = result[result['experience_category'] == 1]\n"
   ]
  },
  {
   "cell_type": "markdown",
   "id": "0b0cd22f",
   "metadata": {},
   "source": [
    "Теперь посмотрим соотношение между погибшими в ДТП у опытных и неопытных водителей внутри каждой группы"
   ]
  },
  {
   "cell_type": "code",
   "execution_count": 15,
   "id": "cca7f75c",
   "metadata": {},
   "outputs": [],
   "source": [
    "dead_new = len(dr_new[dr_new['dead_count'] != 0]['dead_count'])\n",
    "alive_new = len(dr_new[dr_new['dead_count'] == 0]['dead_count'])\n",
    "dead_ex = len(dr_ex[dr_ex['dead_count'] != 0]['dead_count'])\n",
    "alive_ex = len(dr_ex[dr_ex['dead_count'] == 0]['dead_count'])"
   ]
  },
  {
   "cell_type": "code",
   "execution_count": 16,
   "id": "7869a937",
   "metadata": {},
   "outputs": [
    {
     "name": "stdout",
     "output_type": "stream",
     "text": [
      "Новички\n",
      "    всего ДТП - 169641\n",
      "    ДТП с погибшими - 13065\n",
      "    ДТП без погибших  - 156576\n",
      "    Процент ДТП с погибшими 7.70%\n"
     ]
    }
   ],
   "source": [
    "print(f'Новички\\n\\\n",
    "    всего ДТП - {len(dr_new)}\\n\\\n",
    "    ДТП с погибшими - {dead_new}\\n\\\n",
    "    ДТП без погибших  - {alive_new}\\n\\\n",
    "    Процент ДТП с погибшими {dead_new/len(dr_new):.2%}')"
   ]
  },
  {
   "cell_type": "code",
   "execution_count": 17,
   "id": "d57ee76f",
   "metadata": {},
   "outputs": [
    {
     "name": "stdout",
     "output_type": "stream",
     "text": [
      "Опытные\n",
      "    всего ДТП - 162004\n",
      "    ДТП с погибшими - 13256\n",
      "    ДТП без погибших  - 148748\n",
      "    Процент ДТП с погибшими 8.18%\n"
     ]
    }
   ],
   "source": [
    "print(f'Опытные\\n\\\n",
    "    всего ДТП - {len(dr_ex)}\\n\\\n",
    "    ДТП с погибшими - {dead_ex}\\n\\\n",
    "    ДТП без погибших  - {alive_ex}\\n\\\n",
    "    Процент ДТП с погибшими {dead_ex/len(dr_ex):.2%}')"
   ]
  },
  {
   "cell_type": "markdown",
   "id": "a8c7511b",
   "metadata": {},
   "source": [
    "Проводим тесты."
   ]
  },
  {
   "cell_type": "code",
   "execution_count": 18,
   "id": "7fcf9b83",
   "metadata": {},
   "outputs": [],
   "source": [
    "alpha = .05 # критический уровень статистической значимости\n",
    "\n",
    "dead = np.array([dead_ex, dead_new])\n",
    "all_part = np.array([len(dr_ex),len(dr_new)])\n"
   ]
  },
  {
   "cell_type": "code",
   "execution_count": 19,
   "id": "4a2e9f4b",
   "metadata": {},
   "outputs": [],
   "source": [
    "def z_test(successes, trials, alpha):\n",
    "\n",
    "\n",
    "    alpha = alpha\n",
    "    successes = successes\n",
    "    trials = trials\n",
    "\n",
    "    # пропорция успехов в первой группе:\n",
    "    p1 = successes[0] / trials[0]\n",
    "\n",
    "    # пропорция успехов во второй группе:\n",
    "    p2 = successes[1] / trials[1]\n",
    "\n",
    "    # пропорция успехов в комбинированном датасете:\n",
    "    p_combined = (successes[0] + successes[1]) / (trials[0] + trials[1])\n",
    "\n",
    "    # разница пропорций в датасетах\n",
    "    difference = p1 - p2\n",
    "\n",
    "    # считаем статистику в ст.отклонениях стандартного нормального распределения\n",
    "    z_value = difference / mth.sqrt(p_combined * (1 - p_combined) *\n",
    "                                    (1 / trials[0] + 1 / trials[1]))\n",
    "\n",
    "    # задаем стандартное нормальное распределение (среднее 0, ст.отклонение 1)\n",
    "    distr = st.norm(0, 1)\n",
    "\n",
    "    p_value = (1 - distr.cdf(abs(z_value))) # гипотеза односторонняя поэтому без 2\n",
    "\n",
    "    print('p-значение: ', p_value)\n",
    "\n",
    "    if p_value < alpha:\n",
    "        print('Отвергаем нулевую гипотезу: доля с погибшими в ДТП c опытными водителями больше, есть значимая разница')\n",
    "    else:\n",
    "        print(\n",
    "            'Не получилось отвергнуть нулевую гипотезу, доля с погибшими в ДТП опытных водителей не больше'\n",
    "        )\n",
    "\n"
   ]
  },
  {
   "cell_type": "code",
   "execution_count": 20,
   "id": "84122102",
   "metadata": {},
   "outputs": [
    {
     "name": "stdout",
     "output_type": "stream",
     "text": [
      "p-значение:  1.5116416451910197e-07\n",
      "Отвергаем нулевую гипотезу: доля с погибшими в ДТП c опытными водителями больше, есть значимая разница\n"
     ]
    }
   ],
   "source": [
    "z_test(dead, all_part, alpha)"
   ]
  },
  {
   "cell_type": "code",
   "execution_count": 21,
   "id": "24b61d5d",
   "metadata": {},
   "outputs": [
    {
     "name": "stdout",
     "output_type": "stream",
     "text": [
      "p-значение:  1.4842744981664907e-05\n",
      "Нулевая гипотеза отвергнута\n"
     ]
    }
   ],
   "source": [
    "p_value = st.ttest_ind(dr_ex['dead_count'],\n",
    "                       dr_new['dead_count'],\n",
    "                       equal_var=False,\n",
    "                       alternative='greater')[1]\n",
    "\n",
    "print('p-значение: ', p_value)\n",
    "if p_value > alpha:\n",
    "    print('Не удалось отвергнуть нулевую гипотезу')\n",
    "else:\n",
    "    print('Нулевая гипотеза отвергнута')"
   ]
  },
  {
   "cell_type": "markdown",
   "id": "df7c3c06",
   "metadata": {},
   "source": [
    "Таким образом, можно сказать, что водители с опытом 4-6 опаснее в случае ДТП, но связь между погибшими и опытными водителями очень слабая."
   ]
  },
  {
   "cell_type": "markdown",
   "id": "36332c94",
   "metadata": {},
   "source": [
    "### В темное время суток отсутствие освещение делает ДТП опаснее.\n",
    "\n"
   ]
  },
  {
   "cell_type": "markdown",
   "id": "38b73083",
   "metadata": {},
   "source": [
    "Расматриваем только темное время суток!\n",
    "\n",
    "Гипотеза для t-test: В ДТП без освещение погибает не больше людей, чем с освещением. В ДТП без освещения погибших больше, чем с другими.\n",
    "\n",
    "Гипотезы для z-критерия: Доля ДТП без освещения с погибшими не превышает долю ДТП остальных, различия статитистически незначимы. Доля ДТП без освещения с погибшими выше доли ДТП остальных, различия статистически значимы.\n",
    "\n",
    "Что нужно сделать: \n",
    "- Выделить ДТП произошедшие в темное время суток;\n",
    "- Выделить ДТП с освещением;\n",
    "- Выделить ДТП без освещения;"
   ]
  },
  {
   "cell_type": "code",
   "execution_count": 23,
   "id": "2d1ed62c",
   "metadata": {},
   "outputs": [
    {
     "name": "stdout",
     "output_type": "stream",
     "text": [
      "<class 'pandas.core.frame.DataFrame'>\n",
      "RangeIndex: 1411646 entries, 0 to 1411645\n",
      "Data columns (total 3 columns):\n",
      " #   Column      Non-Null Count    Dtype \n",
      "---  ------      --------------    ----- \n",
      " 0   id          1411646 non-null  int64 \n",
      " 1   light       1411646 non-null  object\n",
      " 2   dead_count  1411646 non-null  int64 \n",
      "dtypes: int64(2), object(1)\n",
      "memory usage: 32.3+ MB\n"
     ]
    }
   ],
   "source": [
    "# загрузим основной датасет и посмотрим какие есть варианты освещения\n",
    "dk_processed.info()"
   ]
  },
  {
   "cell_type": "code",
   "execution_count": 24,
   "id": "cb7fae42",
   "metadata": {},
   "outputs": [
    {
     "data": {
      "text/plain": [
       "array(['Светлое время суток', 'В темное время суток, освещение включено',\n",
       "       'Сумерки', 'В темное время суток, освещение отсутствует',\n",
       "       'В темное время суток, освещение не включено', 'Не установлено'],\n",
       "      dtype=object)"
      ]
     },
     "execution_count": 24,
     "metadata": {},
     "output_type": "execute_result"
    }
   ],
   "source": [
    "dk_processed['light'].unique()"
   ]
  },
  {
   "cell_type": "code",
   "execution_count": 25,
   "id": "ab75a0f8",
   "metadata": {},
   "outputs": [],
   "source": [
    "dk_processed_light=dk_processed"
   ]
  },
  {
   "cell_type": "code",
   "execution_count": 26,
   "id": "1056f623",
   "metadata": {},
   "outputs": [],
   "source": [
    "# удаляем строки которые не относятся к темному времени\n",
    "dk_processed_light = dk_processed_light[(dk_processed_light['light'] != 'Светлое время суток') & (dk_processed_light['light'] != 'Сумерки')& (dk_processed['light'] != 'Не установлено')]\n",
    "# ставим 0 - освещение включено, 1 - освещение отключено/отсутсвует\n",
    "dk_processed_light['light_category'] = dk_processed_light['light'].apply(lambda x: 0 if x == 'В темное время суток, освещение включено' else 1).astype('int8')"
   ]
  },
  {
   "cell_type": "code",
   "execution_count": 27,
   "id": "048ade75",
   "metadata": {},
   "outputs": [
    {
     "data": {
      "text/plain": [
       "array(['В темное время суток, освещение включено',\n",
       "       'В темное время суток, освещение отсутствует',\n",
       "       'В темное время суток, освещение не включено'], dtype=object)"
      ]
     },
     "execution_count": 27,
     "metadata": {},
     "output_type": "execute_result"
    }
   ],
   "source": [
    "dk_processed_light['light'].unique()"
   ]
  },
  {
   "cell_type": "code",
   "execution_count": 28,
   "id": "f27d4b51",
   "metadata": {},
   "outputs": [
    {
     "data": {
      "text/html": [
       "<div>\n",
       "<style scoped>\n",
       "    .dataframe tbody tr th:only-of-type {\n",
       "        vertical-align: middle;\n",
       "    }\n",
       "\n",
       "    .dataframe tbody tr th {\n",
       "        vertical-align: top;\n",
       "    }\n",
       "\n",
       "    .dataframe thead th {\n",
       "        text-align: right;\n",
       "    }\n",
       "</style>\n",
       "<table border=\"1\" class=\"dataframe\">\n",
       "  <thead>\n",
       "    <tr style=\"text-align: right;\">\n",
       "      <th></th>\n",
       "      <th>count</th>\n",
       "      <th>max</th>\n",
       "      <th>mean</th>\n",
       "      <th>sum</th>\n",
       "    </tr>\n",
       "    <tr>\n",
       "      <th>light_category</th>\n",
       "      <th></th>\n",
       "      <th></th>\n",
       "      <th></th>\n",
       "      <th></th>\n",
       "    </tr>\n",
       "  </thead>\n",
       "  <tbody>\n",
       "    <tr>\n",
       "      <th>0</th>\n",
       "      <td>313170</td>\n",
       "      <td>17</td>\n",
       "      <td>0.085790</td>\n",
       "      <td>26867</td>\n",
       "    </tr>\n",
       "    <tr>\n",
       "      <th>1</th>\n",
       "      <td>174884</td>\n",
       "      <td>17</td>\n",
       "      <td>0.281209</td>\n",
       "      <td>49179</td>\n",
       "    </tr>\n",
       "  </tbody>\n",
       "</table>\n",
       "</div>"
      ],
      "text/plain": [
       "                 count  max      mean    sum\n",
       "light_category                              \n",
       "0               313170   17  0.085790  26867\n",
       "1               174884   17  0.281209  49179"
      ]
     },
     "execution_count": 28,
     "metadata": {},
     "output_type": "execute_result"
    }
   ],
   "source": [
    "dk_processed_light.groupby('light_category')['dead_count'].agg(['count','max','mean','sum'])"
   ]
  },
  {
   "cell_type": "code",
   "execution_count": 29,
   "id": "fbb3ae75",
   "metadata": {},
   "outputs": [
    {
     "name": "stdout",
     "output_type": "stream",
     "text": [
      "<class 'pandas.core.frame.DataFrame'>\n",
      "Index: 488054 entries, 1 to 1411641\n",
      "Data columns (total 4 columns):\n",
      " #   Column          Non-Null Count   Dtype \n",
      "---  ------          --------------   ----- \n",
      " 0   id              488054 non-null  int64 \n",
      " 1   light           488054 non-null  object\n",
      " 2   dead_count      488054 non-null  int64 \n",
      " 3   light_category  488054 non-null  int8  \n",
      "dtypes: int64(2), int8(1), object(1)\n",
      "memory usage: 15.4+ MB\n"
     ]
    }
   ],
   "source": [
    "dk_processed_light.info()"
   ]
  },
  {
   "cell_type": "markdown",
   "id": "cc9ba02a",
   "metadata": {},
   "source": [
    "Как мы видим на аварии без освещения приходится почти третья часть от всех ДТП, при этом число погибших в этих авариях почти в 2 раза больше, чем при освещении."
   ]
  },
  {
   "cell_type": "code",
   "execution_count": 30,
   "id": "c5cced5f",
   "metadata": {},
   "outputs": [
    {
     "data": {
      "text/html": [
       "<div>\n",
       "<style scoped>\n",
       "    .dataframe tbody tr th:only-of-type {\n",
       "        vertical-align: middle;\n",
       "    }\n",
       "\n",
       "    .dataframe tbody tr th {\n",
       "        vertical-align: top;\n",
       "    }\n",
       "\n",
       "    .dataframe thead th {\n",
       "        text-align: right;\n",
       "    }\n",
       "</style>\n",
       "<table border=\"1\" class=\"dataframe\">\n",
       "  <thead>\n",
       "    <tr style=\"text-align: right;\">\n",
       "      <th></th>\n",
       "      <th>light_category</th>\n",
       "      <th>dead_count</th>\n",
       "    </tr>\n",
       "  </thead>\n",
       "  <tbody>\n",
       "    <tr>\n",
       "      <th>light_category</th>\n",
       "      <td>1.000000</td>\n",
       "      <td>0.227565</td>\n",
       "    </tr>\n",
       "    <tr>\n",
       "      <th>dead_count</th>\n",
       "      <td>0.227565</td>\n",
       "      <td>1.000000</td>\n",
       "    </tr>\n",
       "  </tbody>\n",
       "</table>\n",
       "</div>"
      ],
      "text/plain": [
       "                light_category  dead_count\n",
       "light_category        1.000000    0.227565\n",
       "dead_count            0.227565    1.000000"
      ]
     },
     "execution_count": 30,
     "metadata": {},
     "output_type": "execute_result"
    }
   ],
   "source": [
    "#посмотрим на зависимость между числом погибших и наличием/отсутствием освещения\n",
    "dk_processed_light[['light_category','dead_count']].corr(method= 'spearman')"
   ]
  },
  {
   "cell_type": "code",
   "execution_count": 31,
   "id": "e40e77e3",
   "metadata": {},
   "outputs": [
    {
     "data": {
      "text/plain": [
       "SpearmanrResult(correlation=0.22756467464719587, pvalue=0.0)"
      ]
     },
     "execution_count": 31,
     "metadata": {},
     "output_type": "execute_result"
    }
   ],
   "source": [
    "spearmanr(dk_processed_light[['light_category','dead_count']])"
   ]
  },
  {
   "cell_type": "markdown",
   "id": "c9893a65",
   "metadata": {},
   "source": [
    "Есть слабая связь между этими двумя признаками. Создадим датасеты с ДТП со освещением и без."
   ]
  },
  {
   "cell_type": "code",
   "execution_count": 32,
   "id": "e575274d",
   "metadata": {},
   "outputs": [],
   "source": [
    "dr_lighting = dk_processed_light[dk_processed_light['light_category'] == 0]\n"
   ]
  },
  {
   "cell_type": "code",
   "execution_count": 33,
   "id": "8bb826eb",
   "metadata": {},
   "outputs": [],
   "source": [
    "dr_durk = dk_processed_light[dk_processed_light['light_category'] == 1]\n"
   ]
  },
  {
   "cell_type": "markdown",
   "id": "2ddc59c5",
   "metadata": {},
   "source": [
    "Теперь посмотрим соотношение между погибшими в ДТП с освещением и без внутри каждой группы."
   ]
  },
  {
   "cell_type": "code",
   "execution_count": 34,
   "id": "ba045287",
   "metadata": {},
   "outputs": [],
   "source": [
    "dead_lighting = len(dr_lighting[dr_lighting['dead_count'] != 0]['dead_count'])\n",
    "alive_lighting = len(dr_lighting[dr_lighting['dead_count'] == 0]['dead_count'])\n",
    "dead_durk = len(dr_durk[dr_durk['dead_count'] != 0]['dead_count'])\n",
    "alive_durk = len(dr_durk[dr_durk['dead_count'] == 0]['dead_count'])"
   ]
  },
  {
   "cell_type": "code",
   "execution_count": 35,
   "id": "5166d0b5",
   "metadata": {},
   "outputs": [
    {
     "name": "stdout",
     "output_type": "stream",
     "text": [
      "С освещением\n",
      "    всего ДТП - 313170\n",
      "    ДТП с пострадавшими - 24359\n",
      "    ДТП без пострадавших  - 288811\n",
      "    Процент ДТП с пострадавшими 7.78%\n"
     ]
    }
   ],
   "source": [
    "print(f'С освещением\\n\\\n",
    "    всего ДТП - {len(dr_lighting)}\\n\\\n",
    "    ДТП с пострадавшими - {dead_lighting}\\n\\\n",
    "    ДТП без пострадавших  - {alive_lighting}\\n\\\n",
    "    Процент ДТП с пострадавшими {dead_lighting/len(dr_lighting):.2%}')"
   ]
  },
  {
   "cell_type": "code",
   "execution_count": 36,
   "id": "3108375e",
   "metadata": {},
   "outputs": [
    {
     "name": "stdout",
     "output_type": "stream",
     "text": [
      "Без освещения\n",
      "    всего ДТП - 174884\n",
      "    ДТП с погибшими - 41931\n",
      "    ДТП без погибших  - 132953\n",
      "    Процент ДТП с погибшими 23.98%\n"
     ]
    }
   ],
   "source": [
    "print(f'Без освещения\\n\\\n",
    "    всего ДТП - {len(dr_durk)}\\n\\\n",
    "    ДТП с погибшими - {dead_durk}\\n\\\n",
    "    ДТП без погибших  - {alive_durk}\\n\\\n",
    "    Процент ДТП с погибшими {dead_durk/len(dr_durk):.2%}')"
   ]
  },
  {
   "cell_type": "markdown",
   "id": "9833691d",
   "metadata": {},
   "source": [
    "Проведем тесты."
   ]
  },
  {
   "cell_type": "code",
   "execution_count": 37,
   "id": "3fc36e5c",
   "metadata": {},
   "outputs": [],
   "source": [
    "dead = np.array([dead_durk, dead_lighting])\n",
    "all_part = np.array([len(dr_durk),len(dr_lighting)])"
   ]
  },
  {
   "cell_type": "code",
   "execution_count": 38,
   "id": "433bd12f",
   "metadata": {},
   "outputs": [],
   "source": [
    "def z_test(successes, trials, alpha):\n",
    "\n",
    "\n",
    "    alpha = alpha\n",
    "    successes = successes\n",
    "    trials = trials\n",
    "\n",
    "    # пропорция успехов в первой группе:\n",
    "    p1 = successes[0] / trials[0]\n",
    "\n",
    "    # пропорция успехов во второй группе:\n",
    "    p2 = successes[1] / trials[1]\n",
    "\n",
    "    # пропорция успехов в комбинированном датасете:\n",
    "    p_combined = (successes[0] + successes[1]) / (trials[0] + trials[1])\n",
    "\n",
    "    # разница пропорций в датасетах\n",
    "    difference = p1 - p2\n",
    "\n",
    "    # считаем статистику в ст.отклонениях стандартного нормального распределения\n",
    "    z_value = difference / mth.sqrt(p_combined * (1 - p_combined) *\n",
    "                                    (1 / trials[0] + 1 / trials[1]))\n",
    "\n",
    "    # задаем стандартное нормальное распределение (среднее 0, ст.отклонение 1)\n",
    "    distr = st.norm(0, 1)\n",
    "\n",
    "    p_value = (1 - distr.cdf(abs(z_value))) # гипотеза односторонняя поэтому без 2\n",
    "\n",
    "    print('p-значение: ', p_value)\n",
    "\n",
    "    if p_value < alpha:\n",
    "        print('Отвергаем нулевую гипотезу: доля с погибшими в ДТП без освещения больше, есть значимая разница')\n",
    "    else:\n",
    "        print(\n",
    "            'Не получилось отвергнуть нулевую гипотезу, доля с погибшими в ДТП без освещения не больше'\n",
    "        )\n",
    "\n"
   ]
  },
  {
   "cell_type": "code",
   "execution_count": 39,
   "id": "12a45546",
   "metadata": {},
   "outputs": [
    {
     "name": "stdout",
     "output_type": "stream",
     "text": [
      "p-значение:  0.0\n",
      "Отвергаем нулевую гипотезу: доля с погибшими в ДТП без освещения больше, есть значимая разница\n"
     ]
    }
   ],
   "source": [
    "z_test(dead, all_part, alpha)"
   ]
  },
  {
   "cell_type": "code",
   "execution_count": 40,
   "id": "e19bc0a9",
   "metadata": {},
   "outputs": [
    {
     "name": "stdout",
     "output_type": "stream",
     "text": [
      "p-значение:  0.0\n",
      "Нулевая гипотеза отвергнута\n"
     ]
    }
   ],
   "source": [
    "p_value = st.ttest_ind(dr_durk['dead_count'],\n",
    "                       dr_lighting['dead_count'],\n",
    "                       equal_var=False,\n",
    "                       alternative='greater')[1]\n",
    "\n",
    "print('p-значение: ', p_value)\n",
    "if p_value > alpha:\n",
    "    print('Не удалось отвергнуть нулевую гипотезу')\n",
    "else:\n",
    "    print('Нулевая гипотеза отвергнута')"
   ]
  },
  {
   "cell_type": "markdown",
   "id": "89a60362",
   "metadata": {},
   "source": [
    "Можем удтверждать, что ДТП без освещения опаснее. Связь не высокая, поэтому могут быть и другие факторы."
   ]
  },
  {
   "cell_type": "markdown",
   "id": "8241eb31",
   "metadata": {},
   "source": [
    "### Большой транпорт опаснее (тип)\n"
   ]
  },
  {
   "cell_type": "markdown",
   "id": "573ee6fc",
   "metadata": {},
   "source": [
    "Гипотеза для t-test: В ДТП с большим траспортом погибает не больше людей, чем с легковым. В ДТП с большим транспортом погибших больше, чем с легковым.\n",
    "\n",
    "Гипотезы для z-критерия: Доля ДТП с большим транспортом с погибшими не превышает долю ДТП остальных, различия статитистически незначимы. Доля ДТП с большим транспортом с погибшими выше доли ДТП остальных, различия статистически значимы.\n",
    "\n",
    "Что нужно сделать: \n",
    "- Выделить все автомобили, участвующие в ДТП;\n",
    "- Выделить ДТП с легковыми автомобилями;\n",
    "- Выделить ДТП с большим транспортом;"
   ]
  },
  {
   "cell_type": "code",
   "execution_count": 42,
   "id": "118cb54b",
   "metadata": {},
   "outputs": [
    {
     "data": {
      "text/html": [
       "<div>\n",
       "<style scoped>\n",
       "    .dataframe tbody tr th:only-of-type {\n",
       "        vertical-align: middle;\n",
       "    }\n",
       "\n",
       "    .dataframe tbody tr th {\n",
       "        vertical-align: top;\n",
       "    }\n",
       "\n",
       "    .dataframe thead th {\n",
       "        text-align: right;\n",
       "    }\n",
       "</style>\n",
       "<table border=\"1\" class=\"dataframe\">\n",
       "  <thead>\n",
       "    <tr style=\"text-align: right;\">\n",
       "      <th></th>\n",
       "      <th>id</th>\n",
       "      <th>year</th>\n",
       "      <th>brand</th>\n",
       "      <th>color</th>\n",
       "      <th>model</th>\n",
       "      <th>category</th>\n",
       "      <th>driver_gender</th>\n",
       "      <th>driver_violations</th>\n",
       "      <th>driver_years_of_driving_experience</th>\n",
       "    </tr>\n",
       "  </thead>\n",
       "  <tbody>\n",
       "    <tr>\n",
       "      <th>0</th>\n",
       "      <td>2921076</td>\n",
       "      <td>2019.0</td>\n",
       "      <td>ГАЗ</td>\n",
       "      <td>Белый</td>\n",
       "      <td>Прочие модели ГАЗ</td>\n",
       "      <td>Прочая спецтехника</td>\n",
       "      <td>Мужской</td>\n",
       "      <td>['Неправильный выбор дистанции', 'Несоблюдение...</td>\n",
       "      <td>3.0</td>\n",
       "    </tr>\n",
       "    <tr>\n",
       "      <th>1</th>\n",
       "      <td>2921076</td>\n",
       "      <td>2014.0</td>\n",
       "      <td>ВАЗ</td>\n",
       "      <td>Белый</td>\n",
       "      <td>Largus (Ларгус)</td>\n",
       "      <td>Прочие легковые автомобили</td>\n",
       "      <td>Мужской</td>\n",
       "      <td>[]</td>\n",
       "      <td>48.0</td>\n",
       "    </tr>\n",
       "    <tr>\n",
       "      <th>2</th>\n",
       "      <td>2442272</td>\n",
       "      <td>1982.0</td>\n",
       "      <td>VOLVO</td>\n",
       "      <td>Белый</td>\n",
       "      <td>Прочие модели Volvo</td>\n",
       "      <td>Прочие одноярусные</td>\n",
       "      <td>Мужской</td>\n",
       "      <td>[]</td>\n",
       "      <td>16.0</td>\n",
       "    </tr>\n",
       "    <tr>\n",
       "      <th>3</th>\n",
       "      <td>2442272</td>\n",
       "      <td>2005.0</td>\n",
       "      <td>Прочие марки мотоциклов</td>\n",
       "      <td>Белый</td>\n",
       "      <td>Прочие марки мотоциклов</td>\n",
       "      <td>Мопеды с двигателем внутреннего сгорания менее...</td>\n",
       "      <td>Мужской</td>\n",
       "      <td>['Неправильный выбор дистанции']</td>\n",
       "      <td>6.0</td>\n",
       "    </tr>\n",
       "    <tr>\n",
       "      <th>4</th>\n",
       "      <td>2442272</td>\n",
       "      <td>2017.0</td>\n",
       "      <td>RENAULT</td>\n",
       "      <td>Белый</td>\n",
       "      <td>Logan</td>\n",
       "      <td>В-класс (малый) до 3,9 м</td>\n",
       "      <td>Мужской</td>\n",
       "      <td>[]</td>\n",
       "      <td>4.0</td>\n",
       "    </tr>\n",
       "  </tbody>\n",
       "</table>\n",
       "</div>"
      ],
      "text/plain": [
       "        id    year                    brand  color                    model  \\\n",
       "0  2921076  2019.0                      ГАЗ  Белый        Прочие модели ГАЗ   \n",
       "1  2921076  2014.0                      ВАЗ  Белый          Largus (Ларгус)   \n",
       "2  2442272  1982.0                    VOLVO  Белый      Прочие модели Volvo   \n",
       "3  2442272  2005.0  Прочие марки мотоциклов  Белый  Прочие марки мотоциклов   \n",
       "4  2442272  2017.0                  RENAULT  Белый                    Logan   \n",
       "\n",
       "                                            category driver_gender  \\\n",
       "0                                 Прочая спецтехника       Мужской   \n",
       "1                         Прочие легковые автомобили       Мужской   \n",
       "2                                 Прочие одноярусные       Мужской   \n",
       "3  Мопеды с двигателем внутреннего сгорания менее...       Мужской   \n",
       "4                           В-класс (малый) до 3,9 м       Мужской   \n",
       "\n",
       "                                   driver_violations  \\\n",
       "0  ['Неправильный выбор дистанции', 'Несоблюдение...   \n",
       "1                                                 []   \n",
       "2                                                 []   \n",
       "3                   ['Неправильный выбор дистанции']   \n",
       "4                                                 []   \n",
       "\n",
       "   driver_years_of_driving_experience  \n",
       "0                                 3.0  \n",
       "1                                48.0  \n",
       "2                                16.0  \n",
       "3                                 6.0  \n",
       "4                                 4.0  "
      ]
     },
     "execution_count": 42,
     "metadata": {},
     "output_type": "execute_result"
    }
   ],
   "source": [
    "# смотрим на наш датасет с автомобилями\n",
    "drivers_info_df_processed.head(5)"
   ]
  },
  {
   "cell_type": "code",
   "execution_count": 43,
   "id": "74f28e72",
   "metadata": {},
   "outputs": [],
   "source": [
    "# выделяем из датасета только id и category для дальнейшей категоризации\n",
    "drivers=drivers_info_df_processed[['id','category']]"
   ]
  },
  {
   "cell_type": "code",
   "execution_count": 44,
   "id": "22e88686",
   "metadata": {},
   "outputs": [
    {
     "data": {
      "text/plain": [
       "array(['Прочая спецтехника', 'Прочие легковые автомобили',\n",
       "       'Прочие одноярусные',\n",
       "       'Мопеды с двигателем внутреннего сгорания менее 50 см. куб.',\n",
       "       'В-класс (малый) до 3,9 м',\n",
       "       'С-класс (малый средний, компактный) до 4,3 м',\n",
       "       'D-класс (средний) до 4,6 м', 'Фургоны', 'Троллейбусы',\n",
       "       'Одноэтажные длиной от 5 до 8 м',\n",
       "       'Минивэны и универсалы повышенной вместимости',\n",
       "       'Бортовые грузовые автомобили', 'Одноэтажные длиной не более 5 м',\n",
       "       'Мопеды с электродвигателем менее 4 кВт',\n",
       "       'Е-класс (высший средний, бизнес-класс) до 4,9 м', 'Самосвалы',\n",
       "       'А-класс (особо малый) до 3,5 м',\n",
       "       'Одноэтажные длиной от 8 до 12 м', 'Седельные тягачи', 'Мотоциклы',\n",
       "       'Иные ТС', 'Прочие грузовые автомобили', 'Велосипеды',\n",
       "       'Транспортные средства оперативно-служебные для перевозки лиц, находящихся под стражей',\n",
       "       'Легковые автомобили (без типа)', 'Бортовые',\n",
       "       'Автобусы (без типа)', 'Цистерны',\n",
       "       'Автомобили скорой медицинской помощи', 'Автоэвакуаторы',\n",
       "       'Рефрижераторы',\n",
       "       'Мопеды с двигателем внутреннего сгорания более 50 см. куб.',\n",
       "       'Иные мототранспортные средства', 'Трамваи',\n",
       "       'Транспортные средства для перевозки нефтепродуктов',\n",
       "       'Мотороллеры',\n",
       "       'Оснащённые специализированным оборудованием  автотранспортные средства для коммунального хозяйства и  содержания дорог',\n",
       "       'Автогрейдеры', 'Тракторы', 'Тягачи', 'Автобетоносмесители',\n",
       "       'Автоцементовозы', 'Подвижной состав ж/д', 'Экскаваторы',\n",
       "       'S-класс (высший, представительский класс) более 4,9 м', 'Шасси',\n",
       "       'Прочие', 'Прочие одноэтажные',\n",
       "       'Транспортные средства для перевозки денежной выручки и ценных грузов',\n",
       "       'Медицинские комплексы на шасси транспортных средств',\n",
       "       'Автокраны и транспортные средства, оснащенные кранами-манипуляторами',\n",
       "       'Квадроциклы', 'Грузовые автомобили (без типа)',\n",
       "       'Пожарные автомобили',\n",
       "       'Персональное электрическое средство передвижения малой мощности',\n",
       "       'Иные дорожно-строительные и дорожно-эксплуатационные машины и механизмы',\n",
       "       'Самоходные машины и механизмы сельскохозяйственного назначения',\n",
       "       'Бульдозеры', 'Мототранспорт (без типа)', 'Спецтехника (без типа)',\n",
       "       'Специализированная техника военного назначения',\n",
       "       'Фронтальные погрузчики',\n",
       "       'Транспортные средства для обслуживания нефтяных и  газовых скважин',\n",
       "       'Спортивные (гоночные)', 'Боевая техника',\n",
       "       'Прочие Типы ТС (без типа)',\n",
       "       'Одноэтажные, сочлененные длиной более 12 м', 'Гужевой транспорт',\n",
       "       'Прочие самоходные машины и механизмы', 'Мотовелосипеды',\n",
       "       'Трициклы',\n",
       "       'Транспортные средства для перевозки пищевых жидкостей',\n",
       "       'Автобетононасосы', 'Двухэтажные',\n",
       "       'Транспортные средства для перевозки сжиженных углеводородных газов на давление до 1,8 Мпа',\n",
       "       'Самоходные мотоблоки', 'Квадрициклы',\n",
       "       'Оснащённые специализированным оборудованием автотранспортные средства аварийно-спасательных служб и полиции',\n",
       "       'Специализированная снегоуборочная техника', 'Автолесовозы',\n",
       "       'Снегоходы',\n",
       "       'Транспортные средства, оснащенные подъемниками с рабочими платформами',\n",
       "       'Школьные автобусы', 'Мотоколяски',\n",
       "       'Специализированная техника МВД', 'Не установлено (без типа)',\n",
       "       'Карьерные самосвалы', 'Мотонарты, аэросани',\n",
       "       'Полуприцепы-фургоны', 'Транспортные средства для перевозки детей',\n",
       "       'Автогудронаторы',\n",
       "       'Транспортные средства для перевозки длинномерных грузов',\n",
       "       'Двухярусные',\n",
       "       'Специализированная техника аварийно-спасательного назначения',\n",
       "       'Не установлено', 'Автодома', 'Прицепы тракторные', 'Электробусы'],\n",
       "      dtype=object)"
      ]
     },
     "execution_count": 44,
     "metadata": {},
     "output_type": "execute_result"
    }
   ],
   "source": [
    "drivers['category'].unique()"
   ]
  },
  {
   "cell_type": "markdown",
   "id": "51012c7a",
   "metadata": {},
   "source": [
    "Сделаем следующую категоризацию:\n",
    "\n",
    "Легковые автомобили: 'С-класс (малый средний, компактный) до 4,3 м', 'D-класс (средний) до 4,6 м', 'Е-класс (высший средний, бизнес-класс) до 4,9 м', 'Легковые автомобили (без типа)', 'Спортивные (гоночные)'\n",
    "\n",
    "Грузовые автомобили: 'Фургоны', 'Бортовые грузовые автомобили', 'Седельные тягачи', 'Самосвалы', 'Прочие грузовые автомобили', 'Грузовые автомобили (без типа)'\n",
    "\n",
    "Автобусы и трамваи: 'Автобусы (без типа)', 'Троллейбусы', 'Трамваи', 'Школьные автобусы'\n",
    "\n",
    "Специализированная техника: 'Прочая спецтехника', 'Медицинские комплексы на шасси транспортных средств', 'Транспортные средства для обслуживания нефтяных и газовых скважин', 'Специализированная техника военного назначения', 'Специализированная техника МВД', 'Специализированная снегоуборочная техника'\n",
    "\n",
    "Мототранспорт: 'Мопеды с двигателем внутреннего сгорания менее 50 см. куб.', 'Мопеды с двигателем внутреннего сгорания более 50 см. куб.', 'Мотоциклы', 'Мотороллеры', 'Иные мототранспортные средства', 'Мотонарты, аэросани', 'Мотовелосипеды', 'Трициклы', 'Квадроциклы', 'Квадрициклы', 'Мотонарты, аэросани'\n",
    "\n",
    "Прочие: Все остальные категории, которые не вошли в вышеуказанные группы.\n",
    "\n",
    "Для нашей гипотезы будем сравнивать легковые автомобили - 1, Грузовые автомобили и Специализированная техника - 0, остальной транспорт не рассматриваем."
   ]
  },
  {
   "cell_type": "code",
   "execution_count": 45,
   "id": "47513295",
   "metadata": {},
   "outputs": [],
   "source": [
    "def map_vehicle_category(category):\n",
    "    passenger_cars = ['С-класс (малый средний, компактный) до 4,3 м', 'D-класс (средний) до 4,6 м', 'Е-класс (высший средний, бизнес-класс) до 4,9 м', 'Легковые автомобили (без типа)', 'Спортивные (гоночные)']\n",
    "    commercial_vehicles = ['Фургоны', 'Бортовые грузовые автомобили', 'Седельные тягачи', 'Самосвалы', 'Прочие грузовые автомобили', 'Грузовые автомобили (без типа)','Прочая спецтехника', 'Медицинские комплексы на шасси транспортных средств', 'Транспортные средства для обслуживания нефтяных и газовых скважин', 'Специализированная техника военного назначения', 'Специализированная техника МВД', 'Специализированная снегоуборочная техника']\n",
    "    \n",
    "    if category in passenger_cars:\n",
    "        return 1\n",
    "    elif category in commercial_vehicles:\n",
    "        return 0\n",
    "    else:\n",
    "        return 'NON'\n",
    "\n",
    "# Применяем функцию к столбцу 'category' и создаем новый столбец 'vehicle_category'\n",
    "drivers['vehicle_category'] = drivers['category'].apply(map_vehicle_category)\n"
   ]
  },
  {
   "cell_type": "code",
   "execution_count": 46,
   "id": "ac7f055c",
   "metadata": {},
   "outputs": [],
   "source": [
    "drivers = drivers[(drivers['vehicle_category'] != 'NON')]\n"
   ]
  },
  {
   "cell_type": "code",
   "execution_count": 47,
   "id": "e516c3af",
   "metadata": {},
   "outputs": [
    {
     "data": {
      "text/html": [
       "<div>\n",
       "<style scoped>\n",
       "    .dataframe tbody tr th:only-of-type {\n",
       "        vertical-align: middle;\n",
       "    }\n",
       "\n",
       "    .dataframe tbody tr th {\n",
       "        vertical-align: top;\n",
       "    }\n",
       "\n",
       "    .dataframe thead th {\n",
       "        text-align: right;\n",
       "    }\n",
       "</style>\n",
       "<table border=\"1\" class=\"dataframe\">\n",
       "  <thead>\n",
       "    <tr style=\"text-align: right;\">\n",
       "      <th></th>\n",
       "      <th>id</th>\n",
       "      <th>category</th>\n",
       "      <th>vehicle_category</th>\n",
       "    </tr>\n",
       "  </thead>\n",
       "  <tbody>\n",
       "    <tr>\n",
       "      <th>0</th>\n",
       "      <td>2921076</td>\n",
       "      <td>Прочая спецтехника</td>\n",
       "      <td>0</td>\n",
       "    </tr>\n",
       "    <tr>\n",
       "      <th>5</th>\n",
       "      <td>2434809</td>\n",
       "      <td>С-класс (малый средний, компактный) до 4,3 м</td>\n",
       "      <td>1</td>\n",
       "    </tr>\n",
       "    <tr>\n",
       "      <th>7</th>\n",
       "      <td>2434807</td>\n",
       "      <td>D-класс (средний) до 4,6 м</td>\n",
       "      <td>1</td>\n",
       "    </tr>\n",
       "    <tr>\n",
       "      <th>8</th>\n",
       "      <td>2434806</td>\n",
       "      <td>D-класс (средний) до 4,6 м</td>\n",
       "      <td>1</td>\n",
       "    </tr>\n",
       "    <tr>\n",
       "      <th>9</th>\n",
       "      <td>2434823</td>\n",
       "      <td>С-класс (малый средний, компактный) до 4,3 м</td>\n",
       "      <td>1</td>\n",
       "    </tr>\n",
       "  </tbody>\n",
       "</table>\n",
       "</div>"
      ],
      "text/plain": [
       "        id                                      category vehicle_category\n",
       "0  2921076                            Прочая спецтехника                0\n",
       "5  2434809  С-класс (малый средний, компактный) до 4,3 м                1\n",
       "7  2434807                    D-класс (средний) до 4,6 м                1\n",
       "8  2434806                    D-класс (средний) до 4,6 м                1\n",
       "9  2434823  С-класс (малый средний, компактный) до 4,3 м                1"
      ]
     },
     "execution_count": 47,
     "metadata": {},
     "output_type": "execute_result"
    }
   ],
   "source": [
    "drivers.head()"
   ]
  },
  {
   "cell_type": "code",
   "execution_count": 49,
   "id": "9f44e8df",
   "metadata": {},
   "outputs": [],
   "source": [
    "drivers=drivers.drop_duplicates().reset_index(drop=True)"
   ]
  },
  {
   "cell_type": "code",
   "execution_count": 50,
   "id": "a412bd04",
   "metadata": {},
   "outputs": [
    {
     "name": "stdout",
     "output_type": "stream",
     "text": [
      "<class 'pandas.core.frame.DataFrame'>\n",
      "RangeIndex: 671547 entries, 0 to 671546\n",
      "Data columns (total 3 columns):\n",
      " #   Column            Non-Null Count   Dtype \n",
      "---  ------            --------------   ----- \n",
      " 0   id                671547 non-null  int64 \n",
      " 1   category          671547 non-null  object\n",
      " 2   vehicle_category  671547 non-null  object\n",
      "dtypes: int64(1), object(2)\n",
      "memory usage: 15.4+ MB\n"
     ]
    }
   ],
   "source": [
    "drivers.info()"
   ]
  },
  {
   "cell_type": "code",
   "execution_count": 51,
   "id": "8d76232c",
   "metadata": {},
   "outputs": [],
   "source": [
    "# к получившимуся датасету цепляем основной\n",
    "result = drivers.merge(dk_processed, on = 'id', how = 'left')"
   ]
  },
  {
   "cell_type": "code",
   "execution_count": 52,
   "id": "63b0de77",
   "metadata": {},
   "outputs": [
    {
     "name": "stdout",
     "output_type": "stream",
     "text": [
      "<class 'pandas.core.frame.DataFrame'>\n",
      "RangeIndex: 671547 entries, 0 to 671546\n",
      "Data columns (total 5 columns):\n",
      " #   Column            Non-Null Count   Dtype \n",
      "---  ------            --------------   ----- \n",
      " 0   id                671547 non-null  int64 \n",
      " 1   category          671547 non-null  object\n",
      " 2   vehicle_category  671547 non-null  object\n",
      " 3   light             671547 non-null  object\n",
      " 4   dead_count        671547 non-null  int64 \n",
      "dtypes: int64(2), object(3)\n",
      "memory usage: 25.6+ MB\n"
     ]
    }
   ],
   "source": [
    "result.info()"
   ]
  },
  {
   "cell_type": "code",
   "execution_count": 53,
   "id": "8859da44",
   "metadata": {},
   "outputs": [
    {
     "data": {
      "text/html": [
       "<div>\n",
       "<style scoped>\n",
       "    .dataframe tbody tr th:only-of-type {\n",
       "        vertical-align: middle;\n",
       "    }\n",
       "\n",
       "    .dataframe tbody tr th {\n",
       "        vertical-align: top;\n",
       "    }\n",
       "\n",
       "    .dataframe thead th {\n",
       "        text-align: right;\n",
       "    }\n",
       "</style>\n",
       "<table border=\"1\" class=\"dataframe\">\n",
       "  <thead>\n",
       "    <tr style=\"text-align: right;\">\n",
       "      <th></th>\n",
       "      <th>count</th>\n",
       "      <th>max</th>\n",
       "      <th>mean</th>\n",
       "      <th>sum</th>\n",
       "    </tr>\n",
       "    <tr>\n",
       "      <th>vehicle_category</th>\n",
       "      <th></th>\n",
       "      <th></th>\n",
       "      <th></th>\n",
       "      <th></th>\n",
       "    </tr>\n",
       "  </thead>\n",
       "  <tbody>\n",
       "    <tr>\n",
       "      <th>0</th>\n",
       "      <td>180605</td>\n",
       "      <td>17</td>\n",
       "      <td>0.235453</td>\n",
       "      <td>42524</td>\n",
       "    </tr>\n",
       "    <tr>\n",
       "      <th>1</th>\n",
       "      <td>490942</td>\n",
       "      <td>16</td>\n",
       "      <td>0.103318</td>\n",
       "      <td>50723</td>\n",
       "    </tr>\n",
       "  </tbody>\n",
       "</table>\n",
       "</div>"
      ],
      "text/plain": [
       "                   count  max      mean    sum\n",
       "vehicle_category                              \n",
       "0                 180605   17  0.235453  42524\n",
       "1                 490942   16  0.103318  50723"
      ]
     },
     "execution_count": 53,
     "metadata": {},
     "output_type": "execute_result"
    }
   ],
   "source": [
    "result.groupby('vehicle_category')['dead_count'].agg(['count','max','mean','sum'])"
   ]
  },
  {
   "cell_type": "code",
   "execution_count": 54,
   "id": "327ce71a",
   "metadata": {},
   "outputs": [
    {
     "name": "stdout",
     "output_type": "stream",
     "text": [
      "<class 'pandas.core.frame.DataFrame'>\n",
      "RangeIndex: 671547 entries, 0 to 671546\n",
      "Data columns (total 5 columns):\n",
      " #   Column            Non-Null Count   Dtype \n",
      "---  ------            --------------   ----- \n",
      " 0   id                671547 non-null  int64 \n",
      " 1   category          671547 non-null  object\n",
      " 2   vehicle_category  671547 non-null  object\n",
      " 3   light             671547 non-null  object\n",
      " 4   dead_count        671547 non-null  int64 \n",
      "dtypes: int64(2), object(3)\n",
      "memory usage: 25.6+ MB\n"
     ]
    }
   ],
   "source": [
    "result.info()"
   ]
  },
  {
   "cell_type": "markdown",
   "id": "4463f36d",
   "metadata": {},
   "source": [
    "Получается, что ДТП с большим траспортном составляют 4-ую часть от всех дтп, но в них погибает почти столько же человек, сколько в ДТП с лешковыми автомобилями."
   ]
  },
  {
   "cell_type": "code",
   "execution_count": 55,
   "id": "203ae8a3",
   "metadata": {},
   "outputs": [
    {
     "data": {
      "text/html": [
       "<div>\n",
       "<style scoped>\n",
       "    .dataframe tbody tr th:only-of-type {\n",
       "        vertical-align: middle;\n",
       "    }\n",
       "\n",
       "    .dataframe tbody tr th {\n",
       "        vertical-align: top;\n",
       "    }\n",
       "\n",
       "    .dataframe thead th {\n",
       "        text-align: right;\n",
       "    }\n",
       "</style>\n",
       "<table border=\"1\" class=\"dataframe\">\n",
       "  <thead>\n",
       "    <tr style=\"text-align: right;\">\n",
       "      <th></th>\n",
       "      <th>vehicle_category</th>\n",
       "      <th>dead_count</th>\n",
       "    </tr>\n",
       "  </thead>\n",
       "  <tbody>\n",
       "    <tr>\n",
       "      <th>vehicle_category</th>\n",
       "      <td>1.000000</td>\n",
       "      <td>-0.143545</td>\n",
       "    </tr>\n",
       "    <tr>\n",
       "      <th>dead_count</th>\n",
       "      <td>-0.143545</td>\n",
       "      <td>1.000000</td>\n",
       "    </tr>\n",
       "  </tbody>\n",
       "</table>\n",
       "</div>"
      ],
      "text/plain": [
       "                  vehicle_category  dead_count\n",
       "vehicle_category          1.000000   -0.143545\n",
       "dead_count               -0.143545    1.000000"
      ]
     },
     "execution_count": 55,
     "metadata": {},
     "output_type": "execute_result"
    }
   ],
   "source": [
    "result[['vehicle_category','dead_count']].corr(method= 'spearman')"
   ]
  },
  {
   "cell_type": "code",
   "execution_count": 56,
   "id": "0887c80c",
   "metadata": {},
   "outputs": [
    {
     "data": {
      "text/plain": [
       "SpearmanrResult(correlation=-0.14354534167184507, pvalue=0.0)"
      ]
     },
     "execution_count": 56,
     "metadata": {},
     "output_type": "execute_result"
    }
   ],
   "source": [
    "spearmanr(result[['vehicle_category','dead_count']])"
   ]
  },
  {
   "cell_type": "markdown",
   "id": "bc9e0528",
   "metadata": {},
   "source": [
    "Мы видим слабую отрицательную связь. Возможно сушествуют еще другие признаки.\n",
    "\n",
    "Создадим датасеты с большим и легковым трнспортом."
   ]
  },
  {
   "cell_type": "code",
   "execution_count": 58,
   "id": "6e24e692",
   "metadata": {},
   "outputs": [],
   "source": [
    "dr_big = result[result['vehicle_category'] == 0]"
   ]
  },
  {
   "cell_type": "code",
   "execution_count": 59,
   "id": "aa77f569",
   "metadata": {},
   "outputs": [],
   "source": [
    "dr_small = result[result['vehicle_category'] == 1]"
   ]
  },
  {
   "cell_type": "markdown",
   "id": "11dfee45",
   "metadata": {},
   "source": [
    "Теперь посмотрим соотношение между погибшими в ДТП c разными видами транспорта внутри каждой группы."
   ]
  },
  {
   "cell_type": "code",
   "execution_count": 60,
   "id": "873d8810",
   "metadata": {},
   "outputs": [],
   "source": [
    "dead_big = len(dr_big[dr_big['dead_count'] != 0]['dead_count'])\n",
    "alive_big = len(dr_big[dr_big['dead_count'] == 0]['dead_count'])\n",
    "dead_small = len(dr_small[dr_small['dead_count'] != 0]['dead_count'])\n",
    "alive_small = len(dr_small[dr_small['dead_count'] == 0]['dead_count'])"
   ]
  },
  {
   "cell_type": "markdown",
   "id": "fd555fc9",
   "metadata": {},
   "source": [
    "Посмотрим долю ДТП с погибшими."
   ]
  },
  {
   "cell_type": "code",
   "execution_count": 63,
   "id": "36d6b62e",
   "metadata": {},
   "outputs": [
    {
     "name": "stdout",
     "output_type": "stream",
     "text": [
      "Большие\n",
      "    всего ДТП - 180605\n",
      "    ДТП с погибшими - 33706\n",
      "    ДТП без погибших  - 146899\n",
      "    Процент ДТП с погибшими 18.66%\n"
     ]
    }
   ],
   "source": [
    "print(f'Большие\\n\\\n",
    "    всего ДТП - {len(dr_big)}\\n\\\n",
    "    ДТП с погибшими - {dead_big}\\n\\\n",
    "    ДТП без погибших  - {alive_big}\\n\\\n",
    "    Процент ДТП с погибшими {dead_big/len(dr_big):.2%}')"
   ]
  },
  {
   "cell_type": "code",
   "execution_count": 64,
   "id": "28545f2d",
   "metadata": {},
   "outputs": [
    {
     "name": "stdout",
     "output_type": "stream",
     "text": [
      "Легковые\n",
      "    всего ДТП - 490942\n",
      "    ДТП с погибшими - 41616\n",
      "    ДТП без погибших  - 449326\n",
      "    Процент ДТП с погибшими 8.48%\n"
     ]
    }
   ],
   "source": [
    "print(f'Легковые\\n\\\n",
    "    всего ДТП - {len(dr_small)}\\n\\\n",
    "    ДТП с погибшими - {dead_small}\\n\\\n",
    "    ДТП без погибших  - {alive_small}\\n\\\n",
    "    Процент ДТП с погибшими {dead_small/len(dr_small):.2%}')"
   ]
  },
  {
   "cell_type": "code",
   "execution_count": 65,
   "id": "408e5405",
   "metadata": {},
   "outputs": [],
   "source": [
    "alpha = .05 # критический уровень статистической значимости\n",
    "\n",
    "dead = np.array([dead_big, dead_small])\n",
    "all_part = np.array([len(dr_big),len(dr_small)])\n"
   ]
  },
  {
   "cell_type": "code",
   "execution_count": 66,
   "id": "cb0d112d",
   "metadata": {},
   "outputs": [],
   "source": [
    "def z_test(successes, trials, alpha):\n",
    "\n",
    "\n",
    "    alpha = alpha\n",
    "    successes = successes\n",
    "    trials = trials\n",
    "\n",
    "    # пропорция успехов в первой группе:\n",
    "    p1 = successes[0] / trials[0]\n",
    "\n",
    "    # пропорция успехов во второй группе:\n",
    "    p2 = successes[1] / trials[1]\n",
    "\n",
    "    # пропорция успехов в комбинированном датасете:\n",
    "    p_combined = (successes[0] + successes[1]) / (trials[0] + trials[1])\n",
    "\n",
    "    # разница пропорций в датасетах\n",
    "    difference = p1 - p2\n",
    "\n",
    "    # считаем статистику в ст.отклонениях стандартного нормального распределения\n",
    "    z_value = difference / mth.sqrt(p_combined * (1 - p_combined) *\n",
    "                                    (1 / trials[0] + 1 / trials[1]))\n",
    "\n",
    "    # задаем стандартное нормальное распределение (среднее 0, ст.отклонение 1)\n",
    "    distr = st.norm(0, 1)\n",
    "\n",
    "    p_value = (1 - distr.cdf(abs(z_value))) # гипотеза односторонняя поэтому без 2\n",
    "\n",
    "    print('p-значение: ', p_value)\n",
    "\n",
    "    if p_value < alpha:\n",
    "        print('Отвергаем нулевую гипотезу: доля с погибшими в ДТП на больших машинах больше, есть значимая разница')\n",
    "    else:\n",
    "        print(\n",
    "            'Не получилось отвергнуть нулевую гипотезу, доля с погибшими в ДТП на больших машинах не больше'\n",
    "        )\n"
   ]
  },
  {
   "cell_type": "code",
   "execution_count": 67,
   "id": "704fcd3e",
   "metadata": {},
   "outputs": [
    {
     "name": "stdout",
     "output_type": "stream",
     "text": [
      "p-значение:  0.0\n",
      "Отвергаем нулевую гипотезу: доля с погибшими в ДТП на больших машинах больше, есть значимая разница\n"
     ]
    }
   ],
   "source": [
    "z_test(dead, all_part, alpha)"
   ]
  },
  {
   "cell_type": "code",
   "execution_count": 69,
   "id": "3a2e0098",
   "metadata": {},
   "outputs": [
    {
     "name": "stdout",
     "output_type": "stream",
     "text": [
      "p-значение:  0.0\n",
      "Нулевая гипотеза отвергнута\n"
     ]
    }
   ],
   "source": [
    "p_value = st.ttest_ind(dr_big['dead_count'],\n",
    "                       dr_small['dead_count'],\n",
    "                       equal_var=False,\n",
    "                       alternative='greater')[1]\n",
    "\n",
    "print('p-значение: ', p_value)\n",
    "if p_value > alpha:\n",
    "    print('Не удалось отвергнуть нулевую гипотезу')\n",
    "else:\n",
    "    print('Нулевая гипотеза отвергнута')"
   ]
  },
  {
   "cell_type": "markdown",
   "id": "f529eb40",
   "metadata": {},
   "source": [
    "По результатам тестов, можно утверждать, что при ДТП с большим транспортом погибает больше людей, чем при ДТП с легковыми автомобилями."
   ]
  },
  {
   "cell_type": "code",
   "execution_count": null,
   "id": "5b13d5a6",
   "metadata": {},
   "outputs": [],
   "source": []
  },
  {
   "cell_type": "code",
   "execution_count": null,
   "id": "dcc44f7b",
   "metadata": {},
   "outputs": [],
   "source": []
  }
 ],
 "metadata": {
  "kernelspec": {
   "display_name": "Python 3 (ipykernel)",
   "language": "python",
   "name": "python3"
  },
  "language_info": {
   "codemirror_mode": {
    "name": "ipython",
    "version": 3
   },
   "file_extension": ".py",
   "mimetype": "text/x-python",
   "name": "python",
   "nbconvert_exporter": "python",
   "pygments_lexer": "ipython3",
   "version": "3.9.16"
  },
  "toc": {
   "base_numbering": 1,
   "nav_menu": {},
   "number_sections": true,
   "sideBar": true,
   "skip_h1_title": true,
   "title_cell": "Table of Contents",
   "title_sidebar": "Contents",
   "toc_cell": true,
   "toc_position": {
    "height": "calc(100% - 180px)",
    "left": "10px",
    "top": "150px",
    "width": "288px"
   },
   "toc_section_display": true,
   "toc_window_display": true
  }
 },
 "nbformat": 4,
 "nbformat_minor": 5
}
